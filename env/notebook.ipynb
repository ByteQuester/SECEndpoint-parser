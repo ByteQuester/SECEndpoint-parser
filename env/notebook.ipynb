{
 "cells": [
  {
   "cell_type": "code",
   "execution_count": 1,
   "metadata": {},
   "outputs": [],
   "source": [
    "from sec_api_client import SECAPIClient \n",
    "from data_wrangler import FinancialDataProcessor\n",
    "\n",
    "sec_client = SECAPIClient()\n",
    "data_processor = FinancialDataProcessor(sec_client)\n",
    "\n",
    "# Fetch only company facts\n",
    "cik_number = '0000012927'  \n",
    "company_facts = sec_client.fetch_company_facts(cik_number)\n",
    "\n",
    "processed_data = data_processor.process_data({'company_facts': company_facts})\n",
    "\n",
    "data = processed_data"
   ]
  },
  {
   "cell_type": "code",
   "execution_count": 2,
   "metadata": {},
   "outputs": [
    {
     "name": "stderr",
     "output_type": "stream",
     "text": [
      "Snowflake Connector for Python Version: 3.5.0, Python Version: 3.11.6, Platform: macOS-13.6.1-x86_64-i386-64bit\n",
      "This connection is in OCSP Fail Open Mode. TLS Certificates would be checked for validity and revocation status. Any other Certificate Revocation related exceptions or OCSP Responder failures would be disregarded in favor of connectivity.\n"
     ]
    }
   ],
   "source": [
    "from sw_flake import SnowflakeDataManager\n",
    "manager=SnowflakeDataManager()\n"
   ]
  },
  {
   "cell_type": "code",
   "execution_count": 3,
   "metadata": {},
   "outputs": [
    {
     "name": "stderr",
     "output_type": "stream",
     "text": [
      "query: [CREATE TABLE FINANCIAL_SCHEMA.TEST_TABLE ( EntityName VARCHAR(255), CIK INT, Met...]\n",
      "query execution done\n",
      "Error creating table: 002002 (42710): 01b0ca21-0000-c4b2-0001-6e2200010032: SQL compilation error:\n",
      "Object 'FINANCIAL_SCHEMA.TEST_TABLE' already exists.\n"
     ]
    }
   ],
   "source": [
    "manager.create_table('TEST_TABLE')"
   ]
  },
  {
   "cell_type": "code",
   "execution_count": 4,
   "metadata": {},
   "outputs": [
    {
     "data": {
      "text/plain": [
       "'@%test'"
      ]
     },
     "execution_count": 4,
     "metadata": {},
     "output_type": "execute_result"
    }
   ],
   "source": [
    "manager._generate_stage_name('test', 'COPY')"
   ]
  },
  {
   "cell_type": "code",
   "execution_count": 1,
   "metadata": {},
   "outputs": [
    {
     "ename": "NameError",
     "evalue": "name 'manager' is not defined",
     "output_type": "error",
     "traceback": [
      "\u001b[0;31m---------------------------------------------------------------------------\u001b[0m",
      "\u001b[0;31mNameError\u001b[0m                                 Traceback (most recent call last)",
      "\u001b[1;32m/Users/mpo/Projects/D3/Vizz/Defense Stock Investments/Data/SEC API/CIK Parser/env/notebook.ipynb Cell 5\u001b[0m line \u001b[0;36m1\n\u001b[0;32m----> <a href='vscode-notebook-cell:/Users/mpo/Projects/D3/Vizz/Defense%20Stock%20Investments/Data/SEC%20API/CIK%20Parser/env/notebook.ipynb#X12sZmlsZQ%3D%3D?line=0'>1</a>\u001b[0m manager\u001b[39m.\u001b[39mput_file_to_stage(\u001b[39m'\u001b[39m\u001b[39mdata/data.csv\u001b[39m\u001b[39m'\u001b[39m)\n",
      "\u001b[0;31mNameError\u001b[0m: name 'manager' is not defined"
     ]
    }
   ],
   "source": [
    "manager.put_file_to_stage('data/data.csv')\n"
   ]
  },
  {
   "cell_type": "code",
   "execution_count": 3,
   "metadata": {},
   "outputs": [
    {
     "name": "stderr",
     "output_type": "stream",
     "text": [
      "query: [PUT file://data/data.csv @%TEST_TABLE AUTO_COMPRESS=FALSE OVERWRITE=TRUE]\n",
      "query execution done\n",
      "query: [COPY INTO TEST_TABLE FROM @%TEST_TABLE FILE_FORMAT = (TYPE = 'CSV' FIELD_OPTIONA...]\n"
     ]
    },
    {
     "name": "stdout",
     "output_type": "stream",
     "text": [
      "File data/data.csv uploaded to stage @%TEST_TABLE\n"
     ]
    },
    {
     "name": "stderr",
     "output_type": "stream",
     "text": [
      "query execution done\n",
      "Number of results in first chunk: 1\n"
     ]
    },
    {
     "name": "stdout",
     "output_type": "stream",
     "text": [
      "Data copied from stage @%TEST_TABLE to table TEST_TABLE\n"
     ]
    }
   ],
   "source": [
    "manager.upload_data(data)"
   ]
  },
  {
   "cell_type": "code",
   "execution_count": 4,
   "metadata": {},
   "outputs": [
    {
     "name": "stderr",
     "output_type": "stream",
     "text": [
      "query: [SELECT EntityName AS Entity, CIK, End AS Date, ROUND(SUM(CASE WHEN Metric = 'Net...]\n",
      "query execution done\n",
      "Number of results in first chunk: 63\n"
     ]
    },
    {
     "data": {
      "text/html": [
       "<div>\n",
       "<style scoped>\n",
       "    .dataframe tbody tr th:only-of-type {\n",
       "        vertical-align: middle;\n",
       "    }\n",
       "\n",
       "    .dataframe tbody tr th {\n",
       "        vertical-align: top;\n",
       "    }\n",
       "\n",
       "    .dataframe thead th {\n",
       "        text-align: right;\n",
       "    }\n",
       "</style>\n",
       "<table border=\"1\" class=\"dataframe\">\n",
       "  <thead>\n",
       "    <tr style=\"text-align: right;\">\n",
       "      <th></th>\n",
       "      <th>ENTITY</th>\n",
       "      <th>CIK</th>\n",
       "      <th>DATE</th>\n",
       "      <th>NETINCOMELOSS</th>\n",
       "      <th>REVENUES</th>\n",
       "      <th>OPERATINGINCOMELOSS</th>\n",
       "      <th>PROFITMARGINPERCENT</th>\n",
       "      <th>QUARTER</th>\n",
       "    </tr>\n",
       "  </thead>\n",
       "  <tbody>\n",
       "    <tr>\n",
       "      <th>0</th>\n",
       "      <td>THE BOEING COMPANY</td>\n",
       "      <td>12927</td>\n",
       "      <td>2007-12-31</td>\n",
       "      <td>36666.0</td>\n",
       "      <td>597483.0</td>\n",
       "      <td>52470.0</td>\n",
       "      <td>6.14</td>\n",
       "      <td>Q4-2007</td>\n",
       "    </tr>\n",
       "    <tr>\n",
       "      <th>1</th>\n",
       "      <td>THE BOEING COMPANY</td>\n",
       "      <td>12927</td>\n",
       "      <td>2008-06-30</td>\n",
       "      <td>26235.0</td>\n",
       "      <td>449226.0</td>\n",
       "      <td>38637.0</td>\n",
       "      <td>5.84</td>\n",
       "      <td>Q2-2008</td>\n",
       "    </tr>\n",
       "    <tr>\n",
       "      <th>2</th>\n",
       "      <td>THE BOEING COMPANY</td>\n",
       "      <td>12927</td>\n",
       "      <td>2008-09-30</td>\n",
       "      <td>31077.0</td>\n",
       "      <td>571842.0</td>\n",
       "      <td>48060.0</td>\n",
       "      <td>5.43</td>\n",
       "      <td>Q3-2008</td>\n",
       "    </tr>\n",
       "    <tr>\n",
       "      <th>3</th>\n",
       "      <td>THE BOEING COMPANY</td>\n",
       "      <td>12927</td>\n",
       "      <td>2008-12-31</td>\n",
       "      <td>48096.0</td>\n",
       "      <td>1096362.0</td>\n",
       "      <td>71100.0</td>\n",
       "      <td>4.39</td>\n",
       "      <td>Q4-2008</td>\n",
       "    </tr>\n",
       "    <tr>\n",
       "      <th>4</th>\n",
       "      <td>THE BOEING COMPANY</td>\n",
       "      <td>12927</td>\n",
       "      <td>2009-03-31</td>\n",
       "      <td>10980.0</td>\n",
       "      <td>297036.0</td>\n",
       "      <td>18450.0</td>\n",
       "      <td>3.70</td>\n",
       "      <td>Q1-2009</td>\n",
       "    </tr>\n",
       "    <tr>\n",
       "      <th>5</th>\n",
       "      <td>THE BOEING COMPANY</td>\n",
       "      <td>12927</td>\n",
       "      <td>2009-06-30</td>\n",
       "      <td>55890.0</td>\n",
       "      <td>1068966.0</td>\n",
       "      <td>87255.0</td>\n",
       "      <td>5.23</td>\n",
       "      <td>Q2-2009</td>\n",
       "    </tr>\n",
       "    <tr>\n",
       "      <th>6</th>\n",
       "      <td>THE BOEING COMPANY</td>\n",
       "      <td>12927</td>\n",
       "      <td>2009-09-30</td>\n",
       "      <td>-41436.0</td>\n",
       "      <td>1356768.0</td>\n",
       "      <td>-50823.0</td>\n",
       "      <td>-3.05</td>\n",
       "      <td>Q3-2009</td>\n",
       "    </tr>\n",
       "    <tr>\n",
       "      <th>7</th>\n",
       "      <td>THE BOEING COMPANY</td>\n",
       "      <td>12927</td>\n",
       "      <td>2009-12-31</td>\n",
       "      <td>46836.0</td>\n",
       "      <td>2005020.0</td>\n",
       "      <td>71829.0</td>\n",
       "      <td>2.34</td>\n",
       "      <td>Q4-2009</td>\n",
       "    </tr>\n",
       "    <tr>\n",
       "      <th>8</th>\n",
       "      <td>THE BOEING COMPANY</td>\n",
       "      <td>12927</td>\n",
       "      <td>2010-03-31</td>\n",
       "      <td>18684.0</td>\n",
       "      <td>547776.0</td>\n",
       "      <td>42264.0</td>\n",
       "      <td>3.41</td>\n",
       "      <td>Q1-2010</td>\n",
       "    </tr>\n",
       "    <tr>\n",
       "      <th>9</th>\n",
       "      <td>THE BOEING COMPANY</td>\n",
       "      <td>12927</td>\n",
       "      <td>2010-06-30</td>\n",
       "      <td>51840.0</td>\n",
       "      <td>1114830.0</td>\n",
       "      <td>91710.0</td>\n",
       "      <td>4.65</td>\n",
       "      <td>Q2-2010</td>\n",
       "    </tr>\n",
       "    <tr>\n",
       "      <th>10</th>\n",
       "      <td>THE BOEING COMPANY</td>\n",
       "      <td>12927</td>\n",
       "      <td>2010-09-30</td>\n",
       "      <td>68706.0</td>\n",
       "      <td>1470420.0</td>\n",
       "      <td>119556.0</td>\n",
       "      <td>4.67</td>\n",
       "      <td>Q3-2010</td>\n",
       "    </tr>\n",
       "    <tr>\n",
       "      <th>11</th>\n",
       "      <td>THE BOEING COMPANY</td>\n",
       "      <td>12927</td>\n",
       "      <td>2010-12-31</td>\n",
       "      <td>110241.0</td>\n",
       "      <td>2034162.0</td>\n",
       "      <td>154071.0</td>\n",
       "      <td>5.42</td>\n",
       "      <td>Q4-2010</td>\n",
       "    </tr>\n",
       "    <tr>\n",
       "      <th>12</th>\n",
       "      <td>THE BOEING COMPANY</td>\n",
       "      <td>12927</td>\n",
       "      <td>2011-03-31</td>\n",
       "      <td>21096.0</td>\n",
       "      <td>536760.0</td>\n",
       "      <td>36000.0</td>\n",
       "      <td>3.93</td>\n",
       "      <td>Q1-2011</td>\n",
       "    </tr>\n",
       "    <tr>\n",
       "      <th>13</th>\n",
       "      <td>THE BOEING COMPANY</td>\n",
       "      <td>12927</td>\n",
       "      <td>2011-06-30</td>\n",
       "      <td>61362.0</td>\n",
       "      <td>1161702.0</td>\n",
       "      <td>100836.0</td>\n",
       "      <td>5.28</td>\n",
       "      <td>Q2-2011</td>\n",
       "    </tr>\n",
       "    <tr>\n",
       "      <th>14</th>\n",
       "      <td>THE BOEING COMPANY</td>\n",
       "      <td>12927</td>\n",
       "      <td>2011-09-30</td>\n",
       "      <td>86778.0</td>\n",
       "      <td>1523412.0</td>\n",
       "      <td>138150.0</td>\n",
       "      <td>5.70</td>\n",
       "      <td>Q3-2011</td>\n",
       "    </tr>\n",
       "    <tr>\n",
       "      <th>15</th>\n",
       "      <td>THE BOEING COMPANY</td>\n",
       "      <td>12927</td>\n",
       "      <td>2011-12-31</td>\n",
       "      <td>133560.0</td>\n",
       "      <td>2207835.0</td>\n",
       "      <td>186345.0</td>\n",
       "      <td>6.05</td>\n",
       "      <td>Q4-2011</td>\n",
       "    </tr>\n",
       "    <tr>\n",
       "      <th>16</th>\n",
       "      <td>THE BOEING COMPANY</td>\n",
       "      <td>12927</td>\n",
       "      <td>2012-03-31</td>\n",
       "      <td>33228.0</td>\n",
       "      <td>697788.0</td>\n",
       "      <td>56430.0</td>\n",
       "      <td>4.76</td>\n",
       "      <td>Q1-2012</td>\n",
       "    </tr>\n",
       "    <tr>\n",
       "      <th>17</th>\n",
       "      <td>THE BOEING COMPANY</td>\n",
       "      <td>12927</td>\n",
       "      <td>2012-06-30</td>\n",
       "      <td>68832.0</td>\n",
       "      <td>1429164.0</td>\n",
       "      <td>111645.0</td>\n",
       "      <td>4.82</td>\n",
       "      <td>Q2-2012</td>\n",
       "    </tr>\n",
       "    <tr>\n",
       "      <th>18</th>\n",
       "      <td>THE BOEING COMPANY</td>\n",
       "      <td>12927</td>\n",
       "      <td>2012-09-30</td>\n",
       "      <td>89748.0</td>\n",
       "      <td>1789416.0</td>\n",
       "      <td>140346.0</td>\n",
       "      <td>5.02</td>\n",
       "      <td>Q3-2012</td>\n",
       "    </tr>\n",
       "    <tr>\n",
       "      <th>19</th>\n",
       "      <td>THE BOEING COMPANY</td>\n",
       "      <td>12927</td>\n",
       "      <td>2012-12-31</td>\n",
       "      <td>122904.0</td>\n",
       "      <td>2607282.0</td>\n",
       "      <td>199296.0</td>\n",
       "      <td>4.71</td>\n",
       "      <td>Q4-2012</td>\n",
       "    </tr>\n",
       "  </tbody>\n",
       "</table>\n",
       "</div>"
      ],
      "text/plain": [
       "                ENTITY    CIK        DATE  NETINCOMELOSS   REVENUES  \\\n",
       "0   THE BOEING COMPANY  12927  2007-12-31        36666.0   597483.0   \n",
       "1   THE BOEING COMPANY  12927  2008-06-30        26235.0   449226.0   \n",
       "2   THE BOEING COMPANY  12927  2008-09-30        31077.0   571842.0   \n",
       "3   THE BOEING COMPANY  12927  2008-12-31        48096.0  1096362.0   \n",
       "4   THE BOEING COMPANY  12927  2009-03-31        10980.0   297036.0   \n",
       "5   THE BOEING COMPANY  12927  2009-06-30        55890.0  1068966.0   \n",
       "6   THE BOEING COMPANY  12927  2009-09-30       -41436.0  1356768.0   \n",
       "7   THE BOEING COMPANY  12927  2009-12-31        46836.0  2005020.0   \n",
       "8   THE BOEING COMPANY  12927  2010-03-31        18684.0   547776.0   \n",
       "9   THE BOEING COMPANY  12927  2010-06-30        51840.0  1114830.0   \n",
       "10  THE BOEING COMPANY  12927  2010-09-30        68706.0  1470420.0   \n",
       "11  THE BOEING COMPANY  12927  2010-12-31       110241.0  2034162.0   \n",
       "12  THE BOEING COMPANY  12927  2011-03-31        21096.0   536760.0   \n",
       "13  THE BOEING COMPANY  12927  2011-06-30        61362.0  1161702.0   \n",
       "14  THE BOEING COMPANY  12927  2011-09-30        86778.0  1523412.0   \n",
       "15  THE BOEING COMPANY  12927  2011-12-31       133560.0  2207835.0   \n",
       "16  THE BOEING COMPANY  12927  2012-03-31        33228.0   697788.0   \n",
       "17  THE BOEING COMPANY  12927  2012-06-30        68832.0  1429164.0   \n",
       "18  THE BOEING COMPANY  12927  2012-09-30        89748.0  1789416.0   \n",
       "19  THE BOEING COMPANY  12927  2012-12-31       122904.0  2607282.0   \n",
       "\n",
       "    OPERATINGINCOMELOSS  PROFITMARGINPERCENT  QUARTER  \n",
       "0               52470.0                 6.14  Q4-2007  \n",
       "1               38637.0                 5.84  Q2-2008  \n",
       "2               48060.0                 5.43  Q3-2008  \n",
       "3               71100.0                 4.39  Q4-2008  \n",
       "4               18450.0                 3.70  Q1-2009  \n",
       "5               87255.0                 5.23  Q2-2009  \n",
       "6              -50823.0                -3.05  Q3-2009  \n",
       "7               71829.0                 2.34  Q4-2009  \n",
       "8               42264.0                 3.41  Q1-2010  \n",
       "9               91710.0                 4.65  Q2-2010  \n",
       "10             119556.0                 4.67  Q3-2010  \n",
       "11             154071.0                 5.42  Q4-2010  \n",
       "12              36000.0                 3.93  Q1-2011  \n",
       "13             100836.0                 5.28  Q2-2011  \n",
       "14             138150.0                 5.70  Q3-2011  \n",
       "15             186345.0                 6.05  Q4-2011  \n",
       "16              56430.0                 4.76  Q1-2012  \n",
       "17             111645.0                 4.82  Q2-2012  \n",
       "18             140346.0                 5.02  Q3-2012  \n",
       "19             199296.0                 4.71  Q4-2012  "
      ]
     },
     "execution_count": 4,
     "metadata": {},
     "output_type": "execute_result"
    }
   ],
   "source": [
    "manager.execute_query_from_file('../queries/profitability_query.sql').head(20)"
   ]
  }
 ],
 "metadata": {
  "kernelspec": {
   "display_name": "Python 3",
   "language": "python",
   "name": "python3"
  },
  "language_info": {
   "codemirror_mode": {
    "name": "ipython",
    "version": 3
   },
   "file_extension": ".py",
   "mimetype": "text/x-python",
   "name": "python",
   "nbconvert_exporter": "python",
   "pygments_lexer": "ipython3",
   "version": "3.11.6"
  }
 },
 "nbformat": 4,
 "nbformat_minor": 2
}
