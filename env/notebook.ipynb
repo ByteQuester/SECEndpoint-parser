{
 "cells": [
  {
   "cell_type": "code",
   "execution_count": 1,
   "metadata": {},
   "outputs": [],
   "source": [
    "from sec_api_client import SECAPIClient \n",
    "from data_wrangler import FinancialDataProcessor"
   ]
  },
  {
   "cell_type": "code",
   "execution_count": 2,
   "metadata": {},
   "outputs": [],
   "source": [
    "\n",
    "sec_client = SECAPIClient()\n",
    "data_processor = FinancialDataProcessor(sec_client)"
   ]
  },
  {
   "cell_type": "code",
   "execution_count": 3,
   "metadata": {},
   "outputs": [],
   "source": [
    "# Fetch only company facts\n",
    "cik_number = '0000012927'  \n",
    "company_facts = sec_client.fetch_company_facts(cik_number)"
   ]
  },
  {
   "cell_type": "code",
   "execution_count": 4,
   "metadata": {},
   "outputs": [],
   "source": [
    "processed_data = data_processor.process_data({'company_facts': company_facts})"
   ]
  },
  {
   "cell_type": "code",
   "execution_count": 5,
   "metadata": {},
   "outputs": [
    {
     "data": {
      "text/html": [
       "<div>\n",
       "<style scoped>\n",
       "    .dataframe tbody tr th:only-of-type {\n",
       "        vertical-align: middle;\n",
       "    }\n",
       "\n",
       "    .dataframe tbody tr th {\n",
       "        vertical-align: top;\n",
       "    }\n",
       "\n",
       "    .dataframe thead th {\n",
       "        text-align: right;\n",
       "    }\n",
       "</style>\n",
       "<table border=\"1\" class=\"dataframe\">\n",
       "  <thead>\n",
       "    <tr style=\"text-align: right;\">\n",
       "      <th></th>\n",
       "      <th>EntityName</th>\n",
       "      <th>CIK</th>\n",
       "      <th>Metric</th>\n",
       "      <th>End</th>\n",
       "      <th>Value</th>\n",
       "    </tr>\n",
       "  </thead>\n",
       "  <tbody>\n",
       "    <tr>\n",
       "      <th>0</th>\n",
       "      <td>THE BOEING COMPANY</td>\n",
       "      <td>12927</td>\n",
       "      <td>AccountsPayable</td>\n",
       "      <td>2008-12-31</td>\n",
       "      <td>5.871000e+09</td>\n",
       "    </tr>\n",
       "    <tr>\n",
       "      <th>1</th>\n",
       "      <td>THE BOEING COMPANY</td>\n",
       "      <td>12927</td>\n",
       "      <td>AccountsPayable</td>\n",
       "      <td>2009-06-30</td>\n",
       "      <td>6.664000e+09</td>\n",
       "    </tr>\n",
       "    <tr>\n",
       "      <th>2</th>\n",
       "      <td>THE BOEING COMPANY</td>\n",
       "      <td>12927</td>\n",
       "      <td>AccountsPayableCurrent</td>\n",
       "      <td>2008-12-31</td>\n",
       "      <td>5.871000e+09</td>\n",
       "    </tr>\n",
       "    <tr>\n",
       "      <th>3</th>\n",
       "      <td>THE BOEING COMPANY</td>\n",
       "      <td>12927</td>\n",
       "      <td>AccountsPayableCurrent</td>\n",
       "      <td>2008-12-31</td>\n",
       "      <td>5.871000e+09</td>\n",
       "    </tr>\n",
       "    <tr>\n",
       "      <th>4</th>\n",
       "      <td>THE BOEING COMPANY</td>\n",
       "      <td>12927</td>\n",
       "      <td>AccountsPayableCurrent</td>\n",
       "      <td>2009-09-30</td>\n",
       "      <td>7.053000e+09</td>\n",
       "    </tr>\n",
       "    <tr>\n",
       "      <th>5</th>\n",
       "      <td>THE BOEING COMPANY</td>\n",
       "      <td>12927</td>\n",
       "      <td>AccountsPayableCurrent</td>\n",
       "      <td>2009-12-31</td>\n",
       "      <td>7.096000e+09</td>\n",
       "    </tr>\n",
       "    <tr>\n",
       "      <th>6</th>\n",
       "      <td>THE BOEING COMPANY</td>\n",
       "      <td>12927</td>\n",
       "      <td>AccountsPayableCurrent</td>\n",
       "      <td>2009-12-31</td>\n",
       "      <td>7.096000e+09</td>\n",
       "    </tr>\n",
       "    <tr>\n",
       "      <th>7</th>\n",
       "      <td>THE BOEING COMPANY</td>\n",
       "      <td>12927</td>\n",
       "      <td>AccountsPayableCurrent</td>\n",
       "      <td>2009-12-31</td>\n",
       "      <td>7.096000e+09</td>\n",
       "    </tr>\n",
       "    <tr>\n",
       "      <th>8</th>\n",
       "      <td>THE BOEING COMPANY</td>\n",
       "      <td>12927</td>\n",
       "      <td>AccountsPayableCurrent</td>\n",
       "      <td>2009-12-31</td>\n",
       "      <td>7.096000e+09</td>\n",
       "    </tr>\n",
       "    <tr>\n",
       "      <th>9</th>\n",
       "      <td>THE BOEING COMPANY</td>\n",
       "      <td>12927</td>\n",
       "      <td>AccountsPayableCurrent</td>\n",
       "      <td>2009-12-31</td>\n",
       "      <td>7.096000e+09</td>\n",
       "    </tr>\n",
       "  </tbody>\n",
       "</table>\n",
       "</div>"
      ],
      "text/plain": [
       "           EntityName    CIK                  Metric         End         Value\n",
       "0  THE BOEING COMPANY  12927         AccountsPayable  2008-12-31  5.871000e+09\n",
       "1  THE BOEING COMPANY  12927         AccountsPayable  2009-06-30  6.664000e+09\n",
       "2  THE BOEING COMPANY  12927  AccountsPayableCurrent  2008-12-31  5.871000e+09\n",
       "3  THE BOEING COMPANY  12927  AccountsPayableCurrent  2008-12-31  5.871000e+09\n",
       "4  THE BOEING COMPANY  12927  AccountsPayableCurrent  2009-09-30  7.053000e+09\n",
       "5  THE BOEING COMPANY  12927  AccountsPayableCurrent  2009-12-31  7.096000e+09\n",
       "6  THE BOEING COMPANY  12927  AccountsPayableCurrent  2009-12-31  7.096000e+09\n",
       "7  THE BOEING COMPANY  12927  AccountsPayableCurrent  2009-12-31  7.096000e+09\n",
       "8  THE BOEING COMPANY  12927  AccountsPayableCurrent  2009-12-31  7.096000e+09\n",
       "9  THE BOEING COMPANY  12927  AccountsPayableCurrent  2009-12-31  7.096000e+09"
      ]
     },
     "execution_count": 5,
     "metadata": {},
     "output_type": "execute_result"
    }
   ],
   "source": [
    "processed_data.head(10)"
   ]
  },
  {
   "cell_type": "code",
   "execution_count": 6,
   "metadata": {},
   "outputs": [],
   "source": [
    "data = processed_data"
   ]
  },
  {
   "cell_type": "code",
   "execution_count": 7,
   "metadata": {},
   "outputs": [],
   "source": [
    "from sw_flake import SnowflakeDataManager\n"
   ]
  },
  {
   "cell_type": "code",
   "execution_count": 8,
   "metadata": {},
   "outputs": [
    {
     "name": "stderr",
     "output_type": "stream",
     "text": [
      "Snowflake Connector for Python Version: 3.5.0, Python Version: 3.11.6, Platform: macOS-13.6.1-x86_64-i386-64bit\n",
      "This connection is in OCSP Fail Open Mode. TLS Certificates would be checked for validity and revocation status. Any other Certificate Revocation related exceptions or OCSP Responder failures would be disregarded in favor of connectivity.\n"
     ]
    }
   ],
   "source": [
    "manager=SnowflakeDataManager()"
   ]
  },
  {
   "cell_type": "code",
   "execution_count": 9,
   "metadata": {},
   "outputs": [
    {
     "name": "stderr",
     "output_type": "stream",
     "text": [
      "query: [CREATE TABLE FINANCIAL_SCHEMA.TEST_TABLE ( EntityName VARCHAR(255), CIK INT, Met...]\n",
      "query execution done\n",
      "Error creating table: 002002 (42710): 01b0c5d9-0000-c424-0000-00016e22c1c5: SQL compilation error:\n",
      "Object 'FINANCIAL_SCHEMA.TEST_TABLE' already exists.\n"
     ]
    }
   ],
   "source": [
    "manager.create_table('TEST_TABLE')"
   ]
  },
  {
   "cell_type": "code",
   "execution_count": 10,
   "metadata": {},
   "outputs": [
    {
     "name": "stderr",
     "output_type": "stream",
     "text": [
      "query: [PUT file://data/data.csv @%TEST_TABLE AUTO_COMPRESS=FALSE OVERWRITE=TRUE]\n",
      "query execution done\n",
      "query: [COPY INTO TEST_TABLE FROM @%TEST_TABLE FILE_FORMAT = (TYPE = 'CSV' FIELD_OPTIONA...]\n"
     ]
    },
    {
     "name": "stdout",
     "output_type": "stream",
     "text": [
      "File data/data.csv uploaded to stage @%TEST_TABLE\n"
     ]
    },
    {
     "name": "stderr",
     "output_type": "stream",
     "text": [
      "query execution done\n",
      "Number of results in first chunk: 1\n"
     ]
    },
    {
     "name": "stdout",
     "output_type": "stream",
     "text": [
      "Data copied from stage @%TEST_TABLE to table TEST_TABLE\n"
     ]
    }
   ],
   "source": [
    "manager.upload_data(data, 'TEST_TABLE')\n"
   ]
  },
  {
   "cell_type": "code",
   "execution_count": null,
   "metadata": {},
   "outputs": [],
   "source": []
  }
 ],
 "metadata": {
  "kernelspec": {
   "display_name": "Python 3",
   "language": "python",
   "name": "python3"
  },
  "language_info": {
   "codemirror_mode": {
    "name": "ipython",
    "version": 3
   },
   "file_extension": ".py",
   "mimetype": "text/x-python",
   "name": "python",
   "nbconvert_exporter": "python",
   "pygments_lexer": "ipython3",
   "version": "3.11.6"
  }
 },
 "nbformat": 4,
 "nbformat_minor": 2
}
