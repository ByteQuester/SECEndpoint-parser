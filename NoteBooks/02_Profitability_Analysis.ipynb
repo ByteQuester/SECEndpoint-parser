{
 "cells": [
  {
   "cell_type": "markdown",
   "id": "645f7f19-4820-48f6-9c48-c6680ef21474",
   "metadata": {},
   "source": [
    "# 02_Profitability_Analysis.ipynb"
   ]
  },
  {
   "cell_type": "markdown",
   "id": "1b528acd-813f-438e-af94-6d37e98a7e4e",
   "metadata": {
    "jp-MarkdownHeadingCollapsed": true
   },
   "source": [
    "## Title: \"Profitability Metrics Analysis\"`"
   ]
  },
  {
   "cell_type": "markdown",
   "id": "4c68e4b6-02e6-4f7f-bc98-b57c7595c604",
   "metadata": {
    "jp-MarkdownHeadingCollapsed": true
   },
   "source": [
    "### Contents:\n",
    "- Importing libraries.\n",
    "- Functions for data retrieval and flattening.\n",
    "- API requests to SEC for company data.\n",
    "- Data inspection and manipulation."
   ]
  },
  {
   "cell_type": "markdown",
   "id": "39b005c6-3ee2-41ad-91a1-9d241660f870",
   "metadata": {},
   "source": [
    "---"
   ]
  },
  {
   "cell_type": "markdown",
   "id": "742170c6-3012-4827-aa74-310b498d23aa",
   "metadata": {},
   "source": [
    "# Set Up the Environment"
   ]
  },
  {
   "cell_type": "markdown",
   "id": "5e6b38cc-c136-412f-b12e-67141d0676b9",
   "metadata": {
    "jp-MarkdownHeadingCollapsed": true
   },
   "source": [
    "## Import Libraries"
   ]
  },
  {
   "cell_type": "code",
   "execution_count": 1,
   "id": "67ca6750-7217-4be1-978a-1a433b759c54",
   "metadata": {},
   "outputs": [],
   "source": [
    "import pandas as pd\n",
    "import requests\n",
    "import matplotlib.pyplot as plt"
   ]
  },
  {
   "cell_type": "markdown",
   "id": "cf26d2db-597b-4c03-8acf-94fe6fd2c7a3",
   "metadata": {
    "jp-MarkdownHeadingCollapsed": true
   },
   "source": [
    "## Functions"
   ]
  },
  {
   "cell_type": "code",
   "execution_count": 2,
   "id": "0edf7aaf-b9e7-4acd-8e09-70def5e11664",
   "metadata": {},
   "outputs": [],
   "source": [
    "def prepare_and_sort_financial_data(df, metric):\n",
    "    \"\"\"\n",
    "    Prepares and sorts financial data for a specific metric.\n",
    "\n",
    "    Args:\n",
    "    df (DataFrame): The raw DataFrame containing financial data.\n",
    "    metric (str): The specific financial metric to prepare and sort (e.g., 'OperatingIncomeLoss').\n",
    "\n",
    "    Returns:\n",
    "    DataFrame: A DataFrame filtered, cleaned, and sorted for the specific metric.\n",
    "    \"\"\"\n",
    "    # Filter by Metric\n",
    "    df_metric = df[df['Metric'] == metric]\n",
    "\n",
    "    # Filter for 10-K filings and ensure 'frame' column is not empty\n",
    "    filtered_df = df_metric[df_metric['form'] == '10-K']\n",
    "    filtered_df = filtered_df[filtered_df['frame'].notna()]\n",
    "\n",
    "    # Drop unnecessary columns\n",
    "    columns_to_drop = ['accn', 'fy', 'fp', 'form', 'filed']\n",
    "    filtered_df_cleaned = filtered_df.drop(columns=columns_to_drop)\n",
    "\n",
    "    # Define a custom sorting key and split into 'year' and 'quarter'\n",
    "    def custom_sort_key(frame_value):\n",
    "        year = frame_value[2:6]  # Extract the year part (e.g., '2007')\n",
    "        quarter_order = {'Q1': 1, 'Q2': 2, 'Q3': 3, 'Q4': 4, 'FY': 5}  # Define order for quarters and FY\n",
    "        quarter = frame_value[6:] if frame_value[6:] in quarter_order else 'FY'\n",
    "        return (year, quarter_order[quarter])\n",
    "\n",
    "    filtered_df_cleaned[['year', 'quarter']] = filtered_df_cleaned['frame'].apply(custom_sort_key).apply(pd.Series)\n",
    "\n",
    "    # Sort the DataFrame and drop the 'frame' and 'frame_sort_key' columns\n",
    "    sorted_df = filtered_df_cleaned.sort_values(by=['year', 'quarter']).drop(columns=['frame'])\n",
    "\n",
    "    return sorted_df\n",
    "\n",
    "# Example usage with multiple metrics\n",
    "# operating_income_loss_data = prepare_and_sort_financial_data(raw_data, 'OperatingIncomeLoss')\n",
    "# net_income_loss_data = prepare_and_sort_financial_data(raw_data, 'NetIncomeLoss')\n",
    "# revenues_data = prepare_and_sort_financial_data(raw_data, 'Revenues')\n"
   ]
  },
  {
   "cell_type": "markdown",
   "id": "7e6ffad5-7e1a-4d4b-ad7e-e63abc599b8a",
   "metadata": {},
   "source": [
    "# Load Data"
   ]
  },
  {
   "cell_type": "markdown",
   "id": "bbf50fa0-70c4-4f31-8933-7dca009c7810",
   "metadata": {},
   "source": [
    "## Load Data from CSV File"
   ]
  },
  {
   "cell_type": "code",
   "execution_count": 3,
   "id": "17da640e-aa9a-4081-98e6-9166746159dd",
   "metadata": {},
   "outputs": [],
   "source": [
    "raw_data = pd.read_csv('combined_df.csv')"
   ]
  },
  {
   "cell_type": "code",
   "execution_count": 4,
   "id": "2da40aa2-7091-4fd4-9d72-28feb1eb4206",
   "metadata": {},
   "outputs": [
    {
     "data": {
      "text/html": [
       "<div>\n",
       "<style scoped>\n",
       "    .dataframe tbody tr th:only-of-type {\n",
       "        vertical-align: middle;\n",
       "    }\n",
       "\n",
       "    .dataframe tbody tr th {\n",
       "        vertical-align: top;\n",
       "    }\n",
       "\n",
       "    .dataframe thead th {\n",
       "        text-align: right;\n",
       "    }\n",
       "</style>\n",
       "<table border=\"1\" class=\"dataframe\">\n",
       "  <thead>\n",
       "    <tr style=\"text-align: right;\">\n",
       "      <th></th>\n",
       "      <th>EntityName</th>\n",
       "      <th>CIK</th>\n",
       "      <th>Metric</th>\n",
       "      <th>start</th>\n",
       "      <th>end</th>\n",
       "      <th>val</th>\n",
       "      <th>accn</th>\n",
       "      <th>fy</th>\n",
       "      <th>fp</th>\n",
       "      <th>form</th>\n",
       "      <th>filed</th>\n",
       "      <th>frame</th>\n",
       "    </tr>\n",
       "  </thead>\n",
       "  <tbody>\n",
       "    <tr>\n",
       "      <th>0</th>\n",
       "      <td>THE BOEING COMPANY</td>\n",
       "      <td>12927</td>\n",
       "      <td>OperatingIncomeLoss</td>\n",
       "      <td>2007-01-01</td>\n",
       "      <td>2007-12-31</td>\n",
       "      <td>5830000000</td>\n",
       "      <td>0001193125-10-024406</td>\n",
       "      <td>2009</td>\n",
       "      <td>FY</td>\n",
       "      <td>10-K</td>\n",
       "      <td>2010-02-08</td>\n",
       "      <td>CY2007</td>\n",
       "    </tr>\n",
       "    <tr>\n",
       "      <th>1</th>\n",
       "      <td>THE BOEING COMPANY</td>\n",
       "      <td>12927</td>\n",
       "      <td>OperatingIncomeLoss</td>\n",
       "      <td>2008-01-01</td>\n",
       "      <td>2008-06-30</td>\n",
       "      <td>3046000000</td>\n",
       "      <td>0001193125-09-152905</td>\n",
       "      <td>2009</td>\n",
       "      <td>Q2</td>\n",
       "      <td>10-Q</td>\n",
       "      <td>2009-07-22</td>\n",
       "      <td>NaN</td>\n",
       "    </tr>\n",
       "  </tbody>\n",
       "</table>\n",
       "</div>"
      ],
      "text/plain": [
       "           EntityName    CIK               Metric       start         end  \\\n",
       "0  THE BOEING COMPANY  12927  OperatingIncomeLoss  2007-01-01  2007-12-31   \n",
       "1  THE BOEING COMPANY  12927  OperatingIncomeLoss  2008-01-01  2008-06-30   \n",
       "\n",
       "          val                  accn    fy  fp  form       filed   frame  \n",
       "0  5830000000  0001193125-10-024406  2009  FY  10-K  2010-02-08  CY2007  \n",
       "1  3046000000  0001193125-09-152905  2009  Q2  10-Q  2009-07-22     NaN  "
      ]
     },
     "execution_count": 4,
     "metadata": {},
     "output_type": "execute_result"
    }
   ],
   "source": [
    "# Inspect the first few rows of the dataset\n",
    "raw_data.head(2)"
   ]
  },
  {
   "cell_type": "code",
   "execution_count": 5,
   "id": "77c4cd58-2314-4159-9285-e7e5cd74024e",
   "metadata": {},
   "outputs": [],
   "source": [
    "# Convert 'end' column to datetime for proper sorting\n",
    "raw_data['end'] = pd.to_datetime(raw_data['end'], format='%Y-%m-%d')\n"
   ]
  },
  {
   "cell_type": "code",
   "execution_count": 6,
   "id": "c86d3812-3223-469f-8e48-7e3aab83abfb",
   "metadata": {},
   "outputs": [
    {
     "name": "stdout",
     "output_type": "stream",
     "text": [
      "<class 'pandas.core.frame.DataFrame'>\n",
      "RangeIndex: 834 entries, 0 to 833\n",
      "Data columns (total 12 columns):\n",
      " #   Column      Non-Null Count  Dtype         \n",
      "---  ------      --------------  -----         \n",
      " 0   EntityName  834 non-null    object        \n",
      " 1   CIK         834 non-null    int64         \n",
      " 2   Metric      834 non-null    object        \n",
      " 3   start       834 non-null    object        \n",
      " 4   end         834 non-null    datetime64[ns]\n",
      " 5   val         834 non-null    int64         \n",
      " 6   accn        834 non-null    object        \n",
      " 7   fy          834 non-null    int64         \n",
      " 8   fp          834 non-null    object        \n",
      " 9   form        834 non-null    object        \n",
      " 10  filed       834 non-null    object        \n",
      " 11  frame       225 non-null    object        \n",
      "dtypes: datetime64[ns](1), int64(3), object(8)\n",
      "memory usage: 78.3+ KB\n"
     ]
    }
   ],
   "source": [
    "# Check the data types and look for any missing values\n",
    "raw_data.info()"
   ]
  },
  {
   "cell_type": "markdown",
   "id": "5d4da628-9f6a-4f82-8007-f6dfbc576111",
   "metadata": {},
   "source": [
    "# Individual Metrics Analysis"
   ]
  },
  {
   "cell_type": "markdown",
   "id": "bb139a91-ca7e-47e7-9d3a-1e4e1ecb0b42",
   "metadata": {},
   "source": [
    "## Analysis of Operating Income/Loss"
   ]
  },
  {
   "cell_type": "code",
   "execution_count": 7,
   "id": "2e6284c1-20dc-413a-b050-87e1fdcb753a",
   "metadata": {},
   "outputs": [],
   "source": [
    "# Filter out the operating income/loss data\n",
    "operating_income_loss = raw_data[raw_data['Metric'] == 'OperatingIncomeLoss']"
   ]
  },
  {
   "cell_type": "code",
   "execution_count": 8,
   "id": "4d3490e9-1f80-4170-9ace-21696aca6399",
   "metadata": {},
   "outputs": [],
   "source": [
    "operating_income_loss_data = prepare_and_sort_financial_data(raw_data, 'OperatingIncomeLoss')"
   ]
  },
  {
   "cell_type": "code",
   "execution_count": 9,
   "id": "238c75fa-324d-4f7e-a3d2-86eaf2d4eb0b",
   "metadata": {},
   "outputs": [
    {
     "data": {
      "text/html": [
       "<div>\n",
       "<style scoped>\n",
       "    .dataframe tbody tr th:only-of-type {\n",
       "        vertical-align: middle;\n",
       "    }\n",
       "\n",
       "    .dataframe tbody tr th {\n",
       "        vertical-align: top;\n",
       "    }\n",
       "\n",
       "    .dataframe thead th {\n",
       "        text-align: right;\n",
       "    }\n",
       "</style>\n",
       "<table border=\"1\" class=\"dataframe\">\n",
       "  <thead>\n",
       "    <tr style=\"text-align: right;\">\n",
       "      <th></th>\n",
       "      <th>EntityName</th>\n",
       "      <th>CIK</th>\n",
       "      <th>Metric</th>\n",
       "      <th>start</th>\n",
       "      <th>end</th>\n",
       "      <th>val</th>\n",
       "      <th>year</th>\n",
       "      <th>quarter</th>\n",
       "    </tr>\n",
       "  </thead>\n",
       "  <tbody>\n",
       "    <tr>\n",
       "      <th>0</th>\n",
       "      <td>THE BOEING COMPANY</td>\n",
       "      <td>12927</td>\n",
       "      <td>OperatingIncomeLoss</td>\n",
       "      <td>2007-01-01</td>\n",
       "      <td>2007-12-31</td>\n",
       "      <td>5830000000</td>\n",
       "      <td>2007</td>\n",
       "      <td>5</td>\n",
       "    </tr>\n",
       "    <tr>\n",
       "      <th>6</th>\n",
       "      <td>THE BOEING COMPANY</td>\n",
       "      <td>12927</td>\n",
       "      <td>OperatingIncomeLoss</td>\n",
       "      <td>2008-01-01</td>\n",
       "      <td>2008-12-31</td>\n",
       "      <td>3950000000</td>\n",
       "      <td>2008</td>\n",
       "      <td>5</td>\n",
       "    </tr>\n",
       "    <tr>\n",
       "      <th>8</th>\n",
       "      <td>THE BOEING COMPANY</td>\n",
       "      <td>12927</td>\n",
       "      <td>OperatingIncomeLoss</td>\n",
       "      <td>2009-01-01</td>\n",
       "      <td>2009-03-31</td>\n",
       "      <td>1025000000</td>\n",
       "      <td>2009</td>\n",
       "      <td>1</td>\n",
       "    </tr>\n",
       "    <tr>\n",
       "      <th>13</th>\n",
       "      <td>THE BOEING COMPANY</td>\n",
       "      <td>12927</td>\n",
       "      <td>OperatingIncomeLoss</td>\n",
       "      <td>2009-04-01</td>\n",
       "      <td>2009-06-30</td>\n",
       "      <td>1529000000</td>\n",
       "      <td>2009</td>\n",
       "      <td>2</td>\n",
       "    </tr>\n",
       "    <tr>\n",
       "      <th>18</th>\n",
       "      <td>THE BOEING COMPANY</td>\n",
       "      <td>12927</td>\n",
       "      <td>OperatingIncomeLoss</td>\n",
       "      <td>2009-07-01</td>\n",
       "      <td>2009-09-30</td>\n",
       "      <td>-2151000000</td>\n",
       "      <td>2009</td>\n",
       "      <td>3</td>\n",
       "    </tr>\n",
       "  </tbody>\n",
       "</table>\n",
       "</div>"
      ],
      "text/plain": [
       "            EntityName    CIK               Metric       start        end  \\\n",
       "0   THE BOEING COMPANY  12927  OperatingIncomeLoss  2007-01-01 2007-12-31   \n",
       "6   THE BOEING COMPANY  12927  OperatingIncomeLoss  2008-01-01 2008-12-31   \n",
       "8   THE BOEING COMPANY  12927  OperatingIncomeLoss  2009-01-01 2009-03-31   \n",
       "13  THE BOEING COMPANY  12927  OperatingIncomeLoss  2009-04-01 2009-06-30   \n",
       "18  THE BOEING COMPANY  12927  OperatingIncomeLoss  2009-07-01 2009-09-30   \n",
       "\n",
       "           val  year  quarter  \n",
       "0   5830000000  2007        5  \n",
       "6   3950000000  2008        5  \n",
       "8   1025000000  2009        1  \n",
       "13  1529000000  2009        2  \n",
       "18 -2151000000  2009        3  "
      ]
     },
     "execution_count": 9,
     "metadata": {},
     "output_type": "execute_result"
    }
   ],
   "source": [
    "operating_income_loss_data.head(5)"
   ]
  },
  {
   "cell_type": "code",
   "execution_count": 10,
   "id": "57493903-4d26-452d-9a65-601d6a9f9b18",
   "metadata": {},
   "outputs": [
    {
     "name": "stdout",
     "output_type": "stream",
     "text": [
      "           CIK                            end           val    quarter\n",
      "count     61.0                             61  6.100000e+01  61.000000\n",
      "mean   12927.0  2014-12-15 13:46:13.770491904  1.916820e+09   3.180328\n",
      "min    12927.0            2007-12-31 00:00:00 -1.276700e+10   1.000000\n",
      "25%    12927.0            2011-12-31 00:00:00  1.307000e+09   2.000000\n",
      "50%    12927.0            2014-12-31 00:00:00  1.716000e+09   3.000000\n",
      "75%    12927.0            2017-12-31 00:00:00  2.630000e+09   5.000000\n",
      "max    12927.0            2022-12-31 00:00:00  1.198700e+10   5.000000\n",
      "std        0.0                            NaN  3.664814e+09   1.466381\n"
     ]
    }
   ],
   "source": [
    "print(operating_income_loss_data.describe())"
   ]
  },
  {
   "cell_type": "code",
   "execution_count": 11,
   "id": "2761052e-d62c-4a2e-96f1-e30db39c0979",
   "metadata": {},
   "outputs": [
    {
     "data": {
      "image/png": "[encoded data removed]",
      "text/plain": [
       "<Figure size 640x480 with 1 Axes>"
      ]
     },
     "metadata": {},
     "output_type": "display_data"
    }
   ],
   "source": [
    "operating_income_loss_data.plot(x='end', y='val', title='Operating Income/Loss Over Time')\n",
    "plt.show()"
   ]
  },
  {
   "cell_type": "markdown",
   "id": "83e4c4da-da70-4ee1-9550-fb1b4d599d1f",
   "metadata": {},
   "source": [
    "## Analysis of Revenues"
   ]
  },
  {
   "cell_type": "code",
   "execution_count": 12,
   "id": "11945af5-7b03-4191-a86f-89fdd06603b7",
   "metadata": {},
   "outputs": [],
   "source": [
    "revenues = raw_data[raw_data['Metric'] == 'Revenues']"
   ]
  },
  {
   "cell_type": "code",
   "execution_count": 13,
   "id": "bd462648-362f-45f2-a04d-af2a04ec7089",
   "metadata": {},
   "outputs": [],
   "source": [
    "revenues_data = prepare_and_sort_financial_data(raw_data, 'Revenues')"
   ]
  },
  {
   "cell_type": "code",
   "execution_count": 14,
   "id": "59c48245-37a0-4156-b6e4-711d28ee974b",
   "metadata": {},
   "outputs": [
    {
     "data": {
      "text/html": [
       "<div>\n",
       "<style scoped>\n",
       "    .dataframe tbody tr th:only-of-type {\n",
       "        vertical-align: middle;\n",
       "    }\n",
       "\n",
       "    .dataframe tbody tr th {\n",
       "        vertical-align: top;\n",
       "    }\n",
       "\n",
       "    .dataframe thead th {\n",
       "        text-align: right;\n",
       "    }\n",
       "</style>\n",
       "<table border=\"1\" class=\"dataframe\">\n",
       "  <thead>\n",
       "    <tr style=\"text-align: right;\">\n",
       "      <th></th>\n",
       "      <th>EntityName</th>\n",
       "      <th>CIK</th>\n",
       "      <th>Metric</th>\n",
       "      <th>start</th>\n",
       "      <th>end</th>\n",
       "      <th>val</th>\n",
       "      <th>year</th>\n",
       "      <th>quarter</th>\n",
       "    </tr>\n",
       "  </thead>\n",
       "  <tbody>\n",
       "    <tr>\n",
       "      <th>278</th>\n",
       "      <td>THE BOEING COMPANY</td>\n",
       "      <td>12927</td>\n",
       "      <td>Revenues</td>\n",
       "      <td>2007-01-01</td>\n",
       "      <td>2007-12-31</td>\n",
       "      <td>66387000000</td>\n",
       "      <td>2007</td>\n",
       "      <td>5</td>\n",
       "    </tr>\n",
       "    <tr>\n",
       "      <th>284</th>\n",
       "      <td>THE BOEING COMPANY</td>\n",
       "      <td>12927</td>\n",
       "      <td>Revenues</td>\n",
       "      <td>2008-01-01</td>\n",
       "      <td>2008-12-31</td>\n",
       "      <td>60909000000</td>\n",
       "      <td>2008</td>\n",
       "      <td>5</td>\n",
       "    </tr>\n",
       "  </tbody>\n",
       "</table>\n",
       "</div>"
      ],
      "text/plain": [
       "             EntityName    CIK    Metric       start        end          val  \\\n",
       "278  THE BOEING COMPANY  12927  Revenues  2007-01-01 2007-12-31  66387000000   \n",
       "284  THE BOEING COMPANY  12927  Revenues  2008-01-01 2008-12-31  60909000000   \n",
       "\n",
       "     year  quarter  \n",
       "278  2007        5  \n",
       "284  2008        5  "
      ]
     },
     "execution_count": 14,
     "metadata": {},
     "output_type": "execute_result"
    }
   ],
   "source": [
    "revenues_data.head(2)"
   ]
  },
  {
   "cell_type": "code",
   "execution_count": 15,
   "id": "5459090a-b5aa-414e-815a-9ffc0186c339",
   "metadata": {},
   "outputs": [
    {
     "name": "stdout",
     "output_type": "stream",
     "text": [
      "           CIK                            end           val    quarter\n",
      "count     61.0                             61  6.100000e+01  61.000000\n",
      "mean   12927.0  2014-12-15 13:46:13.770491904  3.564162e+10   3.180328\n",
      "min    12927.0            2007-12-31 00:00:00  1.491000e+10   1.000000\n",
      "25%    12927.0            2011-12-31 00:00:00  1.938300e+10   2.000000\n",
      "50%    12927.0            2014-12-31 00:00:00  2.328600e+10   3.000000\n",
      "75%    12927.0            2017-12-31 00:00:00  5.815800e+10   5.000000\n",
      "max    12927.0            2022-12-31 00:00:00  1.011270e+11   5.000000\n",
      "std        0.0                            NaN  2.622392e+10   1.466381\n"
     ]
    },
    {
     "data": {
      "image/png": "[encoded data removed]",
      "text/plain": [
       "<Figure size 640x480 with 1 Axes>"
      ]
     },
     "metadata": {},
     "output_type": "display_data"
    }
   ],
   "source": [
    "print(revenues_data.describe())\n",
    "revenues_data.plot(x='end', y='val', title='Revenues Over Time')\n",
    "plt.show()\n"
   ]
  },
  {
   "cell_type": "markdown",
   "id": "56f348b6-6528-4f3c-8f02-76d95b1bc8dd",
   "metadata": {},
   "source": [
    "## Analysis of Net Income/Loss"
   ]
  },
  {
   "cell_type": "code",
   "execution_count": 16,
   "id": "e8c3d4a7-02df-443d-b680-748e73edbcc7",
   "metadata": {},
   "outputs": [],
   "source": [
    "# Filter out the operating income/loss data\n",
    "net_income_loss = raw_data[raw_data['Metric'] == 'NetIncomeLoss']"
   ]
  },
  {
   "cell_type": "code",
   "execution_count": 17,
   "id": "68f3bce9-bad4-4e4f-80e0-01cf76f0665d",
   "metadata": {},
   "outputs": [],
   "source": [
    "net_income_loss_data = prepare_and_sort_financial_data(raw_data, 'NetIncomeLoss')"
   ]
  },
  {
   "cell_type": "code",
   "execution_count": 33,
   "id": "605dcbb1-ac30-4132-b05a-c657bcdf0654",
   "metadata": {},
   "outputs": [
    {
     "data": {
      "text/html": [
       "<div>\n",
       "<style scoped>\n",
       "    .dataframe tbody tr th:only-of-type {\n",
       "        vertical-align: middle;\n",
       "    }\n",
       "\n",
       "    .dataframe tbody tr th {\n",
       "        vertical-align: top;\n",
       "    }\n",
       "\n",
       "    .dataframe thead th {\n",
       "        text-align: right;\n",
       "    }\n",
       "</style>\n",
       "<table border=\"1\" class=\"dataframe\">\n",
       "  <thead>\n",
       "    <tr style=\"text-align: right;\">\n",
       "      <th></th>\n",
       "      <th>EntityName</th>\n",
       "      <th>CIK</th>\n",
       "      <th>Metric</th>\n",
       "      <th>start</th>\n",
       "      <th>end</th>\n",
       "      <th>val</th>\n",
       "      <th>year</th>\n",
       "      <th>quarter</th>\n",
       "    </tr>\n",
       "  </thead>\n",
       "  <tbody>\n",
       "    <tr>\n",
       "      <th>556</th>\n",
       "      <td>THE BOEING COMPANY</td>\n",
       "      <td>12927</td>\n",
       "      <td>NetIncomeLoss</td>\n",
       "      <td>2007-01-01</td>\n",
       "      <td>2007-12-31</td>\n",
       "      <td>4074000000</td>\n",
       "      <td>2007</td>\n",
       "      <td>5</td>\n",
       "    </tr>\n",
       "    <tr>\n",
       "      <th>562</th>\n",
       "      <td>THE BOEING COMPANY</td>\n",
       "      <td>12927</td>\n",
       "      <td>NetIncomeLoss</td>\n",
       "      <td>2008-01-01</td>\n",
       "      <td>2008-12-31</td>\n",
       "      <td>2672000000</td>\n",
       "      <td>2008</td>\n",
       "      <td>5</td>\n",
       "    </tr>\n",
       "    <tr>\n",
       "      <th>564</th>\n",
       "      <td>THE BOEING COMPANY</td>\n",
       "      <td>12927</td>\n",
       "      <td>NetIncomeLoss</td>\n",
       "      <td>2009-01-01</td>\n",
       "      <td>2009-03-31</td>\n",
       "      <td>610000000</td>\n",
       "      <td>2009</td>\n",
       "      <td>1</td>\n",
       "    </tr>\n",
       "    <tr>\n",
       "      <th>569</th>\n",
       "      <td>THE BOEING COMPANY</td>\n",
       "      <td>12927</td>\n",
       "      <td>NetIncomeLoss</td>\n",
       "      <td>2009-04-01</td>\n",
       "      <td>2009-06-30</td>\n",
       "      <td>998000000</td>\n",
       "      <td>2009</td>\n",
       "      <td>2</td>\n",
       "    </tr>\n",
       "    <tr>\n",
       "      <th>574</th>\n",
       "      <td>THE BOEING COMPANY</td>\n",
       "      <td>12927</td>\n",
       "      <td>NetIncomeLoss</td>\n",
       "      <td>2009-07-01</td>\n",
       "      <td>2009-09-30</td>\n",
       "      <td>-1564000000</td>\n",
       "      <td>2009</td>\n",
       "      <td>3</td>\n",
       "    </tr>\n",
       "  </tbody>\n",
       "</table>\n",
       "</div>"
      ],
      "text/plain": [
       "             EntityName    CIK         Metric       start        end  \\\n",
       "556  THE BOEING COMPANY  12927  NetIncomeLoss  2007-01-01 2007-12-31   \n",
       "562  THE BOEING COMPANY  12927  NetIncomeLoss  2008-01-01 2008-12-31   \n",
       "564  THE BOEING COMPANY  12927  NetIncomeLoss  2009-01-01 2009-03-31   \n",
       "569  THE BOEING COMPANY  12927  NetIncomeLoss  2009-04-01 2009-06-30   \n",
       "574  THE BOEING COMPANY  12927  NetIncomeLoss  2009-07-01 2009-09-30   \n",
       "\n",
       "            val  year  quarter  \n",
       "556  4074000000  2007        5  \n",
       "562  2672000000  2008        5  \n",
       "564   610000000  2009        1  \n",
       "569   998000000  2009        2  \n",
       "574 -1564000000  2009        3  "
      ]
     },
     "execution_count": 33,
     "metadata": {},
     "output_type": "execute_result"
    }
   ],
   "source": [
    "net_income_loss_data.head()"
   ]
  },
  {
   "cell_type": "code",
   "execution_count": 18,
   "id": "5ecb54bb-9685-4935-922b-1ac314072598",
   "metadata": {},
   "outputs": [
    {
     "name": "stdout",
     "output_type": "stream",
     "text": [
      "           CIK                            end           val    quarter\n",
      "count     61.0                             61  6.100000e+01  61.000000\n",
      "mean   12927.0  2014-12-15 13:46:13.770491904  1.299951e+09   3.180328\n",
      "min    12927.0            2007-12-31 00:00:00 -1.187300e+10   1.000000\n",
      "25%    12927.0            2011-12-31 00:00:00  9.410000e+08   2.000000\n",
      "50%    12927.0            2014-12-31 00:00:00  1.233000e+09   3.000000\n",
      "75%    12927.0            2017-12-31 00:00:00  2.279000e+09   5.000000\n",
      "max    12927.0            2022-12-31 00:00:00  1.046000e+10   5.000000\n",
      "std        0.0                            NaN  3.194618e+09   1.466381\n"
     ]
    },
    {
     "data": {
      "image/png": "[encoded data removed]",
      "text/plain": [
       "<Figure size 640x480 with 1 Axes>"
      ]
     },
     "metadata": {},
     "output_type": "display_data"
    }
   ],
   "source": [
    "print(net_income_loss_data.describe())\n",
    "net_income_loss_data.plot(x='end', y='val', title='Net Income/Loss Over Time')\n",
    "plt.show()\n"
   ]
  },
  {
   "cell_type": "markdown",
   "id": "29d731d1-ccd0-4b1a-9103-4a1088590d49",
   "metadata": {},
   "source": [
    "# Merge the Data"
   ]
  },
  {
   "cell_type": "code",
   "execution_count": 19,
   "id": "be418e2f-7c5e-4854-8676-58b1cddf2c71",
   "metadata": {},
   "outputs": [],
   "source": [
    "df_merged = pd.merge(net_income_loss_data, operating_income_loss_data, \n",
    "                     on=['EntityName', 'CIK', 'start', 'end', 'year', 'quarter'], \n",
    "                     how='outer', suffixes=('_net_income', '_operating_income'))"
   ]
  },
  {
   "cell_type": "code",
   "execution_count": 20,
   "id": "b4c828d8",
   "metadata": {},
   "outputs": [],
   "source": [
    "df_merged = pd.merge(df_merged, revenues_data, \n",
    "                     on=['EntityName', 'CIK', 'start', 'end', 'year', 'quarter'], \n",
    "                     how='outer')"
   ]
  },
  {
   "cell_type": "code",
   "execution_count": 21,
   "id": "4a5d22a6-6b11-4756-ade1-bd80735d4daf",
   "metadata": {},
   "outputs": [],
   "source": [
    "df_merged.rename(columns={'val_net_income': 'NetIncomeLoss', \n",
    "                          'val_operating_income': 'OperatingIncomeLoss', \n",
    "                          'val': 'Revenues'}, inplace=True)"
   ]
  },
  {
   "cell_type": "code",
   "execution_count": 22,
   "id": "7156cd5b-ec3a-4cef-a5de-7185c17f318f",
   "metadata": {},
   "outputs": [],
   "source": [
    "# Filtering out the annual data (rows where quarter is '5')\n",
    "df_merged_quarterly = df_merged[df_merged['quarter'] != 5]"
   ]
  },
  {
   "cell_type": "code",
   "execution_count": 32,
   "id": "2430b743-71c8-46d4-8c65-8a9c99d56bb5",
   "metadata": {},
   "outputs": [
    {
     "data": {
      "text/html": [
       "<div>\n",
       "<style scoped>\n",
       "    .dataframe tbody tr th:only-of-type {\n",
       "        vertical-align: middle;\n",
       "    }\n",
       "\n",
       "    .dataframe tbody tr th {\n",
       "        vertical-align: top;\n",
       "    }\n",
       "\n",
       "    .dataframe thead th {\n",
       "        text-align: right;\n",
       "    }\n",
       "</style>\n",
       "<table border=\"1\" class=\"dataframe\">\n",
       "  <thead>\n",
       "    <tr style=\"text-align: right;\">\n",
       "      <th></th>\n",
       "      <th>EntityName</th>\n",
       "      <th>CIK</th>\n",
       "      <th>Metric_net_income</th>\n",
       "      <th>start</th>\n",
       "      <th>end</th>\n",
       "      <th>NetIncomeLoss</th>\n",
       "      <th>year</th>\n",
       "      <th>quarter</th>\n",
       "      <th>Metric_operating_income</th>\n",
       "      <th>OperatingIncomeLoss</th>\n",
       "      <th>Metric</th>\n",
       "      <th>Revenues</th>\n",
       "    </tr>\n",
       "  </thead>\n",
       "  <tbody>\n",
       "    <tr>\n",
       "      <th>2</th>\n",
       "      <td>THE BOEING COMPANY</td>\n",
       "      <td>12927</td>\n",
       "      <td>NetIncomeLoss</td>\n",
       "      <td>2009-01-01</td>\n",
       "      <td>2009-03-31</td>\n",
       "      <td>610000000</td>\n",
       "      <td>2009</td>\n",
       "      <td>1</td>\n",
       "      <td>OperatingIncomeLoss</td>\n",
       "      <td>1025000000</td>\n",
       "      <td>Revenues</td>\n",
       "      <td>16502000000</td>\n",
       "    </tr>\n",
       "    <tr>\n",
       "      <th>3</th>\n",
       "      <td>THE BOEING COMPANY</td>\n",
       "      <td>12927</td>\n",
       "      <td>NetIncomeLoss</td>\n",
       "      <td>2009-04-01</td>\n",
       "      <td>2009-06-30</td>\n",
       "      <td>998000000</td>\n",
       "      <td>2009</td>\n",
       "      <td>2</td>\n",
       "      <td>OperatingIncomeLoss</td>\n",
       "      <td>1529000000</td>\n",
       "      <td>Revenues</td>\n",
       "      <td>17154000000</td>\n",
       "    </tr>\n",
       "    <tr>\n",
       "      <th>4</th>\n",
       "      <td>THE BOEING COMPANY</td>\n",
       "      <td>12927</td>\n",
       "      <td>NetIncomeLoss</td>\n",
       "      <td>2009-07-01</td>\n",
       "      <td>2009-09-30</td>\n",
       "      <td>-1564000000</td>\n",
       "      <td>2009</td>\n",
       "      <td>3</td>\n",
       "      <td>OperatingIncomeLoss</td>\n",
       "      <td>-2151000000</td>\n",
       "      <td>Revenues</td>\n",
       "      <td>16688000000</td>\n",
       "    </tr>\n",
       "    <tr>\n",
       "      <th>5</th>\n",
       "      <td>THE BOEING COMPANY</td>\n",
       "      <td>12927</td>\n",
       "      <td>NetIncomeLoss</td>\n",
       "      <td>2009-10-01</td>\n",
       "      <td>2009-12-31</td>\n",
       "      <td>1268000000</td>\n",
       "      <td>2009</td>\n",
       "      <td>4</td>\n",
       "      <td>OperatingIncomeLoss</td>\n",
       "      <td>1693000000</td>\n",
       "      <td>Revenues</td>\n",
       "      <td>17937000000</td>\n",
       "    </tr>\n",
       "    <tr>\n",
       "      <th>7</th>\n",
       "      <td>THE BOEING COMPANY</td>\n",
       "      <td>12927</td>\n",
       "      <td>NetIncomeLoss</td>\n",
       "      <td>2010-01-01</td>\n",
       "      <td>2010-03-31</td>\n",
       "      <td>519000000</td>\n",
       "      <td>2010</td>\n",
       "      <td>1</td>\n",
       "      <td>OperatingIncomeLoss</td>\n",
       "      <td>1174000000</td>\n",
       "      <td>Revenues</td>\n",
       "      <td>15216000000</td>\n",
       "    </tr>\n",
       "  </tbody>\n",
       "</table>\n",
       "</div>"
      ],
      "text/plain": [
       "           EntityName    CIK Metric_net_income       start        end  \\\n",
       "2  THE BOEING COMPANY  12927     NetIncomeLoss  2009-01-01 2009-03-31   \n",
       "3  THE BOEING COMPANY  12927     NetIncomeLoss  2009-04-01 2009-06-30   \n",
       "4  THE BOEING COMPANY  12927     NetIncomeLoss  2009-07-01 2009-09-30   \n",
       "5  THE BOEING COMPANY  12927     NetIncomeLoss  2009-10-01 2009-12-31   \n",
       "7  THE BOEING COMPANY  12927     NetIncomeLoss  2010-01-01 2010-03-31   \n",
       "\n",
       "   NetIncomeLoss  year  quarter Metric_operating_income  OperatingIncomeLoss  \\\n",
       "2      610000000  2009        1     OperatingIncomeLoss           1025000000   \n",
       "3      998000000  2009        2     OperatingIncomeLoss           1529000000   \n",
       "4    -1564000000  2009        3     OperatingIncomeLoss          -2151000000   \n",
       "5     1268000000  2009        4     OperatingIncomeLoss           1693000000   \n",
       "7      519000000  2010        1     OperatingIncomeLoss           1174000000   \n",
       "\n",
       "     Metric     Revenues  \n",
       "2  Revenues  16502000000  \n",
       "3  Revenues  17154000000  \n",
       "4  Revenues  16688000000  \n",
       "5  Revenues  17937000000  \n",
       "7  Revenues  15216000000  "
      ]
     },
     "execution_count": 32,
     "metadata": {},
     "output_type": "execute_result"
    }
   ],
   "source": [
    "df_merged_quarterly.head(5)"
   ]
  },
  {
   "cell_type": "markdown",
   "id": "aa7aa6d9-fd49-4662-970f-80e9994b9bed",
   "metadata": {},
   "source": [
    "# Calculation"
   ]
  },
  {
   "cell_type": "markdown",
   "id": "c7636ad8-cc2c-40b5-b153-e5f4d0c5bb92",
   "metadata": {},
   "source": [
    "**Profitability:**\n",
    "    \n",
    "    - `NetIncomeLoss`\n",
    "    - `Revenues`\n",
    "    - `OperatingIncomeLoss`\n",
    "    - **Calculation:** Compare net income to revenue for profit margin. Operating income gives insight into operational efficiency."
   ]
  },
  {
   "cell_type": "code",
   "execution_count": 24,
   "id": "1774c3f5-c93a-4448-ba83-24e97faf91e2",
   "metadata": {},
   "outputs": [],
   "source": [
    "# Start by creating a copy of the DataFrame to avoid SettingWithCopyWarning\n",
    "df_final = df_merged_quarterly.copy()"
   ]
  },
  {
   "cell_type": "code",
   "execution_count": 25,
   "id": "d8bb8465-18e3-4881-9b08-f6d522caf582",
   "metadata": {},
   "outputs": [],
   "source": [
    "# Convert financial values from cents to millions for readability\n",
    "df_final['NetIncomeLoss'] /= 1000000\n",
    "df_final['Revenues'] /= 1000000\n",
    "df_final['OperatingIncomeLoss'] /= 1000000"
   ]
  },
  {
   "cell_type": "code",
   "execution_count": 26,
   "id": "213d50ee-2c89-41f9-bb7b-7d80083b2ac9",
   "metadata": {},
   "outputs": [],
   "source": [
    "# Calculate Profit Margin where data is available\n",
    "df_final['ProfitMarginPercent'] = df_final.apply(\n",
    "    lambda row: (row['NetIncomeLoss'] / row['Revenues']) * 100 \n",
    "    if pd.notna(row['NetIncomeLoss']) and pd.notna(row['Revenues']) and row['Revenues'] != 0 \n",
    "    else None, axis=1)"
   ]
  },
  {
   "cell_type": "code",
   "execution_count": 27,
   "id": "4b388440-62d9-4b73-9e47-830d6e6d9655",
   "metadata": {},
   "outputs": [],
   "source": [
    "# Construct the 'Quarter' column\n",
    "df_final['Quarter'] = df_final['year'].astype(str) + '-Q' + df_final['quarter'].astype(str)"
   ]
  },
  {
   "cell_type": "code",
   "execution_count": 28,
   "id": "db15060c-e0e5-44f0-ab8a-37642f31a8a1",
   "metadata": {},
   "outputs": [],
   "source": [
    "# Selecting and renaming columns to match the desired format\n",
    "df_final = df_final[['EntityName', 'CIK', 'end', 'NetIncomeLoss', 'Revenues', 'OperatingIncomeLoss', 'ProfitMarginPercent', 'Quarter']]\n",
    "df_final.rename(columns={'EntityName': 'ENTITY', 'end': 'DATE'}, inplace=True)\n"
   ]
  },
  {
   "cell_type": "code",
   "execution_count": 29,
   "id": "0a8fd9a7-b484-473a-a96c-7ed64ba10976",
   "metadata": {},
   "outputs": [
    {
     "data": {
      "text/html": [
       "<div>\n",
       "<style scoped>\n",
       "    .dataframe tbody tr th:only-of-type {\n",
       "        vertical-align: middle;\n",
       "    }\n",
       "\n",
       "    .dataframe tbody tr th {\n",
       "        vertical-align: top;\n",
       "    }\n",
       "\n",
       "    .dataframe thead th {\n",
       "        text-align: right;\n",
       "    }\n",
       "</style>\n",
       "<table border=\"1\" class=\"dataframe\">\n",
       "  <thead>\n",
       "    <tr style=\"text-align: right;\">\n",
       "      <th></th>\n",
       "      <th>ENTITY</th>\n",
       "      <th>CIK</th>\n",
       "      <th>DATE</th>\n",
       "      <th>NetIncomeLoss</th>\n",
       "      <th>Revenues</th>\n",
       "      <th>OperatingIncomeLoss</th>\n",
       "      <th>ProfitMarginPercent</th>\n",
       "      <th>Quarter</th>\n",
       "    </tr>\n",
       "  </thead>\n",
       "  <tbody>\n",
       "    <tr>\n",
       "      <th>2</th>\n",
       "      <td>THE BOEING COMPANY</td>\n",
       "      <td>12927</td>\n",
       "      <td>2009-03-31</td>\n",
       "      <td>610.0</td>\n",
       "      <td>16502.0</td>\n",
       "      <td>1025.0</td>\n",
       "      <td>3.696522</td>\n",
       "      <td>2009-Q1</td>\n",
       "    </tr>\n",
       "    <tr>\n",
       "      <th>3</th>\n",
       "      <td>THE BOEING COMPANY</td>\n",
       "      <td>12927</td>\n",
       "      <td>2009-06-30</td>\n",
       "      <td>998.0</td>\n",
       "      <td>17154.0</td>\n",
       "      <td>1529.0</td>\n",
       "      <td>5.817885</td>\n",
       "      <td>2009-Q2</td>\n",
       "    </tr>\n",
       "    <tr>\n",
       "      <th>4</th>\n",
       "      <td>THE BOEING COMPANY</td>\n",
       "      <td>12927</td>\n",
       "      <td>2009-09-30</td>\n",
       "      <td>-1564.0</td>\n",
       "      <td>16688.0</td>\n",
       "      <td>-2151.0</td>\n",
       "      <td>-9.372004</td>\n",
       "      <td>2009-Q3</td>\n",
       "    </tr>\n",
       "    <tr>\n",
       "      <th>5</th>\n",
       "      <td>THE BOEING COMPANY</td>\n",
       "      <td>12927</td>\n",
       "      <td>2009-12-31</td>\n",
       "      <td>1268.0</td>\n",
       "      <td>17937.0</td>\n",
       "      <td>1693.0</td>\n",
       "      <td>7.069187</td>\n",
       "      <td>2009-Q4</td>\n",
       "    </tr>\n",
       "    <tr>\n",
       "      <th>7</th>\n",
       "      <td>THE BOEING COMPANY</td>\n",
       "      <td>12927</td>\n",
       "      <td>2010-03-31</td>\n",
       "      <td>519.0</td>\n",
       "      <td>15216.0</td>\n",
       "      <td>1174.0</td>\n",
       "      <td>3.410883</td>\n",
       "      <td>2010-Q1</td>\n",
       "    </tr>\n",
       "  </tbody>\n",
       "</table>\n",
       "</div>"
      ],
      "text/plain": [
       "               ENTITY    CIK       DATE  NetIncomeLoss  Revenues  \\\n",
       "2  THE BOEING COMPANY  12927 2009-03-31          610.0   16502.0   \n",
       "3  THE BOEING COMPANY  12927 2009-06-30          998.0   17154.0   \n",
       "4  THE BOEING COMPANY  12927 2009-09-30        -1564.0   16688.0   \n",
       "5  THE BOEING COMPANY  12927 2009-12-31         1268.0   17937.0   \n",
       "7  THE BOEING COMPANY  12927 2010-03-31          519.0   15216.0   \n",
       "\n",
       "   OperatingIncomeLoss  ProfitMarginPercent  Quarter  \n",
       "2               1025.0             3.696522  2009-Q1  \n",
       "3               1529.0             5.817885  2009-Q2  \n",
       "4              -2151.0            -9.372004  2009-Q3  \n",
       "5               1693.0             7.069187  2009-Q4  \n",
       "7               1174.0             3.410883  2010-Q1  "
      ]
     },
     "execution_count": 29,
     "metadata": {},
     "output_type": "execute_result"
    }
   ],
   "source": [
    "# Display the first few rows of the final DataFrame\n",
    "df_final.head(5)"
   ]
  },
  {
   "cell_type": "markdown",
   "id": "911cf03e-2324-4222-8b0e-54a80d8a1905",
   "metadata": {},
   "source": [
    "# Visualization"
   ]
  },
  {
   "cell_type": "markdown",
   "id": "94632caa-daec-4b28-969d-645ebef9c786",
   "metadata": {},
   "source": [
    "It seems 2020 had a bumpy ride for both health and aviation! ✈️😷\n",
    "\n",
    "| ENTITY             | Net Income/Loss | Revenues | Operating Income/Loss | Profit Margin Percent | Quarter |\n",
    "|--------------------|-----------------|----------|------------------------|-----------------------|---------|\n",
    "| THE BOEING COMPANY | -8420.0         | 15304.0  | -8049.0                | -55.018296            | 2020-Q4 |\n"
   ]
  },
  {
   "cell_type": "code",
   "execution_count": 30,
   "id": "d061400c-400a-4974-a552-cff111ff7922",
   "metadata": {},
   "outputs": [
    {
     "data": {
      "image/png": "[encoded data removed]",
      "text/plain": [
       "<Figure size 1000x600 with 1 Axes>"
      ]
     },
     "metadata": {},
     "output_type": "display_data"
    }
   ],
   "source": [
    "import matplotlib.pyplot as plt\n",
    "\n",
    "# Filter the DataFrame for NetIncomeLoss and DATE columns\n",
    "net_income_data = df_final[['DATE', 'NetIncomeLoss']].copy() \n",
    "\n",
    "# Set 'DATE' as the index for time-based plotting\n",
    "net_income_data.set_index('DATE', inplace=True)\n",
    "\n",
    "plt.figure(figsize=(10, 6))\n",
    "plt.plot(net_income_data.index, net_income_data['NetIncomeLoss'], marker='o', linestyle='-')\n",
    "plt.xlabel('Date')\n",
    "plt.ylabel('Net Income/Loss')\n",
    "plt.title('Net Income/Loss Over Time')\n",
    "plt.grid(True)\n",
    "plt.show()\n"
   ]
  }
 ],
 "metadata": {
  "kernelspec": {
   "display_name": "Python 3 (ipykernel)",
   "language": "python",
   "name": "python3"
  },
  "language_info": {
   "codemirror_mode": {
    "name": "ipython",
    "version": 3
   },
   "file_extension": ".py",
   "mimetype": "text/x-python",
   "name": "python",
   "nbconvert_exporter": "python",
   "pygments_lexer": "ipython3",
   "version": "3.11.6"
  }
 },
 "nbformat": 4,
 "nbformat_minor": 5
}
