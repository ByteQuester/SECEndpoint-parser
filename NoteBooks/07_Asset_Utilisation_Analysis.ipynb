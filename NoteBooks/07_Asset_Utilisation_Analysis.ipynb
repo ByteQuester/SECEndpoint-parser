{
 "cells": [
  {
   "cell_type": "markdown",
   "id": "645f7f19-4820-48f6-9c48-c6680ef21474",
   "metadata": {
    "jp-MarkdownHeadingCollapsed": true
   },
   "source": [
    "# 07_Asset_Utilisation_Analysis.ipynb"
   ]
  },
  {
   "cell_type": "markdown",
   "id": "1b528acd-813f-438e-af94-6d37e98a7e4e",
   "metadata": {},
   "source": [
    "## Title: \"Asset Utilisation Analysis\""
   ]
  },
  {
   "cell_type": "markdown",
   "id": "4c68e4b6-02e6-4f7f-bc98-b57c7595c604",
   "metadata": {},
   "source": [
    "### Contents:\n",
    "\n",
    "- Exploring Turnover Ratio data from SEC.\n",
    "- Comparison with ---.sql. #TODO\n",
    "- Asset Turnover Ratio analysis.\n",
    "- Visual representations and implications."
   ]
  },
  {
   "cell_type": "markdown",
   "id": "39b005c6-3ee2-41ad-91a1-9d241660f870",
   "metadata": {},
   "source": [
    "---"
   ]
  },
  {
   "cell_type": "markdown",
   "id": "742170c6-3012-4827-aa74-310b498d23aa",
   "metadata": {},
   "source": [
    "# Set Up the Environment"
   ]
  },
  {
   "cell_type": "markdown",
   "id": "5e6b38cc-c136-412f-b12e-67141d0676b9",
   "metadata": {},
   "source": [
    "## Import Libraries"
   ]
  },
  {
   "cell_type": "code",
   "execution_count": 2,
   "id": "67ca6750-7217-4be1-978a-1a433b759c54",
   "metadata": {},
   "outputs": [],
   "source": [
    "import pandas as pd\n",
    "import matplotlib.pyplot as plt\n",
    "import seaborn as sns\n",
    "import plotly.graph_objs as go\n",
    "from plotly.subplots import make_subplots\n",
    "from dash import dcc, html\n",
    "from dash.dependencies import Input, Output\n",
    "import plotly.graph_objs as go "
   ]
  },
  {
   "cell_type": "markdown",
   "id": "cf26d2db-597b-4c03-8acf-94fe6fd2c7a3",
   "metadata": {},
   "source": [
    "## Functions"
   ]
  },
  {
   "cell_type": "code",
   "execution_count": 3,
   "id": "0edf7aaf-b9e7-4acd-8e09-70def5e11664",
   "metadata": {},
   "outputs": [],
   "source": [
    "def prepare_and_sort_financial_data(df, metric):\n",
    "    \"\"\"\n",
    "    Prepares and sorts financial data for a specific metric.\n",
    "\n",
    "    Args:\n",
    "    df (DataFrame): The raw DataFrame containing financial data.\n",
    "    metric (str): The specific financial metric to prepare and sort (e.g., 'OperatingIncomeLoss').\n",
    "\n",
    "    Returns:\n",
    "    DataFrame: A DataFrame filtered, cleaned, and sorted for the specific metric.\n",
    "    \"\"\"\n",
    "    # Filter by Metric\n",
    "    df_metric = df[df['Metric'] == metric]\n",
    "\n",
    "    # Filter for 10-K filings and ensure 'frame' column is not empty\n",
    "    filtered_df = df_metric[df_metric['form'] == '10-K']\n",
    "    filtered_df = filtered_df[filtered_df['frame'].notna()]\n",
    "\n",
    "    # Drop unnecessary columns\n",
    "    columns_to_drop = ['accn', 'fy', 'fp', 'form', 'filed']\n",
    "    filtered_df_cleaned = filtered_df.drop(columns=columns_to_drop)\n",
    "\n",
    "    # Define a custom sorting key and split into 'year' and 'quarter'\n",
    "    def custom_sort_key(frame_value):\n",
    "        year = frame_value[2:6]  # Extract the year part (e.g., '2007')\n",
    "        quarter_order = {'Q1': 1, 'Q2': 2, 'Q3': 3, 'Q4': 4, 'FY': 5}  # Define order for quarters and FY\n",
    "        quarter = frame_value[6:] if frame_value[6:] in quarter_order else 'FY'\n",
    "        return (year, quarter_order[quarter])\n",
    "\n",
    "    filtered_df_cleaned[['year', 'quarter']] = filtered_df_cleaned['frame'].apply(custom_sort_key).apply(pd.Series)\n",
    "\n",
    "    # Sort the DataFrame and drop the 'frame' and 'frame_sort_key' columns\n",
    "    sorted_df = filtered_df_cleaned.sort_values(by=['year', 'quarter']).drop(columns=['frame'])\n",
    "\n",
    "    return sorted_df\n",
    "\n",
    "# Example usage with multiple metrics\n",
    "# operating_income_loss_data = prepare_and_sort_financial_data(raw_data, 'OperatingIncomeLoss')\n",
    "# net_income_loss_data = prepare_and_sort_financial_data(raw_data, 'NetIncomeLoss')\n",
    "# revenues_data = prepare_and_sort_financial_data(raw_data, 'Revenues')\n"
   ]
  },
  {
   "cell_type": "markdown",
   "id": "7e6ffad5-7e1a-4d4b-ad7e-e63abc599b8a",
   "metadata": {},
   "source": [
    "# Load Data"
   ]
  },
  {
   "cell_type": "markdown",
   "id": "bbf50fa0-70c4-4f31-8933-7dca009c7810",
   "metadata": {},
   "source": [
    "## Load Data from CSV File"
   ]
  },
  {
   "cell_type": "code",
   "execution_count": 4,
   "id": "17da640e-aa9a-4081-98e6-9166746159dd",
   "metadata": {},
   "outputs": [],
   "source": [
    "raw_data = pd.read_csv('combined_df.csv')"
   ]
  },
  {
   "cell_type": "code",
   "execution_count": 5,
   "id": "2da40aa2-7091-4fd4-9d72-28feb1eb4206",
   "metadata": {},
   "outputs": [
    {
     "data": {
      "text/html": [
       "<div>\n",
       "<style scoped>\n",
       "    .dataframe tbody tr th:only-of-type {\n",
       "        vertical-align: middle;\n",
       "    }\n",
       "\n",
       "    .dataframe tbody tr th {\n",
       "        vertical-align: top;\n",
       "    }\n",
       "\n",
       "    .dataframe thead th {\n",
       "        text-align: right;\n",
       "    }\n",
       "</style>\n",
       "<table border=\"1\" class=\"dataframe\">\n",
       "  <thead>\n",
       "    <tr style=\"text-align: right;\">\n",
       "      <th></th>\n",
       "      <th>EntityName</th>\n",
       "      <th>CIK</th>\n",
       "      <th>Metric</th>\n",
       "      <th>start</th>\n",
       "      <th>end</th>\n",
       "      <th>val</th>\n",
       "      <th>accn</th>\n",
       "      <th>fy</th>\n",
       "      <th>fp</th>\n",
       "      <th>form</th>\n",
       "      <th>filed</th>\n",
       "      <th>frame</th>\n",
       "    </tr>\n",
       "  </thead>\n",
       "  <tbody>\n",
       "    <tr>\n",
       "      <th>0</th>\n",
       "      <td>THE BOEING COMPANY</td>\n",
       "      <td>12927</td>\n",
       "      <td>Revenues</td>\n",
       "      <td>2007-01-01</td>\n",
       "      <td>2007-12-31</td>\n",
       "      <td>66387000000</td>\n",
       "      <td>0001193125-10-024406</td>\n",
       "      <td>2009</td>\n",
       "      <td>FY</td>\n",
       "      <td>10-K</td>\n",
       "      <td>2010-02-08</td>\n",
       "      <td>CY2007</td>\n",
       "    </tr>\n",
       "    <tr>\n",
       "      <th>1</th>\n",
       "      <td>THE BOEING COMPANY</td>\n",
       "      <td>12927</td>\n",
       "      <td>Revenues</td>\n",
       "      <td>2008-01-01</td>\n",
       "      <td>2008-06-30</td>\n",
       "      <td>32952000000</td>\n",
       "      <td>0001193125-09-152905</td>\n",
       "      <td>2009</td>\n",
       "      <td>Q2</td>\n",
       "      <td>10-Q</td>\n",
       "      <td>2009-07-22</td>\n",
       "      <td>NaN</td>\n",
       "    </tr>\n",
       "  </tbody>\n",
       "</table>\n",
       "</div>"
      ],
      "text/plain": [
       "           EntityName    CIK    Metric       start         end          val  \\\n",
       "0  THE BOEING COMPANY  12927  Revenues  2007-01-01  2007-12-31  66387000000   \n",
       "1  THE BOEING COMPANY  12927  Revenues  2008-01-01  2008-06-30  32952000000   \n",
       "\n",
       "                   accn    fy  fp  form       filed   frame  \n",
       "0  0001193125-10-024406  2009  FY  10-K  2010-02-08  CY2007  \n",
       "1  0001193125-09-152905  2009  Q2  10-Q  2009-07-22     NaN  "
      ]
     },
     "execution_count": 5,
     "metadata": {},
     "output_type": "execute_result"
    }
   ],
   "source": [
    "# Inspect the first few rows of the dataset\n",
    "raw_data.head(2)"
   ]
  },
  {
   "cell_type": "code",
   "execution_count": 6,
   "id": "77c4cd58-2314-4159-9285-e7e5cd74024e",
   "metadata": {},
   "outputs": [],
   "source": [
    "# Convert 'end' column to datetime for proper sorting\n",
    "raw_data['end'] = pd.to_datetime(raw_data['end'], format='%Y-%m-%d')\n"
   ]
  },
  {
   "cell_type": "code",
   "execution_count": 7,
   "id": "c86d3812-3223-469f-8e48-7e3aab83abfb",
   "metadata": {},
   "outputs": [
    {
     "name": "stdout",
     "output_type": "stream",
     "text": [
      "<class 'pandas.core.frame.DataFrame'>\n",
      "RangeIndex: 394 entries, 0 to 393\n",
      "Data columns (total 12 columns):\n",
      " #   Column      Non-Null Count  Dtype         \n",
      "---  ------      --------------  -----         \n",
      " 0   EntityName  394 non-null    object        \n",
      " 1   CIK         394 non-null    int64         \n",
      " 2   Metric      394 non-null    object        \n",
      " 3   start       278 non-null    object        \n",
      " 4   end         394 non-null    datetime64[ns]\n",
      " 5   val         394 non-null    int64         \n",
      " 6   accn        394 non-null    object        \n",
      " 7   fy          394 non-null    int64         \n",
      " 8   fp          394 non-null    object        \n",
      " 9   form        394 non-null    object        \n",
      " 10  filed       394 non-null    object        \n",
      " 11  frame       134 non-null    object        \n",
      "dtypes: datetime64[ns](1), int64(3), object(8)\n",
      "memory usage: 37.1+ KB\n"
     ]
    }
   ],
   "source": [
    "# Check the data types and look for any missing values\n",
    "raw_data.info()"
   ]
  },
  {
   "cell_type": "markdown",
   "id": "5d4da628-9f6a-4f82-8007-f6dfbc576111",
   "metadata": {},
   "source": [
    "# Individual Metrics Analysis"
   ]
  },
  {
   "cell_type": "markdown",
   "id": "03d73758",
   "metadata": {},
   "source": [
    "## Analysis of Revenues"
   ]
  },
  {
   "cell_type": "code",
   "execution_count": 8,
   "id": "4a63b7ed",
   "metadata": {},
   "outputs": [],
   "source": [
    "revenues = raw_data[raw_data['Metric'] == 'Revenues']"
   ]
  },
  {
   "cell_type": "code",
   "execution_count": 9,
   "id": "f2afb9ba",
   "metadata": {},
   "outputs": [],
   "source": [
    "revenues_data = prepare_and_sort_financial_data(raw_data, 'Revenues')"
   ]
  },
  {
   "cell_type": "code",
   "execution_count": 10,
   "id": "c3691871",
   "metadata": {},
   "outputs": [
    {
     "data": {
      "text/html": [
       "<div>\n",
       "<style scoped>\n",
       "    .dataframe tbody tr th:only-of-type {\n",
       "        vertical-align: middle;\n",
       "    }\n",
       "\n",
       "    .dataframe tbody tr th {\n",
       "        vertical-align: top;\n",
       "    }\n",
       "\n",
       "    .dataframe thead th {\n",
       "        text-align: right;\n",
       "    }\n",
       "</style>\n",
       "<table border=\"1\" class=\"dataframe\">\n",
       "  <thead>\n",
       "    <tr style=\"text-align: right;\">\n",
       "      <th></th>\n",
       "      <th>EntityName</th>\n",
       "      <th>CIK</th>\n",
       "      <th>Metric</th>\n",
       "      <th>start</th>\n",
       "      <th>end</th>\n",
       "      <th>val</th>\n",
       "      <th>year</th>\n",
       "      <th>quarter</th>\n",
       "    </tr>\n",
       "  </thead>\n",
       "  <tbody>\n",
       "    <tr>\n",
       "      <th>0</th>\n",
       "      <td>THE BOEING COMPANY</td>\n",
       "      <td>12927</td>\n",
       "      <td>Revenues</td>\n",
       "      <td>2007-01-01</td>\n",
       "      <td>2007-12-31</td>\n",
       "      <td>66387000000</td>\n",
       "      <td>2007</td>\n",
       "      <td>5</td>\n",
       "    </tr>\n",
       "    <tr>\n",
       "      <th>6</th>\n",
       "      <td>THE BOEING COMPANY</td>\n",
       "      <td>12927</td>\n",
       "      <td>Revenues</td>\n",
       "      <td>2008-01-01</td>\n",
       "      <td>2008-12-31</td>\n",
       "      <td>60909000000</td>\n",
       "      <td>2008</td>\n",
       "      <td>5</td>\n",
       "    </tr>\n",
       "  </tbody>\n",
       "</table>\n",
       "</div>"
      ],
      "text/plain": [
       "           EntityName    CIK    Metric       start        end          val  \\\n",
       "0  THE BOEING COMPANY  12927  Revenues  2007-01-01 2007-12-31  66387000000   \n",
       "6  THE BOEING COMPANY  12927  Revenues  2008-01-01 2008-12-31  60909000000   \n",
       "\n",
       "   year  quarter  \n",
       "0  2007        5  \n",
       "6  2008        5  "
      ]
     },
     "execution_count": 10,
     "metadata": {},
     "output_type": "execute_result"
    }
   ],
   "source": [
    "revenues_data.head(2)"
   ]
  },
  {
   "cell_type": "code",
   "execution_count": 11,
   "id": "eee2ba10",
   "metadata": {},
   "outputs": [
    {
     "name": "stdout",
     "output_type": "stream",
     "text": [
      "           CIK                            end           val    quarter\n",
      "count     61.0                             61  6.100000e+01  61.000000\n",
      "mean   12927.0  2014-12-15 13:46:13.770491904  3.564162e+10   3.180328\n",
      "min    12927.0            2007-12-31 00:00:00  1.491000e+10   1.000000\n",
      "25%    12927.0            2011-12-31 00:00:00  1.938300e+10   2.000000\n",
      "50%    12927.0            2014-12-31 00:00:00  2.328600e+10   3.000000\n",
      "75%    12927.0            2017-12-31 00:00:00  5.815800e+10   5.000000\n",
      "max    12927.0            2022-12-31 00:00:00  1.011270e+11   5.000000\n",
      "std        0.0                            NaN  2.622392e+10   1.466381\n"
     ]
    },
    {
     "data": {
      "image/png": "[encoded data removed]",
      "text/plain": [
       "<Figure size 640x480 with 1 Axes>"
      ]
     },
     "metadata": {},
     "output_type": "display_data"
    }
   ],
   "source": [
    "print(revenues_data.describe())\n",
    "revenues_data.plot(x='end', y='val', title='Revenues Over Time')\n",
    "plt.show()\n"
   ]
  },
  {
   "cell_type": "markdown",
   "id": "83e4c4da-da70-4ee1-9550-fb1b4d599d1f",
   "metadata": {},
   "source": [
    "## Analysis of PropertyPlantAndEquipmentNet "
   ]
  },
  {
   "cell_type": "code",
   "execution_count": 12,
   "id": "11945af5-7b03-4191-a86f-89fdd06603b7",
   "metadata": {},
   "outputs": [],
   "source": [
    "equipment_net = raw_data[raw_data['Metric'] == 'PropertyPlantAndEquipmentNet']"
   ]
  },
  {
   "cell_type": "code",
   "execution_count": 13,
   "id": "bd462648-362f-45f2-a04d-af2a04ec7089",
   "metadata": {},
   "outputs": [],
   "source": [
    "equipment_net_data = prepare_and_sort_financial_data(raw_data, 'PropertyPlantAndEquipmentNet')"
   ]
  },
  {
   "cell_type": "code",
   "execution_count": 14,
   "id": "59c48245-37a0-4156-b6e4-711d28ee974b",
   "metadata": {},
   "outputs": [
    {
     "data": {
      "text/html": [
       "<div>\n",
       "<style scoped>\n",
       "    .dataframe tbody tr th:only-of-type {\n",
       "        vertical-align: middle;\n",
       "    }\n",
       "\n",
       "    .dataframe tbody tr th {\n",
       "        vertical-align: top;\n",
       "    }\n",
       "\n",
       "    .dataframe thead th {\n",
       "        text-align: right;\n",
       "    }\n",
       "</style>\n",
       "<table border=\"1\" class=\"dataframe\">\n",
       "  <thead>\n",
       "    <tr style=\"text-align: right;\">\n",
       "      <th></th>\n",
       "      <th>EntityName</th>\n",
       "      <th>CIK</th>\n",
       "      <th>Metric</th>\n",
       "      <th>start</th>\n",
       "      <th>end</th>\n",
       "      <th>val</th>\n",
       "      <th>year</th>\n",
       "      <th>quarter</th>\n",
       "    </tr>\n",
       "  </thead>\n",
       "  <tbody>\n",
       "    <tr>\n",
       "      <th>280</th>\n",
       "      <td>THE BOEING COMPANY</td>\n",
       "      <td>12927</td>\n",
       "      <td>PropertyPlantAndEquipmentNet</td>\n",
       "      <td>NaN</td>\n",
       "      <td>2008-12-31</td>\n",
       "      <td>8762000000</td>\n",
       "      <td>2008</td>\n",
       "      <td>5</td>\n",
       "    </tr>\n",
       "    <tr>\n",
       "      <th>287</th>\n",
       "      <td>THE BOEING COMPANY</td>\n",
       "      <td>12927</td>\n",
       "      <td>PropertyPlantAndEquipmentNet</td>\n",
       "      <td>NaN</td>\n",
       "      <td>2009-12-31</td>\n",
       "      <td>8784000000</td>\n",
       "      <td>2009</td>\n",
       "      <td>5</td>\n",
       "    </tr>\n",
       "  </tbody>\n",
       "</table>\n",
       "</div>"
      ],
      "text/plain": [
       "             EntityName    CIK                        Metric start        end  \\\n",
       "280  THE BOEING COMPANY  12927  PropertyPlantAndEquipmentNet   NaN 2008-12-31   \n",
       "287  THE BOEING COMPANY  12927  PropertyPlantAndEquipmentNet   NaN 2009-12-31   \n",
       "\n",
       "            val  year  quarter  \n",
       "280  8762000000  2008        5  \n",
       "287  8784000000  2009        5  "
      ]
     },
     "execution_count": 14,
     "metadata": {},
     "output_type": "execute_result"
    }
   ],
   "source": [
    "equipment_net_data.head(2)"
   ]
  },
  {
   "cell_type": "code",
   "execution_count": 16,
   "id": "5459090a-b5aa-414e-815a-9ffc0186c339",
   "metadata": {},
   "outputs": [
    {
     "name": "stdout",
     "output_type": "stream",
     "text": [
      "<class 'pandas.core.frame.DataFrame'>\n",
      "Index: 14 entries, 280 to 383\n",
      "Data columns (total 8 columns):\n",
      " #   Column      Non-Null Count  Dtype         \n",
      "---  ------      --------------  -----         \n",
      " 0   EntityName  14 non-null     object        \n",
      " 1   CIK         14 non-null     int64         \n",
      " 2   Metric      14 non-null     object        \n",
      " 3   start       0 non-null      object        \n",
      " 4   end         14 non-null     datetime64[ns]\n",
      " 5   val         14 non-null     int64         \n",
      " 6   year        14 non-null     object        \n",
      " 7   quarter     14 non-null     int64         \n",
      "dtypes: datetime64[ns](1), int64(3), object(4)\n",
      "memory usage: 1008.0+ bytes\n",
      "None\n"
     ]
    },
    {
     "data": {
      "image/png": "[encoded data removed]",
      "text/plain": [
       "<Figure size 640x480 with 1 Axes>"
      ]
     },
     "metadata": {},
     "output_type": "display_data"
    }
   ],
   "source": [
    "print(equipment_net_data.info())\n",
    "equipment_net_data.plot(x='end', y='val', title='Property Plant And Equipment Net Over Time')\n",
    "plt.show()\n"
   ]
  },
  {
   "cell_type": "markdown",
   "id": "29d731d1-ccd0-4b1a-9103-4a1088590d49",
   "metadata": {},
   "source": [
    "# Merge the Data"
   ]
  },
  {
   "cell_type": "code",
   "execution_count": 17,
   "id": "b4c828d8",
   "metadata": {},
   "outputs": [],
   "source": [
    "df_merged = pd.merge(equipment_net_data, revenues_data, \n",
    "                     on=['EntityName', 'CIK', 'end', 'year', 'quarter'], \n",
    "                     how='outer', suffixes=('_equipment', '_revenues'))"
   ]
  },
  {
   "cell_type": "code",
   "execution_count": 19,
   "id": "6e06dc61-008d-4836-bfae-125f8cd65291",
   "metadata": {},
   "outputs": [],
   "source": [
    "df_merged.rename(columns={'val_equipment': 'EquipmentNet', \n",
    "                          'val_revenues': 'Revenues'}, inplace=True)"
   ]
  },
  {
   "cell_type": "code",
   "execution_count": 23,
   "id": "7156cd5b-ec3a-4cef-a5de-7185c17f318f",
   "metadata": {},
   "outputs": [],
   "source": [
    "# Filtering out the annual data (rows where quarter is '5')\n",
    "#df_merged_quarterly = df_merged[df_merged['quarter']] #!= 5]"
   ]
  },
  {
   "cell_type": "code",
   "execution_count": 21,
   "id": "2430b743-71c8-46d4-8c65-8a9c99d56bb5",
   "metadata": {
    "scrolled": true
   },
   "outputs": [
    {
     "data": {
      "text/html": [
       "<div>\n",
       "<style scoped>\n",
       "    .dataframe tbody tr th:only-of-type {\n",
       "        vertical-align: middle;\n",
       "    }\n",
       "\n",
       "    .dataframe tbody tr th {\n",
       "        vertical-align: top;\n",
       "    }\n",
       "\n",
       "    .dataframe thead th {\n",
       "        text-align: right;\n",
       "    }\n",
       "</style>\n",
       "<table border=\"1\" class=\"dataframe\">\n",
       "  <thead>\n",
       "    <tr style=\"text-align: right;\">\n",
       "      <th></th>\n",
       "      <th>EntityName</th>\n",
       "      <th>CIK</th>\n",
       "      <th>Metric_equipment</th>\n",
       "      <th>start_equipment</th>\n",
       "      <th>end</th>\n",
       "      <th>EquipmentNet</th>\n",
       "      <th>year</th>\n",
       "      <th>quarter</th>\n",
       "      <th>Metric_revenues</th>\n",
       "      <th>start_revenues</th>\n",
       "      <th>Revenues</th>\n",
       "    </tr>\n",
       "  </thead>\n",
       "  <tbody>\n",
       "    <tr>\n",
       "      <th>0</th>\n",
       "      <td>THE BOEING COMPANY</td>\n",
       "      <td>12927</td>\n",
       "      <td>PropertyPlantAndEquipmentNet</td>\n",
       "      <td>NaN</td>\n",
       "      <td>2008-12-31</td>\n",
       "      <td>8.762000e+09</td>\n",
       "      <td>2008</td>\n",
       "      <td>5</td>\n",
       "      <td>Revenues</td>\n",
       "      <td>2008-01-01</td>\n",
       "      <td>60909000000</td>\n",
       "    </tr>\n",
       "    <tr>\n",
       "      <th>1</th>\n",
       "      <td>THE BOEING COMPANY</td>\n",
       "      <td>12927</td>\n",
       "      <td>PropertyPlantAndEquipmentNet</td>\n",
       "      <td>NaN</td>\n",
       "      <td>2009-12-31</td>\n",
       "      <td>8.784000e+09</td>\n",
       "      <td>2009</td>\n",
       "      <td>5</td>\n",
       "      <td>Revenues</td>\n",
       "      <td>2009-01-01</td>\n",
       "      <td>68281000000</td>\n",
       "    </tr>\n",
       "    <tr>\n",
       "      <th>2</th>\n",
       "      <td>THE BOEING COMPANY</td>\n",
       "      <td>12927</td>\n",
       "      <td>PropertyPlantAndEquipmentNet</td>\n",
       "      <td>NaN</td>\n",
       "      <td>2010-12-31</td>\n",
       "      <td>8.931000e+09</td>\n",
       "      <td>2010</td>\n",
       "      <td>5</td>\n",
       "      <td>Revenues</td>\n",
       "      <td>2010-01-01</td>\n",
       "      <td>64306000000</td>\n",
       "    </tr>\n",
       "    <tr>\n",
       "      <th>3</th>\n",
       "      <td>THE BOEING COMPANY</td>\n",
       "      <td>12927</td>\n",
       "      <td>PropertyPlantAndEquipmentNet</td>\n",
       "      <td>NaN</td>\n",
       "      <td>2011-12-31</td>\n",
       "      <td>9.313000e+09</td>\n",
       "      <td>2011</td>\n",
       "      <td>5</td>\n",
       "      <td>Revenues</td>\n",
       "      <td>2011-01-01</td>\n",
       "      <td>68735000000</td>\n",
       "    </tr>\n",
       "    <tr>\n",
       "      <th>4</th>\n",
       "      <td>THE BOEING COMPANY</td>\n",
       "      <td>12927</td>\n",
       "      <td>PropertyPlantAndEquipmentNet</td>\n",
       "      <td>NaN</td>\n",
       "      <td>2012-12-31</td>\n",
       "      <td>9.660000e+09</td>\n",
       "      <td>2012</td>\n",
       "      <td>5</td>\n",
       "      <td>Revenues</td>\n",
       "      <td>2012-01-01</td>\n",
       "      <td>81698000000</td>\n",
       "    </tr>\n",
       "  </tbody>\n",
       "</table>\n",
       "</div>"
      ],
      "text/plain": [
       "           EntityName    CIK              Metric_equipment start_equipment  \\\n",
       "0  THE BOEING COMPANY  12927  PropertyPlantAndEquipmentNet             NaN   \n",
       "1  THE BOEING COMPANY  12927  PropertyPlantAndEquipmentNet             NaN   \n",
       "2  THE BOEING COMPANY  12927  PropertyPlantAndEquipmentNet             NaN   \n",
       "3  THE BOEING COMPANY  12927  PropertyPlantAndEquipmentNet             NaN   \n",
       "4  THE BOEING COMPANY  12927  PropertyPlantAndEquipmentNet             NaN   \n",
       "\n",
       "         end  EquipmentNet  year  quarter Metric_revenues start_revenues  \\\n",
       "0 2008-12-31  8.762000e+09  2008        5        Revenues     2008-01-01   \n",
       "1 2009-12-31  8.784000e+09  2009        5        Revenues     2009-01-01   \n",
       "2 2010-12-31  8.931000e+09  2010        5        Revenues     2010-01-01   \n",
       "3 2011-12-31  9.313000e+09  2011        5        Revenues     2011-01-01   \n",
       "4 2012-12-31  9.660000e+09  2012        5        Revenues     2012-01-01   \n",
       "\n",
       "      Revenues  \n",
       "0  60909000000  \n",
       "1  68281000000  \n",
       "2  64306000000  \n",
       "3  68735000000  \n",
       "4  81698000000  "
      ]
     },
     "execution_count": 21,
     "metadata": {},
     "output_type": "execute_result"
    }
   ],
   "source": [
    "df_merged.head()"
   ]
  },
  {
   "cell_type": "markdown",
   "id": "aa7aa6d9-fd49-4662-970f-80e9994b9bed",
   "metadata": {},
   "source": [
    "# Calculation"
   ]
  },
  {
   "cell_type": "markdown",
   "id": "c7636ad8-cc2c-40b5-b153-e5f4d0c5bb92",
   "metadata": {},
   "source": [
    "**Asset Utilization:**\n",
    "    \n",
    "    - `PropertyPlantAndEquipmentNet`(EquipmentNet)\n",
    "    - `Revenues`\n",
    "    - **Calculation:** Asset Turnover Ratio = Revenues / Property, Plant, and Equipment Net"
   ]
  },
  {
   "cell_type": "code",
   "execution_count": 22,
   "id": "1774c3f5-c93a-4448-ba83-24e97faf91e2",
   "metadata": {},
   "outputs": [],
   "source": [
    "# Start by creating a copy of the DataFrame to avoid SettingWithCopyWarning\n",
    "df_final = df_merged.copy()"
   ]
  },
  {
   "cell_type": "code",
   "execution_count": 23,
   "id": "d8bb8465-18e3-4881-9b08-f6d522caf582",
   "metadata": {},
   "outputs": [],
   "source": [
    "# Convert financial values from cents to millions for readability\n",
    "df_final['EquipmentNet'] /= 1000000\n",
    "df_final['Revenues'] /= 1000000"
   ]
  },
  {
   "cell_type": "code",
   "execution_count": 24,
   "id": "213d50ee-2c89-41f9-bb7b-7d80083b2ac9",
   "metadata": {},
   "outputs": [],
   "source": [
    "# Calculate Asset Turnover Ratio\n",
    "# Handle division by zero by replacing zero denominators with NaN\n",
    "df_final['AssetTurnoverRatio'] = df_final.apply(\n",
    "    lambda row: row['Revenues'] / row['EquipmentNet'] if row['EquipmentNet'] != 0 else None, axis=1\n",
    ")"
   ]
  },
  {
   "cell_type": "code",
   "execution_count": 25,
   "id": "4b388440-62d9-4b73-9e47-830d6e6d9655",
   "metadata": {},
   "outputs": [],
   "source": [
    "# Construct the 'Quarter' column\n",
    "df_final['Quarter'] = df_final['year'].astype(str) + '-Q' + df_final['quarter'].astype(str)\n",
    "# Construct the 'Quarter' column for annual data\n",
    "#df_final['Quarter'] = 'FY-' + df_final['year'].astype(str)"
   ]
  },
  {
   "cell_type": "code",
   "execution_count": 26,
   "id": "db15060c-e0e5-44f0-ab8a-37642f31a8a1",
   "metadata": {},
   "outputs": [],
   "source": [
    "# Selecting and renaming columns to match the desired format\n",
    "df_final = df_final[['EntityName', 'CIK', 'end', 'AssetTurnoverRatio', 'EquipmentNet', 'Revenues', 'Quarter']]\n"
   ]
  },
  {
   "cell_type": "code",
   "execution_count": 27,
   "id": "0a8fd9a7-b484-473a-a96c-7ed64ba10976",
   "metadata": {},
   "outputs": [],
   "source": [
    "df_copy = df_final.copy()\n",
    "df_copy.rename(columns={'EntityName': 'ENTITY', 'end': 'DATE'}, inplace=True)"
   ]
  },
  {
   "cell_type": "code",
   "execution_count": 28,
   "id": "87ae3d3a-2b6b-4b3a-b192-40b841d61479",
   "metadata": {},
   "outputs": [
    {
     "data": {
      "text/html": [
       "<div>\n",
       "<style scoped>\n",
       "    .dataframe tbody tr th:only-of-type {\n",
       "        vertical-align: middle;\n",
       "    }\n",
       "\n",
       "    .dataframe tbody tr th {\n",
       "        vertical-align: top;\n",
       "    }\n",
       "\n",
       "    .dataframe thead th {\n",
       "        text-align: right;\n",
       "    }\n",
       "</style>\n",
       "<table border=\"1\" class=\"dataframe\">\n",
       "  <thead>\n",
       "    <tr style=\"text-align: right;\">\n",
       "      <th></th>\n",
       "      <th>ENTITY</th>\n",
       "      <th>CIK</th>\n",
       "      <th>DATE</th>\n",
       "      <th>AssetTurnoverRatio</th>\n",
       "      <th>EquipmentNet</th>\n",
       "      <th>Revenues</th>\n",
       "      <th>Quarter</th>\n",
       "    </tr>\n",
       "  </thead>\n",
       "  <tbody>\n",
       "    <tr>\n",
       "      <th>0</th>\n",
       "      <td>THE BOEING COMPANY</td>\n",
       "      <td>12927</td>\n",
       "      <td>2008-12-31</td>\n",
       "      <td>6.951495</td>\n",
       "      <td>8762.0</td>\n",
       "      <td>60909.0</td>\n",
       "      <td>2008-Q5</td>\n",
       "    </tr>\n",
       "    <tr>\n",
       "      <th>1</th>\n",
       "      <td>THE BOEING COMPANY</td>\n",
       "      <td>12927</td>\n",
       "      <td>2009-12-31</td>\n",
       "      <td>7.773338</td>\n",
       "      <td>8784.0</td>\n",
       "      <td>68281.0</td>\n",
       "      <td>2009-Q5</td>\n",
       "    </tr>\n",
       "  </tbody>\n",
       "</table>\n",
       "</div>"
      ],
      "text/plain": [
       "               ENTITY    CIK       DATE  AssetTurnoverRatio  EquipmentNet  \\\n",
       "0  THE BOEING COMPANY  12927 2008-12-31            6.951495        8762.0   \n",
       "1  THE BOEING COMPANY  12927 2009-12-31            7.773338        8784.0   \n",
       "\n",
       "   Revenues  Quarter  \n",
       "0   60909.0  2008-Q5  \n",
       "1   68281.0  2009-Q5  "
      ]
     },
     "execution_count": 28,
     "metadata": {},
     "output_type": "execute_result"
    }
   ],
   "source": [
    "df_copy.head(2)"
   ]
  },
  {
   "cell_type": "markdown",
   "id": "911cf03e-2324-4222-8b0e-54a80d8a1905",
   "metadata": {},
   "source": [
    "# Visualization"
   ]
  },
  {
   "cell_type": "code",
   "execution_count": 30,
   "id": "d061400c-400a-4974-a552-cff111ff7922",
   "metadata": {},
   "outputs": [
    {
     "data": {
      "application/vnd.plotly.v1+json": {
       "config": {
        "plotlyServerURL": "https://plot.ly"
       },
       "data": [
        {
         "hovertemplate": "DATE=%{x}<br>Asset Turnover Ratio=%{y}<extra></extra>",
         "legendgroup": "",
         "line": {
          "color": "#636efa",
          "dash": "solid"
         },
         "marker": {
          "symbol": "circle"
         },
         "mode": "lines+markers",
         "name": "",
         "orientation": "v",
         "showlegend": false,
         "type": "scatter",
         "x": [
          "2008-12-31T00:00:00",
          "2009-12-31T00:00:00",
          "2010-12-31T00:00:00",
          "2011-12-31T00:00:00",
          "2012-12-31T00:00:00",
          "2013-12-31T00:00:00",
          "2014-12-31T00:00:00",
          "2015-12-31T00:00:00",
          "2016-12-31T00:00:00",
          "2017-12-31T00:00:00",
          "2018-12-31T00:00:00",
          "2019-12-31T00:00:00",
          "2020-12-31T00:00:00",
          "2021-12-31T00:00:00",
          "2007-12-31T00:00:00",
          "2009-03-31T00:00:00",
          "2009-06-30T00:00:00",
          "2009-09-30T00:00:00",
          "2009-12-31T00:00:00",
          "2010-03-31T00:00:00",
          "2010-06-30T00:00:00",
          "2010-09-30T00:00:00",
          "2010-12-31T00:00:00",
          "2011-03-31T00:00:00",
          "2011-06-30T00:00:00",
          "2011-09-30T00:00:00",
          "2011-12-31T00:00:00",
          "2012-03-31T00:00:00",
          "2012-06-30T00:00:00",
          "2012-09-30T00:00:00",
          "2012-12-31T00:00:00",
          "2013-03-31T00:00:00",
          "2013-06-30T00:00:00",
          "2013-09-30T00:00:00",
          "2013-12-31T00:00:00",
          "2014-03-31T00:00:00",
          "2014-06-30T00:00:00",
          "2014-09-30T00:00:00",
          "2014-12-31T00:00:00",
          "2015-03-31T00:00:00",
          "2015-06-30T00:00:00",
          "2015-09-30T00:00:00",
          "2015-12-31T00:00:00",
          "2016-03-31T00:00:00",
          "2016-06-30T00:00:00",
          "2016-09-30T00:00:00",
          "2016-12-31T00:00:00",
          "2017-03-31T00:00:00",
          "2017-06-30T00:00:00",
          "2017-09-30T00:00:00",
          "2017-12-31T00:00:00",
          "2018-03-31T00:00:00",
          "2018-06-30T00:00:00",
          "2018-09-30T00:00:00",
          "2018-12-31T00:00:00",
          "2019-03-31T00:00:00",
          "2019-06-30T00:00:00",
          "2019-09-30T00:00:00",
          "2019-12-31T00:00:00",
          "2020-12-31T00:00:00",
          "2022-12-31T00:00:00"
         ],
         "xaxis": "x",
         "y": [
          6.951495092444647,
          7.773337887067395,
          7.200313514723995,
          7.380543326532804,
          8.45734989648033,
          8.47251564945227,
          8.245843554101935,
          7.9590924147068565,
          7.30038260326384,
          7.418323863636363,
          7.997390272835113,
          6.123740201567749,
          4.920304568527919,
          5.704891005678696,
          null,
          null,
          null,
          null,
          null,
          null,
          null,
          null,
          null,
          null,
          null,
          null,
          null,
          null,
          null,
          null,
          null,
          null,
          null,
          null,
          null,
          null,
          null,
          null,
          null,
          null,
          null,
          null,
          null,
          null,
          null,
          null,
          null,
          null,
          null,
          null,
          null,
          null,
          null,
          null,
          null,
          null,
          null,
          null,
          null,
          null,
          null
         ],
         "yaxis": "y"
        }
       ],
       "layout": {
        "hovermode": "x unified",
        "legend": {
         "tracegroupgap": 0
        },
        "template": {
         "data": {
          "bar": [
           {
            "error_x": {
             "color": "#2a3f5f"
            },
            "error_y": {
             "color": "#2a3f5f"
            },
            "marker": {
             "line": {
              "color": "#E5ECF6",
              "width": 0.5
             },
             "pattern": {
              "fillmode": "overlay",
              "size": 10,
              "solidity": 0.2
             }
            },
            "type": "bar"
           }
          ],
          "barpolar": [
           {
            "marker": {
             "line": {
              "color": "#E5ECF6",
              "width": 0.5
             },
             "pattern": {
              "fillmode": "overlay",
              "size": 10,
              "solidity": 0.2
             }
            },
            "type": "barpolar"
           }
          ],
          "carpet": [
           {
            "aaxis": {
             "endlinecolor": "#2a3f5f",
             "gridcolor": "white",
             "linecolor": "white",
             "minorgridcolor": "white",
             "startlinecolor": "#2a3f5f"
            },
            "baxis": {
             "endlinecolor": "#2a3f5f",
             "gridcolor": "white",
             "linecolor": "white",
             "minorgridcolor": "white",
             "startlinecolor": "#2a3f5f"
            },
            "type": "carpet"
           }
          ],
          "choropleth": [
           {
            "colorbar": {
             "outlinewidth": 0,
             "ticks": ""
            },
            "type": "choropleth"
           }
          ],
          "contour": [
           {
            "colorbar": {
             "outlinewidth": 0,
             "ticks": ""
            },
            "colorscale": [
             [
              0,
              "#0d0887"
             ],
             [
              0.1111111111111111,
              "#46039f"
             ],
             [
              0.2222222222222222,
              "#7201a8"
             ],
             [
              0.3333333333333333,
              "#9c179e"
             ],
             [
              0.4444444444444444,
              "#bd3786"
             ],
             [
              0.5555555555555556,
              "#d8576b"
             ],
             [
              0.6666666666666666,
              "#ed7953"
             ],
             [
              0.7777777777777778,
              "#fb9f3a"
             ],
             [
              0.8888888888888888,
              "#fdca26"
             ],
             [
              1,
              "#f0f921"
             ]
            ],
            "type": "contour"
           }
          ],
          "contourcarpet": [
           {
            "colorbar": {
             "outlinewidth": 0,
             "ticks": ""
            },
            "type": "contourcarpet"
           }
          ],
          "heatmap": [
           {
            "colorbar": {
             "outlinewidth": 0,
             "ticks": ""
            },
            "colorscale": [
             [
              0,
              "#0d0887"
             ],
             [
              0.1111111111111111,
              "#46039f"
             ],
             [
              0.2222222222222222,
              "#7201a8"
             ],
             [
              0.3333333333333333,
              "#9c179e"
             ],
             [
              0.4444444444444444,
              "#bd3786"
             ],
             [
              0.5555555555555556,
              "#d8576b"
             ],
             [
              0.6666666666666666,
              "#ed7953"
             ],
             [
              0.7777777777777778,
              "#fb9f3a"
             ],
             [
              0.8888888888888888,
              "#fdca26"
             ],
             [
              1,
              "#f0f921"
             ]
            ],
            "type": "heatmap"
           }
          ],
          "heatmapgl": [
           {
            "colorbar": {
             "outlinewidth": 0,
             "ticks": ""
            },
            "colorscale": [
             [
              0,
              "#0d0887"
             ],
             [
              0.1111111111111111,
              "#46039f"
             ],
             [
              0.2222222222222222,
              "#7201a8"
             ],
             [
              0.3333333333333333,
              "#9c179e"
             ],
             [
              0.4444444444444444,
              "#bd3786"
             ],
             [
              0.5555555555555556,
              "#d8576b"
             ],
             [
              0.6666666666666666,
              "#ed7953"
             ],
             [
              0.7777777777777778,
              "#fb9f3a"
             ],
             [
              0.8888888888888888,
              "#fdca26"
             ],
             [
              1,
              "#f0f921"
             ]
            ],
            "type": "heatmapgl"
           }
          ],
          "histogram": [
           {
            "marker": {
             "pattern": {
              "fillmode": "overlay",
              "size": 10,
              "solidity": 0.2
             }
            },
            "type": "histogram"
           }
          ],
          "histogram2d": [
           {
            "colorbar": {
             "outlinewidth": 0,
             "ticks": ""
            },
            "colorscale": [
             [
              0,
              "#0d0887"
             ],
             [
              0.1111111111111111,
              "#46039f"
             ],
             [
              0.2222222222222222,
              "#7201a8"
             ],
             [
              0.3333333333333333,
              "#9c179e"
             ],
             [
              0.4444444444444444,
              "#bd3786"
             ],
             [
              0.5555555555555556,
              "#d8576b"
             ],
             [
              0.6666666666666666,
              "#ed7953"
             ],
             [
              0.7777777777777778,
              "#fb9f3a"
             ],
             [
              0.8888888888888888,
              "#fdca26"
             ],
             [
              1,
              "#f0f921"
             ]
            ],
            "type": "histogram2d"
           }
          ],
          "histogram2dcontour": [
           {
            "colorbar": {
             "outlinewidth": 0,
             "ticks": ""
            },
            "colorscale": [
             [
              0,
              "#0d0887"
             ],
             [
              0.1111111111111111,
              "#46039f"
             ],
             [
              0.2222222222222222,
              "#7201a8"
             ],
             [
              0.3333333333333333,
              "#9c179e"
             ],
             [
              0.4444444444444444,
              "#bd3786"
             ],
             [
              0.5555555555555556,
              "#d8576b"
             ],
             [
              0.6666666666666666,
              "#ed7953"
             ],
             [
              0.7777777777777778,
              "#fb9f3a"
             ],
             [
              0.8888888888888888,
              "#fdca26"
             ],
             [
              1,
              "#f0f921"
             ]
            ],
            "type": "histogram2dcontour"
           }
          ],
          "mesh3d": [
           {
            "colorbar": {
             "outlinewidth": 0,
             "ticks": ""
            },
            "type": "mesh3d"
           }
          ],
          "parcoords": [
           {
            "line": {
             "colorbar": {
              "outlinewidth": 0,
              "ticks": ""
             }
            },
            "type": "parcoords"
           }
          ],
          "pie": [
           {
            "automargin": true,
            "type": "pie"
           }
          ],
          "scatter": [
           {
            "fillpattern": {
             "fillmode": "overlay",
             "size": 10,
             "solidity": 0.2
            },
            "type": "scatter"
           }
          ],
          "scatter3d": [
           {
            "line": {
             "colorbar": {
              "outlinewidth": 0,
              "ticks": ""
             }
            },
            "marker": {
             "colorbar": {
              "outlinewidth": 0,
              "ticks": ""
             }
            },
            "type": "scatter3d"
           }
          ],
          "scattercarpet": [
           {
            "marker": {
             "colorbar": {
              "outlinewidth": 0,
              "ticks": ""
             }
            },
            "type": "scattercarpet"
           }
          ],
          "scattergeo": [
           {
            "marker": {
             "colorbar": {
              "outlinewidth": 0,
              "ticks": ""
             }
            },
            "type": "scattergeo"
           }
          ],
          "scattergl": [
           {
            "marker": {
             "colorbar": {
              "outlinewidth": 0,
              "ticks": ""
             }
            },
            "type": "scattergl"
           }
          ],
          "scattermapbox": [
           {
            "marker": {
             "colorbar": {
              "outlinewidth": 0,
              "ticks": ""
             }
            },
            "type": "scattermapbox"
           }
          ],
          "scatterpolar": [
           {
            "marker": {
             "colorbar": {
              "outlinewidth": 0,
              "ticks": ""
             }
            },
            "type": "scatterpolar"
           }
          ],
          "scatterpolargl": [
           {
            "marker": {
             "colorbar": {
              "outlinewidth": 0,
              "ticks": ""
             }
            },
            "type": "scatterpolargl"
           }
          ],
          "scatterternary": [
           {
            "marker": {
             "colorbar": {
              "outlinewidth": 0,
              "ticks": ""
             }
            },
            "type": "scatterternary"
           }
          ],
          "surface": [
           {
            "colorbar": {
             "outlinewidth": 0,
             "ticks": ""
            },
            "colorscale": [
             [
              0,
              "#0d0887"
             ],
             [
              0.1111111111111111,
              "#46039f"
             ],
             [
              0.2222222222222222,
              "#7201a8"
             ],
             [
              0.3333333333333333,
              "#9c179e"
             ],
             [
              0.4444444444444444,
              "#bd3786"
             ],
             [
              0.5555555555555556,
              "#d8576b"
             ],
             [
              0.6666666666666666,
              "#ed7953"
             ],
             [
              0.7777777777777778,
              "#fb9f3a"
             ],
             [
              0.8888888888888888,
              "#fdca26"
             ],
             [
              1,
              "#f0f921"
             ]
            ],
            "type": "surface"
           }
          ],
          "table": [
           {
            "cells": {
             "fill": {
              "color": "#EBF0F8"
             },
             "line": {
              "color": "white"
             }
            },
            "header": {
             "fill": {
              "color": "#C8D4E3"
             },
             "line": {
              "color": "white"
             }
            },
            "type": "table"
           }
          ]
         },
         "layout": {
          "annotationdefaults": {
           "arrowcolor": "#2a3f5f",
           "arrowhead": 0,
           "arrowwidth": 1
          },
          "autotypenumbers": "strict",
          "coloraxis": {
           "colorbar": {
            "outlinewidth": 0,
            "ticks": ""
           }
          },
          "colorscale": {
           "diverging": [
            [
             0,
             "#8e0152"
            ],
            [
             0.1,
             "#c51b7d"
            ],
            [
             0.2,
             "#de77ae"
            ],
            [
             0.3,
             "#f1b6da"
            ],
            [
             0.4,
             "#fde0ef"
            ],
            [
             0.5,
             "#f7f7f7"
            ],
            [
             0.6,
             "#e6f5d0"
            ],
            [
             0.7,
             "#b8e186"
            ],
            [
             0.8,
             "#7fbc41"
            ],
            [
             0.9,
             "#4d9221"
            ],
            [
             1,
             "#276419"
            ]
           ],
           "sequential": [
            [
             0,
             "#0d0887"
            ],
            [
             0.1111111111111111,
             "#46039f"
            ],
            [
             0.2222222222222222,
             "#7201a8"
            ],
            [
             0.3333333333333333,
             "#9c179e"
            ],
            [
             0.4444444444444444,
             "#bd3786"
            ],
            [
             0.5555555555555556,
             "#d8576b"
            ],
            [
             0.6666666666666666,
             "#ed7953"
            ],
            [
             0.7777777777777778,
             "#fb9f3a"
            ],
            [
             0.8888888888888888,
             "#fdca26"
            ],
            [
             1,
             "#f0f921"
            ]
           ],
           "sequentialminus": [
            [
             0,
             "#0d0887"
            ],
            [
             0.1111111111111111,
             "#46039f"
            ],
            [
             0.2222222222222222,
             "#7201a8"
            ],
            [
             0.3333333333333333,
             "#9c179e"
            ],
            [
             0.4444444444444444,
             "#bd3786"
            ],
            [
             0.5555555555555556,
             "#d8576b"
            ],
            [
             0.6666666666666666,
             "#ed7953"
            ],
            [
             0.7777777777777778,
             "#fb9f3a"
            ],
            [
             0.8888888888888888,
             "#fdca26"
            ],
            [
             1,
             "#f0f921"
            ]
           ]
          },
          "colorway": [
           "#636efa",
           "#EF553B",
           "#00cc96",
           "#ab63fa",
           "#FFA15A",
           "#19d3f3",
           "#FF6692",
           "#B6E880",
           "#FF97FF",
           "#FECB52"
          ],
          "font": {
           "color": "#2a3f5f"
          },
          "geo": {
           "bgcolor": "white",
           "lakecolor": "white",
           "landcolor": "#E5ECF6",
           "showlakes": true,
           "showland": true,
           "subunitcolor": "white"
          },
          "hoverlabel": {
           "align": "left"
          },
          "hovermode": "closest",
          "mapbox": {
           "style": "light"
          },
          "paper_bgcolor": "white",
          "plot_bgcolor": "#E5ECF6",
          "polar": {
           "angularaxis": {
            "gridcolor": "white",
            "linecolor": "white",
            "ticks": ""
           },
           "bgcolor": "#E5ECF6",
           "radialaxis": {
            "gridcolor": "white",
            "linecolor": "white",
            "ticks": ""
           }
          },
          "scene": {
           "xaxis": {
            "backgroundcolor": "#E5ECF6",
            "gridcolor": "white",
            "gridwidth": 2,
            "linecolor": "white",
            "showbackground": true,
            "ticks": "",
            "zerolinecolor": "white"
           },
           "yaxis": {
            "backgroundcolor": "#E5ECF6",
            "gridcolor": "white",
            "gridwidth": 2,
            "linecolor": "white",
            "showbackground": true,
            "ticks": "",
            "zerolinecolor": "white"
           },
           "zaxis": {
            "backgroundcolor": "#E5ECF6",
            "gridcolor": "white",
            "gridwidth": 2,
            "linecolor": "white",
            "showbackground": true,
            "ticks": "",
            "zerolinecolor": "white"
           }
          },
          "shapedefaults": {
           "line": {
            "color": "#2a3f5f"
           }
          },
          "ternary": {
           "aaxis": {
            "gridcolor": "white",
            "linecolor": "white",
            "ticks": ""
           },
           "baxis": {
            "gridcolor": "white",
            "linecolor": "white",
            "ticks": ""
           },
           "bgcolor": "#E5ECF6",
           "caxis": {
            "gridcolor": "white",
            "linecolor": "white",
            "ticks": ""
           }
          },
          "title": {
           "x": 0.05
          },
          "xaxis": {
           "automargin": true,
           "gridcolor": "white",
           "linecolor": "white",
           "ticks": "",
           "title": {
            "standoff": 15
           },
           "zerolinecolor": "white",
           "zerolinewidth": 2
          },
          "yaxis": {
           "automargin": true,
           "gridcolor": "white",
           "linecolor": "white",
           "ticks": "",
           "title": {
            "standoff": 15
           },
           "zerolinecolor": "white",
           "zerolinewidth": 2
          }
         }
        },
        "title": {
         "text": "Interactive Asset Turnover Ratio Over Time"
        },
        "xaxis": {
         "anchor": "y",
         "domain": [
          0,
          1
         ],
         "title": {
          "text": "DATE"
         }
        },
        "yaxis": {
         "anchor": "x",
         "domain": [
          0,
          1
         ],
         "title": {
          "text": "Asset Turnover Ratio"
         }
        }
       }
      }
     },
     "metadata": {},
     "output_type": "display_data"
    }
   ],
   "source": [
    "import plotly.express as px\n",
    "\n",
    "# Plotting Asset Turnover Ratio over time\n",
    "fig = px.line(df_copy\n",
    "              , x='DATE', y='AssetTurnoverRatio', \n",
    "              title='Interactive Asset Turnover Ratio Over Time',\n",
    "              labels={'AssetTurnoverRatio': 'Asset Turnover Ratio'})\n",
    "\n",
    "# Interactive features\n",
    "fig.update_traces(mode='lines+markers')\n",
    "fig.update_layout(hovermode='x unified')\n",
    "fig.show()"
   ]
  }
 ],
 "metadata": {
  "kernelspec": {
   "display_name": "Python 3 (ipykernel)",
   "language": "python",
   "name": "python3"
  },
  "language_info": {
   "codemirror_mode": {
    "name": "ipython",
    "version": 3
   },
   "file_extension": ".py",
   "mimetype": "text/x-python",
   "name": "python",
   "nbconvert_exporter": "python",
   "pygments_lexer": "ipython3",
   "version": "3.11.6"
  }
 },
 "nbformat": 4,
 "nbformat_minor": 5
}
