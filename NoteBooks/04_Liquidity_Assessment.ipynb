{
 "cells": [
  {
   "cell_type": "markdown",
   "id": "645f7f19-4820-48f6-9c48-c6680ef21474",
   "metadata": {
    "jp-MarkdownHeadingCollapsed": true
   },
   "source": [
    "# 04_Liquidity_Assessment.ipynb"
   ]
  },
  {
   "cell_type": "markdown",
   "id": "1b528acd-813f-438e-af94-6d37e98a7e4e",
   "metadata": {},
   "source": [
    "## Title: \"Liquidity Analysis\""
   ]
  },
  {
   "cell_type": "markdown",
   "id": "4c68e4b6-02e6-4f7f-bc98-b57c7595c604",
   "metadata": {},
   "source": [
    "### Contents:\n",
    "\n",
    "- Liquidity metrics exploration from SEC data.\n",
    "- Cross-checking with liquidity_query.sql.\n",
    "- Computing liquidity ratios.\n",
    "- Visualizing cash flow and liquidity trends."
   ]
  },
  {
   "cell_type": "markdown",
   "id": "39b005c6-3ee2-41ad-91a1-9d241660f870",
   "metadata": {},
   "source": [
    "---"
   ]
  },
  {
   "cell_type": "markdown",
   "id": "742170c6-3012-4827-aa74-310b498d23aa",
   "metadata": {},
   "source": [
    "# Set Up the Environment"
   ]
  },
  {
   "cell_type": "markdown",
   "id": "5e6b38cc-c136-412f-b12e-67141d0676b9",
   "metadata": {},
   "source": [
    "## Import Libraries"
   ]
  },
  {
   "cell_type": "code",
   "execution_count": 23,
   "id": "67ca6750-7217-4be1-978a-1a433b759c54",
   "metadata": {},
   "outputs": [],
   "source": [
    "import pandas as pd\n",
    "import matplotlib.pyplot as plt\n",
    "import plotly.graph_objs as go\n",
    "import pandas as pd\n",
    "from dash import Dash, dcc, html\n",
    "from dash.dependencies import Input, Output\n"
   ]
  },
  {
   "cell_type": "markdown",
   "id": "cf26d2db-597b-4c03-8acf-94fe6fd2c7a3",
   "metadata": {},
   "source": [
    "## Functions"
   ]
  },
  {
   "cell_type": "code",
   "execution_count": 24,
   "id": "0edf7aaf-b9e7-4acd-8e09-70def5e11664",
   "metadata": {},
   "outputs": [],
   "source": [
    "def prepare_and_sort_financial_data(df, metric):\n",
    "    \"\"\"\n",
    "    Prepares and sorts financial data for a specific metric.\n",
    "\n",
    "    Args:\n",
    "    df (DataFrame): The raw DataFrame containing financial data.\n",
    "    metric (str): The specific financial metric to prepare and sort (e.g., 'OperatingIncomeLoss').\n",
    "\n",
    "    Returns:\n",
    "    DataFrame: A DataFrame filtered, cleaned, and sorted for the specific metric.\n",
    "    \"\"\"\n",
    "    # Filter by Metric\n",
    "    df_metric = df[df['Metric'] == metric]\n",
    "\n",
    "    # Filter for 10-K filings and ensure 'frame' column is not empty\n",
    "    filtered_df = df_metric[df_metric['form'] == '10-K']\n",
    "    filtered_df = filtered_df[filtered_df['frame'].notna()]\n",
    "\n",
    "    # Drop unnecessary columns\n",
    "    columns_to_drop = ['accn', 'fy', 'fp', 'form', 'filed']\n",
    "    filtered_df_cleaned = filtered_df.drop(columns=columns_to_drop)\n",
    "\n",
    "    # Define a custom sorting key and split into 'year' and 'quarter'\n",
    "    def custom_sort_key(frame_value):\n",
    "        year = frame_value[2:6]  # Extract the year part (e.g., '2007')\n",
    "        quarter_order = {'Q1': 1, 'Q2': 2, 'Q3': 3, 'Q4': 4, 'FY': 5}  # Define order for quarters and FY\n",
    "        quarter = frame_value[6:] if frame_value[6:] in quarter_order else 'FY'\n",
    "        return (year, quarter_order[quarter])\n",
    "\n",
    "    filtered_df_cleaned[['year', 'quarter']] = filtered_df_cleaned['frame'].apply(custom_sort_key).apply(pd.Series)\n",
    "\n",
    "    # Sort the DataFrame and drop the 'frame' and 'frame_sort_key' columns\n",
    "    sorted_df = filtered_df_cleaned.sort_values(by=['year', 'quarter']).drop(columns=['frame'])\n",
    "\n",
    "    return sorted_df\n",
    "\n",
    "# Example usage with multiple metrics\n",
    "# operating_income_loss_data = prepare_and_sort_financial_data(raw_data, 'OperatingIncomeLoss')\n",
    "# net_income_loss_data = prepare_and_sort_financial_data(raw_data, 'NetIncomeLoss')\n",
    "# revenues_data = prepare_and_sort_financial_data(raw_data, 'Revenues')\n"
   ]
  },
  {
   "cell_type": "markdown",
   "id": "7e6ffad5-7e1a-4d4b-ad7e-e63abc599b8a",
   "metadata": {},
   "source": [
    "# Load Data"
   ]
  },
  {
   "cell_type": "markdown",
   "id": "bbf50fa0-70c4-4f31-8933-7dca009c7810",
   "metadata": {},
   "source": [
    "## Load Data from CSV File"
   ]
  },
  {
   "cell_type": "code",
   "execution_count": 25,
   "id": "17da640e-aa9a-4081-98e6-9166746159dd",
   "metadata": {},
   "outputs": [],
   "source": [
    "raw_data = pd.read_csv('combined_df.csv')"
   ]
  },
  {
   "cell_type": "code",
   "execution_count": 26,
   "id": "2da40aa2-7091-4fd4-9d72-28feb1eb4206",
   "metadata": {},
   "outputs": [
    {
     "data": {
      "text/html": [
       "<div>\n",
       "<style scoped>\n",
       "    .dataframe tbody tr th:only-of-type {\n",
       "        vertical-align: middle;\n",
       "    }\n",
       "\n",
       "    .dataframe tbody tr th {\n",
       "        vertical-align: top;\n",
       "    }\n",
       "\n",
       "    .dataframe thead th {\n",
       "        text-align: right;\n",
       "    }\n",
       "</style>\n",
       "<table border=\"1\" class=\"dataframe\">\n",
       "  <thead>\n",
       "    <tr style=\"text-align: right;\">\n",
       "      <th></th>\n",
       "      <th>EntityName</th>\n",
       "      <th>CIK</th>\n",
       "      <th>Metric</th>\n",
       "      <th>end</th>\n",
       "      <th>val</th>\n",
       "      <th>accn</th>\n",
       "      <th>fy</th>\n",
       "      <th>fp</th>\n",
       "      <th>form</th>\n",
       "      <th>filed</th>\n",
       "      <th>frame</th>\n",
       "    </tr>\n",
       "  </thead>\n",
       "  <tbody>\n",
       "    <tr>\n",
       "      <th>0</th>\n",
       "      <td>THE BOEING COMPANY</td>\n",
       "      <td>12927</td>\n",
       "      <td>AssetsCurrent</td>\n",
       "      <td>2008-12-31</td>\n",
       "      <td>25964000000</td>\n",
       "      <td>0001193125-09-152905</td>\n",
       "      <td>2009</td>\n",
       "      <td>Q2</td>\n",
       "      <td>10-Q</td>\n",
       "      <td>2009-07-22</td>\n",
       "      <td>NaN</td>\n",
       "    </tr>\n",
       "    <tr>\n",
       "      <th>1</th>\n",
       "      <td>THE BOEING COMPANY</td>\n",
       "      <td>12927</td>\n",
       "      <td>AssetsCurrent</td>\n",
       "      <td>2008-12-31</td>\n",
       "      <td>25964000000</td>\n",
       "      <td>0001193125-09-210918</td>\n",
       "      <td>2009</td>\n",
       "      <td>Q3</td>\n",
       "      <td>10-Q</td>\n",
       "      <td>2009-10-21</td>\n",
       "      <td>NaN</td>\n",
       "    </tr>\n",
       "  </tbody>\n",
       "</table>\n",
       "</div>"
      ],
      "text/plain": [
       "           EntityName    CIK         Metric         end          val  \\\n",
       "0  THE BOEING COMPANY  12927  AssetsCurrent  2008-12-31  25964000000   \n",
       "1  THE BOEING COMPANY  12927  AssetsCurrent  2008-12-31  25964000000   \n",
       "\n",
       "                   accn    fy  fp  form       filed frame  \n",
       "0  0001193125-09-152905  2009  Q2  10-Q  2009-07-22   NaN  \n",
       "1  0001193125-09-210918  2009  Q3  10-Q  2009-10-21   NaN  "
      ]
     },
     "execution_count": 26,
     "metadata": {},
     "output_type": "execute_result"
    }
   ],
   "source": [
    "# Inspect the first few rows of the dataset\n",
    "raw_data.head(2)"
   ]
  },
  {
   "cell_type": "code",
   "execution_count": 27,
   "id": "77c4cd58-2314-4159-9285-e7e5cd74024e",
   "metadata": {},
   "outputs": [],
   "source": [
    "# Convert 'end' column to datetime for proper sorting\n",
    "raw_data['end'] = pd.to_datetime(raw_data['end'], format='%Y-%m-%d')\n"
   ]
  },
  {
   "cell_type": "code",
   "execution_count": 28,
   "id": "c86d3812-3223-469f-8e48-7e3aab83abfb",
   "metadata": {},
   "outputs": [
    {
     "name": "stdout",
     "output_type": "stream",
     "text": [
      "<class 'pandas.core.frame.DataFrame'>\n",
      "RangeIndex: 232 entries, 0 to 231\n",
      "Data columns (total 11 columns):\n",
      " #   Column      Non-Null Count  Dtype         \n",
      "---  ------      --------------  -----         \n",
      " 0   EntityName  232 non-null    object        \n",
      " 1   CIK         232 non-null    int64         \n",
      " 2   Metric      232 non-null    object        \n",
      " 3   end         232 non-null    datetime64[ns]\n",
      " 4   val         232 non-null    int64         \n",
      " 5   accn        232 non-null    object        \n",
      " 6   fy          232 non-null    int64         \n",
      " 7   fp          232 non-null    object        \n",
      " 8   form        232 non-null    object        \n",
      " 9   filed       232 non-null    object        \n",
      " 10  frame       118 non-null    object        \n",
      "dtypes: datetime64[ns](1), int64(3), object(7)\n",
      "memory usage: 20.1+ KB\n"
     ]
    }
   ],
   "source": [
    "# Check the data types and look for any missing values\n",
    "raw_data.info()"
   ]
  },
  {
   "cell_type": "markdown",
   "id": "5d4da628-9f6a-4f82-8007-f6dfbc576111",
   "metadata": {},
   "source": [
    "# Individual Metrics Analysis"
   ]
  },
  {
   "cell_type": "markdown",
   "id": "bb139a91-ca7e-47e7-9d3a-1e4e1ecb0b42",
   "metadata": {},
   "source": [
    "## Analysis of AssetsCurrent"
   ]
  },
  {
   "cell_type": "code",
   "execution_count": 29,
   "id": "2e6284c1-20dc-413a-b050-87e1fdcb753a",
   "metadata": {},
   "outputs": [],
   "source": [
    "# Filter out the Assets\n",
    "assets = raw_data[raw_data['Metric'] == 'AssetsCurrent']"
   ]
  },
  {
   "cell_type": "code",
   "execution_count": 30,
   "id": "4d3490e9-1f80-4170-9ace-21696aca6399",
   "metadata": {},
   "outputs": [],
   "source": [
    "assets_data = prepare_and_sort_financial_data(raw_data, 'AssetsCurrent')"
   ]
  },
  {
   "cell_type": "code",
   "execution_count": 31,
   "id": "238c75fa-324d-4f7e-a3d2-86eaf2d4eb0b",
   "metadata": {},
   "outputs": [
    {
     "data": {
      "text/html": [
       "<div>\n",
       "<style scoped>\n",
       "    .dataframe tbody tr th:only-of-type {\n",
       "        vertical-align: middle;\n",
       "    }\n",
       "\n",
       "    .dataframe tbody tr th {\n",
       "        vertical-align: top;\n",
       "    }\n",
       "\n",
       "    .dataframe thead th {\n",
       "        text-align: right;\n",
       "    }\n",
       "</style>\n",
       "<table border=\"1\" class=\"dataframe\">\n",
       "  <thead>\n",
       "    <tr style=\"text-align: right;\">\n",
       "      <th></th>\n",
       "      <th>EntityName</th>\n",
       "      <th>CIK</th>\n",
       "      <th>Metric</th>\n",
       "      <th>end</th>\n",
       "      <th>val</th>\n",
       "      <th>year</th>\n",
       "      <th>quarter</th>\n",
       "    </tr>\n",
       "  </thead>\n",
       "  <tbody>\n",
       "    <tr>\n",
       "      <th>2</th>\n",
       "      <td>THE BOEING COMPANY</td>\n",
       "      <td>12927</td>\n",
       "      <td>AssetsCurrent</td>\n",
       "      <td>2008-12-31</td>\n",
       "      <td>25964000000</td>\n",
       "      <td>2008</td>\n",
       "      <td>5</td>\n",
       "    </tr>\n",
       "    <tr>\n",
       "      <th>9</th>\n",
       "      <td>THE BOEING COMPANY</td>\n",
       "      <td>12927</td>\n",
       "      <td>AssetsCurrent</td>\n",
       "      <td>2009-12-31</td>\n",
       "      <td>35275000000</td>\n",
       "      <td>2009</td>\n",
       "      <td>5</td>\n",
       "    </tr>\n",
       "  </tbody>\n",
       "</table>\n",
       "</div>"
      ],
      "text/plain": [
       "           EntityName    CIK         Metric        end          val  year  \\\n",
       "2  THE BOEING COMPANY  12927  AssetsCurrent 2008-12-31  25964000000  2008   \n",
       "9  THE BOEING COMPANY  12927  AssetsCurrent 2009-12-31  35275000000  2009   \n",
       "\n",
       "   quarter  \n",
       "2        5  \n",
       "9        5  "
      ]
     },
     "execution_count": 31,
     "metadata": {},
     "output_type": "execute_result"
    }
   ],
   "source": [
    "assets_data.head(2)"
   ]
  },
  {
   "cell_type": "code",
   "execution_count": 32,
   "id": "57493903-4d26-452d-9a65-601d6a9f9b18",
   "metadata": {},
   "outputs": [
    {
     "name": "stdout",
     "output_type": "stream",
     "text": [
      "           CIK                            end           val  quarter\n",
      "count     14.0                             14  1.400000e+01     14.0\n",
      "mean   12927.0  2015-07-01 18:51:25.714285824  6.986100e+10      5.0\n",
      "min    12927.0            2008-12-31 00:00:00  2.596400e+10      5.0\n",
      "25%    12927.0            2012-03-31 12:00:00  5.168475e+10      5.0\n",
      "50%    12927.0            2015-07-01 12:00:00  6.642050e+10      5.0\n",
      "75%    12927.0            2018-09-30 18:00:00  8.717100e+10      5.0\n",
      "max    12927.0            2021-12-31 00:00:00  1.216420e+11      5.0\n",
      "std        0.0                            NaN  2.830828e+10      0.0\n"
     ]
    }
   ],
   "source": [
    "print(assets_data.describe())"
   ]
  },
  {
   "cell_type": "code",
   "execution_count": 33,
   "id": "2761052e-d62c-4a2e-96f1-e30db39c0979",
   "metadata": {},
   "outputs": [
    {
     "data": {
      "image/png": "[encoded data removed]",
      "text/plain": [
       "<Figure size 640x480 with 1 Axes>"
      ]
     },
     "metadata": {},
     "output_type": "display_data"
    }
   ],
   "source": [
    "assets_data.plot(x='end', y='val', title='Assets Over Time')\n",
    "plt.show()"
   ]
  },
  {
   "cell_type": "markdown",
   "id": "56f348b6-6528-4f3c-8f02-76d95b1bc8dd",
   "metadata": {},
   "source": [
    "## Analysis of LiabilitiesCurrent"
   ]
  },
  {
   "cell_type": "code",
   "execution_count": 34,
   "id": "e8c3d4a7-02df-443d-b680-748e73edbcc7",
   "metadata": {},
   "outputs": [],
   "source": [
    "# Filter out the Liabilities data\n",
    "liabilities = raw_data[raw_data['Metric'] == 'LiabilitiesCurrent']"
   ]
  },
  {
   "cell_type": "code",
   "execution_count": 35,
   "id": "68f3bce9-bad4-4e4f-80e0-01cf76f0665d",
   "metadata": {},
   "outputs": [],
   "source": [
    "liabilities_data = prepare_and_sort_financial_data(raw_data, 'LiabilitiesCurrent')"
   ]
  },
  {
   "cell_type": "code",
   "execution_count": 36,
   "id": "4a6e170b-0e5e-4ecb-99b9-800647193d10",
   "metadata": {},
   "outputs": [
    {
     "data": {
      "text/html": [
       "<div>\n",
       "<style scoped>\n",
       "    .dataframe tbody tr th:only-of-type {\n",
       "        vertical-align: middle;\n",
       "    }\n",
       "\n",
       "    .dataframe tbody tr th {\n",
       "        vertical-align: top;\n",
       "    }\n",
       "\n",
       "    .dataframe thead th {\n",
       "        text-align: right;\n",
       "    }\n",
       "</style>\n",
       "<table border=\"1\" class=\"dataframe\">\n",
       "  <thead>\n",
       "    <tr style=\"text-align: right;\">\n",
       "      <th></th>\n",
       "      <th>EntityName</th>\n",
       "      <th>CIK</th>\n",
       "      <th>Metric</th>\n",
       "      <th>end</th>\n",
       "      <th>val</th>\n",
       "      <th>year</th>\n",
       "      <th>quarter</th>\n",
       "    </tr>\n",
       "  </thead>\n",
       "  <tbody>\n",
       "    <tr>\n",
       "      <th>118</th>\n",
       "      <td>THE BOEING COMPANY</td>\n",
       "      <td>12927</td>\n",
       "      <td>LiabilitiesCurrent</td>\n",
       "      <td>2008-12-31</td>\n",
       "      <td>30773000000</td>\n",
       "      <td>2008</td>\n",
       "      <td>5</td>\n",
       "    </tr>\n",
       "    <tr>\n",
       "      <th>125</th>\n",
       "      <td>THE BOEING COMPANY</td>\n",
       "      <td>12927</td>\n",
       "      <td>LiabilitiesCurrent</td>\n",
       "      <td>2009-12-31</td>\n",
       "      <td>32883000000</td>\n",
       "      <td>2009</td>\n",
       "      <td>5</td>\n",
       "    </tr>\n",
       "  </tbody>\n",
       "</table>\n",
       "</div>"
      ],
      "text/plain": [
       "             EntityName    CIK              Metric        end          val  \\\n",
       "118  THE BOEING COMPANY  12927  LiabilitiesCurrent 2008-12-31  30773000000   \n",
       "125  THE BOEING COMPANY  12927  LiabilitiesCurrent 2009-12-31  32883000000   \n",
       "\n",
       "     year  quarter  \n",
       "118  2008        5  \n",
       "125  2009        5  "
      ]
     },
     "execution_count": 36,
     "metadata": {},
     "output_type": "execute_result"
    }
   ],
   "source": [
    "liabilities_data.head(2)"
   ]
  },
  {
   "cell_type": "code",
   "execution_count": 37,
   "id": "5ecb54bb-9685-4935-922b-1ac314072598",
   "metadata": {},
   "outputs": [
    {
     "name": "stdout",
     "output_type": "stream",
     "text": [
      "           CIK                            end           val  quarter\n",
      "count     14.0                             14  1.400000e+01     14.0\n",
      "mean   12927.0  2015-07-01 18:51:25.714285824  5.774243e+10      5.0\n",
      "min    12927.0            2008-12-31 00:00:00  3.077300e+10      5.0\n",
      "25%    12927.0            2012-03-31 12:00:00  4.220100e+10      5.0\n",
      "50%    12927.0            2015-07-01 12:00:00  5.027300e+10      5.0\n",
      "75%    12927.0            2018-09-30 18:00:00  7.985450e+10      5.0\n",
      "max    12927.0            2021-12-31 00:00:00  9.731200e+10      5.0\n",
      "std        0.0                            NaN  2.218930e+10      0.0\n"
     ]
    },
    {
     "data": {
      "image/png": "[encoded data removed]",
      "text/plain": [
       "<Figure size 640x480 with 1 Axes>"
      ]
     },
     "metadata": {},
     "output_type": "display_data"
    }
   ],
   "source": [
    "print(liabilities_data.describe())\n",
    "liabilities_data.plot(x='end', y='val', title='Liabilities Over Time')\n",
    "plt.show()\n"
   ]
  },
  {
   "cell_type": "markdown",
   "id": "29d731d1-ccd0-4b1a-9103-4a1088590d49",
   "metadata": {},
   "source": [
    "# Merge the Data"
   ]
  },
  {
   "cell_type": "code",
   "execution_count": 38,
   "id": "b4c828d8",
   "metadata": {},
   "outputs": [],
   "source": [
    "df_merged = pd.merge(assets_data, liabilities_data, \n",
    "                     on=['EntityName', 'CIK', 'end', 'year', 'quarter'], \n",
    "                     how='outer', suffixes=('_assets', '_liabilities'))"
   ]
  },
  {
   "cell_type": "code",
   "execution_count": 39,
   "id": "4a5d22a6-6b11-4756-ade1-bd80735d4daf",
   "metadata": {},
   "outputs": [],
   "source": [
    "df_merged = pd.merge(df_merged, liabilities_data, \n",
    "                     on=['EntityName', 'CIK', 'end', 'year', 'quarter'], \n",
    "                     how='outer')\n",
    "                     "
   ]
  },
  {
   "cell_type": "code",
   "execution_count": 40,
   "id": "6e06dc61-008d-4836-bfae-125f8cd65291",
   "metadata": {},
   "outputs": [],
   "source": [
    "df_merged.rename(columns={'val_assets': 'CurrentAssets', \n",
    "                          'val_liabilities': 'CurrentLiabilities'}, inplace=True)"
   ]
  },
  {
   "cell_type": "code",
   "execution_count": 23,
   "id": "7156cd5b-ec3a-4cef-a5de-7185c17f318f",
   "metadata": {},
   "outputs": [],
   "source": [
    "# Filtering out the annual data (rows where quarter is '5')\n",
    "#df_merged_quarterly = df_merged[df_merged['quarter']] != 5]"
   ]
  },
  {
   "cell_type": "code",
   "execution_count": 41,
   "id": "2430b743-71c8-46d4-8c65-8a9c99d56bb5",
   "metadata": {
    "scrolled": true
   },
   "outputs": [
    {
     "data": {
      "text/html": [
       "<div>\n",
       "<style scoped>\n",
       "    .dataframe tbody tr th:only-of-type {\n",
       "        vertical-align: middle;\n",
       "    }\n",
       "\n",
       "    .dataframe tbody tr th {\n",
       "        vertical-align: top;\n",
       "    }\n",
       "\n",
       "    .dataframe thead th {\n",
       "        text-align: right;\n",
       "    }\n",
       "</style>\n",
       "<table border=\"1\" class=\"dataframe\">\n",
       "  <thead>\n",
       "    <tr style=\"text-align: right;\">\n",
       "      <th></th>\n",
       "      <th>EntityName</th>\n",
       "      <th>CIK</th>\n",
       "      <th>Metric_assets</th>\n",
       "      <th>end</th>\n",
       "      <th>CurrentAssets</th>\n",
       "      <th>year</th>\n",
       "      <th>quarter</th>\n",
       "      <th>Metric_liabilities</th>\n",
       "      <th>CurrentLiabilities</th>\n",
       "      <th>Metric</th>\n",
       "      <th>val</th>\n",
       "    </tr>\n",
       "  </thead>\n",
       "  <tbody>\n",
       "    <tr>\n",
       "      <th>0</th>\n",
       "      <td>THE BOEING COMPANY</td>\n",
       "      <td>12927</td>\n",
       "      <td>AssetsCurrent</td>\n",
       "      <td>2008-12-31</td>\n",
       "      <td>25964000000</td>\n",
       "      <td>2008</td>\n",
       "      <td>5</td>\n",
       "      <td>LiabilitiesCurrent</td>\n",
       "      <td>30773000000</td>\n",
       "      <td>LiabilitiesCurrent</td>\n",
       "      <td>30773000000</td>\n",
       "    </tr>\n",
       "    <tr>\n",
       "      <th>1</th>\n",
       "      <td>THE BOEING COMPANY</td>\n",
       "      <td>12927</td>\n",
       "      <td>AssetsCurrent</td>\n",
       "      <td>2009-12-31</td>\n",
       "      <td>35275000000</td>\n",
       "      <td>2009</td>\n",
       "      <td>5</td>\n",
       "      <td>LiabilitiesCurrent</td>\n",
       "      <td>32883000000</td>\n",
       "      <td>LiabilitiesCurrent</td>\n",
       "      <td>32883000000</td>\n",
       "    </tr>\n",
       "    <tr>\n",
       "      <th>2</th>\n",
       "      <td>THE BOEING COMPANY</td>\n",
       "      <td>12927</td>\n",
       "      <td>AssetsCurrent</td>\n",
       "      <td>2010-12-31</td>\n",
       "      <td>40572000000</td>\n",
       "      <td>2010</td>\n",
       "      <td>5</td>\n",
       "      <td>LiabilitiesCurrent</td>\n",
       "      <td>35395000000</td>\n",
       "      <td>LiabilitiesCurrent</td>\n",
       "      <td>35395000000</td>\n",
       "    </tr>\n",
       "    <tr>\n",
       "      <th>3</th>\n",
       "      <td>THE BOEING COMPANY</td>\n",
       "      <td>12927</td>\n",
       "      <td>AssetsCurrent</td>\n",
       "      <td>2011-12-31</td>\n",
       "      <td>49810000000</td>\n",
       "      <td>2011</td>\n",
       "      <td>5</td>\n",
       "      <td>LiabilitiesCurrent</td>\n",
       "      <td>41274000000</td>\n",
       "      <td>LiabilitiesCurrent</td>\n",
       "      <td>41274000000</td>\n",
       "    </tr>\n",
       "    <tr>\n",
       "      <th>4</th>\n",
       "      <td>THE BOEING COMPANY</td>\n",
       "      <td>12927</td>\n",
       "      <td>AssetsCurrent</td>\n",
       "      <td>2012-12-31</td>\n",
       "      <td>57309000000</td>\n",
       "      <td>2012</td>\n",
       "      <td>5</td>\n",
       "      <td>LiabilitiesCurrent</td>\n",
       "      <td>44982000000</td>\n",
       "      <td>LiabilitiesCurrent</td>\n",
       "      <td>44982000000</td>\n",
       "    </tr>\n",
       "    <tr>\n",
       "      <th>5</th>\n",
       "      <td>THE BOEING COMPANY</td>\n",
       "      <td>12927</td>\n",
       "      <td>AssetsCurrent</td>\n",
       "      <td>2013-12-31</td>\n",
       "      <td>65074000000</td>\n",
       "      <td>2013</td>\n",
       "      <td>5</td>\n",
       "      <td>LiabilitiesCurrent</td>\n",
       "      <td>51486000000</td>\n",
       "      <td>LiabilitiesCurrent</td>\n",
       "      <td>51486000000</td>\n",
       "    </tr>\n",
       "    <tr>\n",
       "      <th>6</th>\n",
       "      <td>THE BOEING COMPANY</td>\n",
       "      <td>12927</td>\n",
       "      <td>AssetsCurrent</td>\n",
       "      <td>2014-12-31</td>\n",
       "      <td>67767000000</td>\n",
       "      <td>2014</td>\n",
       "      <td>5</td>\n",
       "      <td>LiabilitiesCurrent</td>\n",
       "      <td>48233000000</td>\n",
       "      <td>LiabilitiesCurrent</td>\n",
       "      <td>48233000000</td>\n",
       "    </tr>\n",
       "    <tr>\n",
       "      <th>7</th>\n",
       "      <td>THE BOEING COMPANY</td>\n",
       "      <td>12927</td>\n",
       "      <td>AssetsCurrent</td>\n",
       "      <td>2015-12-31</td>\n",
       "      <td>68234000000</td>\n",
       "      <td>2015</td>\n",
       "      <td>5</td>\n",
       "      <td>LiabilitiesCurrent</td>\n",
       "      <td>50412000000</td>\n",
       "      <td>LiabilitiesCurrent</td>\n",
       "      <td>50412000000</td>\n",
       "    </tr>\n",
       "    <tr>\n",
       "      <th>8</th>\n",
       "      <td>THE BOEING COMPANY</td>\n",
       "      <td>12927</td>\n",
       "      <td>AssetsCurrent</td>\n",
       "      <td>2016-12-31</td>\n",
       "      <td>62488000000</td>\n",
       "      <td>2016</td>\n",
       "      <td>5</td>\n",
       "      <td>LiabilitiesCurrent</td>\n",
       "      <td>50134000000</td>\n",
       "      <td>LiabilitiesCurrent</td>\n",
       "      <td>50134000000</td>\n",
       "    </tr>\n",
       "    <tr>\n",
       "      <th>9</th>\n",
       "      <td>THE BOEING COMPANY</td>\n",
       "      <td>12927</td>\n",
       "      <td>AssetsCurrent</td>\n",
       "      <td>2017-12-31</td>\n",
       "      <td>85194000000</td>\n",
       "      <td>2017</td>\n",
       "      <td>5</td>\n",
       "      <td>LiabilitiesCurrent</td>\n",
       "      <td>74648000000</td>\n",
       "      <td>LiabilitiesCurrent</td>\n",
       "      <td>74648000000</td>\n",
       "    </tr>\n",
       "    <tr>\n",
       "      <th>10</th>\n",
       "      <td>THE BOEING COMPANY</td>\n",
       "      <td>12927</td>\n",
       "      <td>AssetsCurrent</td>\n",
       "      <td>2018-12-31</td>\n",
       "      <td>87830000000</td>\n",
       "      <td>2018</td>\n",
       "      <td>5</td>\n",
       "      <td>LiabilitiesCurrent</td>\n",
       "      <td>81590000000</td>\n",
       "      <td>LiabilitiesCurrent</td>\n",
       "      <td>81590000000</td>\n",
       "    </tr>\n",
       "    <tr>\n",
       "      <th>11</th>\n",
       "      <td>THE BOEING COMPANY</td>\n",
       "      <td>12927</td>\n",
       "      <td>AssetsCurrent</td>\n",
       "      <td>2019-12-31</td>\n",
       "      <td>102229000000</td>\n",
       "      <td>2019</td>\n",
       "      <td>5</td>\n",
       "      <td>LiabilitiesCurrent</td>\n",
       "      <td>97312000000</td>\n",
       "      <td>LiabilitiesCurrent</td>\n",
       "      <td>97312000000</td>\n",
       "    </tr>\n",
       "    <tr>\n",
       "      <th>12</th>\n",
       "      <td>THE BOEING COMPANY</td>\n",
       "      <td>12927</td>\n",
       "      <td>AssetsCurrent</td>\n",
       "      <td>2020-12-31</td>\n",
       "      <td>121642000000</td>\n",
       "      <td>2020</td>\n",
       "      <td>5</td>\n",
       "      <td>LiabilitiesCurrent</td>\n",
       "      <td>87280000000</td>\n",
       "      <td>LiabilitiesCurrent</td>\n",
       "      <td>87280000000</td>\n",
       "    </tr>\n",
       "    <tr>\n",
       "      <th>13</th>\n",
       "      <td>THE BOEING COMPANY</td>\n",
       "      <td>12927</td>\n",
       "      <td>AssetsCurrent</td>\n",
       "      <td>2021-12-31</td>\n",
       "      <td>108666000000</td>\n",
       "      <td>2021</td>\n",
       "      <td>5</td>\n",
       "      <td>LiabilitiesCurrent</td>\n",
       "      <td>81992000000</td>\n",
       "      <td>LiabilitiesCurrent</td>\n",
       "      <td>81992000000</td>\n",
       "    </tr>\n",
       "  </tbody>\n",
       "</table>\n",
       "</div>"
      ],
      "text/plain": [
       "            EntityName    CIK  Metric_assets        end  CurrentAssets  year  \\\n",
       "0   THE BOEING COMPANY  12927  AssetsCurrent 2008-12-31    25964000000  2008   \n",
       "1   THE BOEING COMPANY  12927  AssetsCurrent 2009-12-31    35275000000  2009   \n",
       "2   THE BOEING COMPANY  12927  AssetsCurrent 2010-12-31    40572000000  2010   \n",
       "3   THE BOEING COMPANY  12927  AssetsCurrent 2011-12-31    49810000000  2011   \n",
       "4   THE BOEING COMPANY  12927  AssetsCurrent 2012-12-31    57309000000  2012   \n",
       "5   THE BOEING COMPANY  12927  AssetsCurrent 2013-12-31    65074000000  2013   \n",
       "6   THE BOEING COMPANY  12927  AssetsCurrent 2014-12-31    67767000000  2014   \n",
       "7   THE BOEING COMPANY  12927  AssetsCurrent 2015-12-31    68234000000  2015   \n",
       "8   THE BOEING COMPANY  12927  AssetsCurrent 2016-12-31    62488000000  2016   \n",
       "9   THE BOEING COMPANY  12927  AssetsCurrent 2017-12-31    85194000000  2017   \n",
       "10  THE BOEING COMPANY  12927  AssetsCurrent 2018-12-31    87830000000  2018   \n",
       "11  THE BOEING COMPANY  12927  AssetsCurrent 2019-12-31   102229000000  2019   \n",
       "12  THE BOEING COMPANY  12927  AssetsCurrent 2020-12-31   121642000000  2020   \n",
       "13  THE BOEING COMPANY  12927  AssetsCurrent 2021-12-31   108666000000  2021   \n",
       "\n",
       "    quarter  Metric_liabilities  CurrentLiabilities              Metric  \\\n",
       "0         5  LiabilitiesCurrent         30773000000  LiabilitiesCurrent   \n",
       "1         5  LiabilitiesCurrent         32883000000  LiabilitiesCurrent   \n",
       "2         5  LiabilitiesCurrent         35395000000  LiabilitiesCurrent   \n",
       "3         5  LiabilitiesCurrent         41274000000  LiabilitiesCurrent   \n",
       "4         5  LiabilitiesCurrent         44982000000  LiabilitiesCurrent   \n",
       "5         5  LiabilitiesCurrent         51486000000  LiabilitiesCurrent   \n",
       "6         5  LiabilitiesCurrent         48233000000  LiabilitiesCurrent   \n",
       "7         5  LiabilitiesCurrent         50412000000  LiabilitiesCurrent   \n",
       "8         5  LiabilitiesCurrent         50134000000  LiabilitiesCurrent   \n",
       "9         5  LiabilitiesCurrent         74648000000  LiabilitiesCurrent   \n",
       "10        5  LiabilitiesCurrent         81590000000  LiabilitiesCurrent   \n",
       "11        5  LiabilitiesCurrent         97312000000  LiabilitiesCurrent   \n",
       "12        5  LiabilitiesCurrent         87280000000  LiabilitiesCurrent   \n",
       "13        5  LiabilitiesCurrent         81992000000  LiabilitiesCurrent   \n",
       "\n",
       "            val  \n",
       "0   30773000000  \n",
       "1   32883000000  \n",
       "2   35395000000  \n",
       "3   41274000000  \n",
       "4   44982000000  \n",
       "5   51486000000  \n",
       "6   48233000000  \n",
       "7   50412000000  \n",
       "8   50134000000  \n",
       "9   74648000000  \n",
       "10  81590000000  \n",
       "11  97312000000  \n",
       "12  87280000000  \n",
       "13  81992000000  "
      ]
     },
     "execution_count": 41,
     "metadata": {},
     "output_type": "execute_result"
    }
   ],
   "source": [
    "df_merged"
   ]
  },
  {
   "cell_type": "markdown",
   "id": "aa7aa6d9-fd49-4662-970f-80e9994b9bed",
   "metadata": {},
   "source": [
    "# Calculation"
   ]
  },
  {
   "cell_type": "markdown",
   "id": "c7636ad8-cc2c-40b5-b153-e5f4d0c5bb92",
   "metadata": {},
   "source": [
    "**Liquidity:**\n",
    "    \n",
    "    - `AssetsCurrent` (Current Assets)\n",
    "    - `LiabilitiesCurrent` (Current Liabilities)\n",
    "    - **Calculation:** Current Ratio = Current Assets / Current Liabilities to evaluate short-term financial stability."
   ]
  },
  {
   "cell_type": "code",
   "execution_count": 42,
   "id": "1774c3f5-c93a-4448-ba83-24e97faf91e2",
   "metadata": {},
   "outputs": [],
   "source": [
    "# Start by creating a copy of the DataFrame to avoid SettingWithCopyWarning\n",
    "df_final = df_merged.copy()"
   ]
  },
  {
   "cell_type": "code",
   "execution_count": 26,
   "id": "d8bb8465-18e3-4881-9b08-f6d522caf582",
   "metadata": {},
   "outputs": [],
   "source": [
    "# Convert financial values from cents to millions for readability\n",
    "df_final['CurrentAssets'] /= 1000000\n",
    "df_final['CurrentLiabilities'] /= 1000000"
   ]
  },
  {
   "cell_type": "code",
   "execution_count": 43,
   "id": "213d50ee-2c89-41f9-bb7b-7d80083b2ac9",
   "metadata": {},
   "outputs": [],
   "source": [
    "# Calculate the Current Ratio\n",
    "# Ensure that division by zero is handled by replacing zero denominators with NaN\n",
    "df_final['CurrentRatio'] = df_final.apply(lambda row: row['CurrentAssets'] / row['CurrentLiabilities'] \n",
    "                                          if row['CurrentLiabilities'] > 0 \n",
    "                                          else None, axis=1)"
   ]
  },
  {
   "cell_type": "code",
   "execution_count": 44,
   "id": "4b388440-62d9-4b73-9e47-830d6e6d9655",
   "metadata": {},
   "outputs": [],
   "source": [
    "# Construct the 'Quarter' column\n",
    "df_final['Quarter'] = df_final['year'].astype(str) + '-Q' + df_final['quarter'].astype(str)\n",
    "# Construct the 'Quarter' column for annual data\n",
    "#df_final['Quarter'] = 'FY-' + df_final['year'].astype(str)"
   ]
  },
  {
   "cell_type": "code",
   "execution_count": 46,
   "id": "db15060c-e0e5-44f0-ab8a-37642f31a8a1",
   "metadata": {},
   "outputs": [],
   "source": [
    "# Selecting and renaming columns to match the desired format\n",
    "df_final = df_final[['EntityName', 'CIK', 'end', 'CurrentAssets', 'CurrentLiabilities', 'CurrentRatio', 'Quarter']]\n"
   ]
  },
  {
   "cell_type": "code",
   "execution_count": 47,
   "id": "0a8fd9a7-b484-473a-a96c-7ed64ba10976",
   "metadata": {},
   "outputs": [],
   "source": [
    "df_copy = df_final.copy()\n",
    "df_copy.rename(columns={'EntityName': 'ENTITY', 'end': 'DATE'}, inplace=True)"
   ]
  },
  {
   "cell_type": "code",
   "execution_count": 49,
   "id": "87ae3d3a-2b6b-4b3a-b192-40b841d61479",
   "metadata": {},
   "outputs": [
    {
     "data": {
      "text/html": [
       "<div>\n",
       "<style scoped>\n",
       "    .dataframe tbody tr th:only-of-type {\n",
       "        vertical-align: middle;\n",
       "    }\n",
       "\n",
       "    .dataframe tbody tr th {\n",
       "        vertical-align: top;\n",
       "    }\n",
       "\n",
       "    .dataframe thead th {\n",
       "        text-align: right;\n",
       "    }\n",
       "</style>\n",
       "<table border=\"1\" class=\"dataframe\">\n",
       "  <thead>\n",
       "    <tr style=\"text-align: right;\">\n",
       "      <th></th>\n",
       "      <th>ENTITY</th>\n",
       "      <th>CIK</th>\n",
       "      <th>DATE</th>\n",
       "      <th>CurrentAssets</th>\n",
       "      <th>CurrentLiabilities</th>\n",
       "      <th>CurrentRatio</th>\n",
       "      <th>Quarter</th>\n",
       "    </tr>\n",
       "  </thead>\n",
       "  <tbody>\n",
       "    <tr>\n",
       "      <th>0</th>\n",
       "      <td>THE BOEING COMPANY</td>\n",
       "      <td>12927</td>\n",
       "      <td>2008-12-31</td>\n",
       "      <td>25964000000</td>\n",
       "      <td>30773000000</td>\n",
       "      <td>0.843727</td>\n",
       "      <td>2008-Q5</td>\n",
       "    </tr>\n",
       "    <tr>\n",
       "      <th>1</th>\n",
       "      <td>THE BOEING COMPANY</td>\n",
       "      <td>12927</td>\n",
       "      <td>2009-12-31</td>\n",
       "      <td>35275000000</td>\n",
       "      <td>32883000000</td>\n",
       "      <td>1.072743</td>\n",
       "      <td>2009-Q5</td>\n",
       "    </tr>\n",
       "    <tr>\n",
       "      <th>2</th>\n",
       "      <td>THE BOEING COMPANY</td>\n",
       "      <td>12927</td>\n",
       "      <td>2010-12-31</td>\n",
       "      <td>40572000000</td>\n",
       "      <td>35395000000</td>\n",
       "      <td>1.146264</td>\n",
       "      <td>2010-Q5</td>\n",
       "    </tr>\n",
       "    <tr>\n",
       "      <th>3</th>\n",
       "      <td>THE BOEING COMPANY</td>\n",
       "      <td>12927</td>\n",
       "      <td>2011-12-31</td>\n",
       "      <td>49810000000</td>\n",
       "      <td>41274000000</td>\n",
       "      <td>1.206813</td>\n",
       "      <td>2011-Q5</td>\n",
       "    </tr>\n",
       "    <tr>\n",
       "      <th>4</th>\n",
       "      <td>THE BOEING COMPANY</td>\n",
       "      <td>12927</td>\n",
       "      <td>2012-12-31</td>\n",
       "      <td>57309000000</td>\n",
       "      <td>44982000000</td>\n",
       "      <td>1.274043</td>\n",
       "      <td>2012-Q5</td>\n",
       "    </tr>\n",
       "    <tr>\n",
       "      <th>5</th>\n",
       "      <td>THE BOEING COMPANY</td>\n",
       "      <td>12927</td>\n",
       "      <td>2013-12-31</td>\n",
       "      <td>65074000000</td>\n",
       "      <td>51486000000</td>\n",
       "      <td>1.263916</td>\n",
       "      <td>2013-Q5</td>\n",
       "    </tr>\n",
       "    <tr>\n",
       "      <th>6</th>\n",
       "      <td>THE BOEING COMPANY</td>\n",
       "      <td>12927</td>\n",
       "      <td>2014-12-31</td>\n",
       "      <td>67767000000</td>\n",
       "      <td>48233000000</td>\n",
       "      <td>1.404992</td>\n",
       "      <td>2014-Q5</td>\n",
       "    </tr>\n",
       "    <tr>\n",
       "      <th>7</th>\n",
       "      <td>THE BOEING COMPANY</td>\n",
       "      <td>12927</td>\n",
       "      <td>2015-12-31</td>\n",
       "      <td>68234000000</td>\n",
       "      <td>50412000000</td>\n",
       "      <td>1.353527</td>\n",
       "      <td>2015-Q5</td>\n",
       "    </tr>\n",
       "    <tr>\n",
       "      <th>8</th>\n",
       "      <td>THE BOEING COMPANY</td>\n",
       "      <td>12927</td>\n",
       "      <td>2016-12-31</td>\n",
       "      <td>62488000000</td>\n",
       "      <td>50134000000</td>\n",
       "      <td>1.246420</td>\n",
       "      <td>2016-Q5</td>\n",
       "    </tr>\n",
       "    <tr>\n",
       "      <th>9</th>\n",
       "      <td>THE BOEING COMPANY</td>\n",
       "      <td>12927</td>\n",
       "      <td>2017-12-31</td>\n",
       "      <td>85194000000</td>\n",
       "      <td>74648000000</td>\n",
       "      <td>1.141276</td>\n",
       "      <td>2017-Q5</td>\n",
       "    </tr>\n",
       "    <tr>\n",
       "      <th>10</th>\n",
       "      <td>THE BOEING COMPANY</td>\n",
       "      <td>12927</td>\n",
       "      <td>2018-12-31</td>\n",
       "      <td>87830000000</td>\n",
       "      <td>81590000000</td>\n",
       "      <td>1.076480</td>\n",
       "      <td>2018-Q5</td>\n",
       "    </tr>\n",
       "    <tr>\n",
       "      <th>11</th>\n",
       "      <td>THE BOEING COMPANY</td>\n",
       "      <td>12927</td>\n",
       "      <td>2019-12-31</td>\n",
       "      <td>102229000000</td>\n",
       "      <td>97312000000</td>\n",
       "      <td>1.050528</td>\n",
       "      <td>2019-Q5</td>\n",
       "    </tr>\n",
       "    <tr>\n",
       "      <th>12</th>\n",
       "      <td>THE BOEING COMPANY</td>\n",
       "      <td>12927</td>\n",
       "      <td>2020-12-31</td>\n",
       "      <td>121642000000</td>\n",
       "      <td>87280000000</td>\n",
       "      <td>1.393698</td>\n",
       "      <td>2020-Q5</td>\n",
       "    </tr>\n",
       "    <tr>\n",
       "      <th>13</th>\n",
       "      <td>THE BOEING COMPANY</td>\n",
       "      <td>12927</td>\n",
       "      <td>2021-12-31</td>\n",
       "      <td>108666000000</td>\n",
       "      <td>81992000000</td>\n",
       "      <td>1.325324</td>\n",
       "      <td>2021-Q5</td>\n",
       "    </tr>\n",
       "  </tbody>\n",
       "</table>\n",
       "</div>"
      ],
      "text/plain": [
       "                ENTITY    CIK       DATE  CurrentAssets  CurrentLiabilities  \\\n",
       "0   THE BOEING COMPANY  12927 2008-12-31    25964000000         30773000000   \n",
       "1   THE BOEING COMPANY  12927 2009-12-31    35275000000         32883000000   \n",
       "2   THE BOEING COMPANY  12927 2010-12-31    40572000000         35395000000   \n",
       "3   THE BOEING COMPANY  12927 2011-12-31    49810000000         41274000000   \n",
       "4   THE BOEING COMPANY  12927 2012-12-31    57309000000         44982000000   \n",
       "5   THE BOEING COMPANY  12927 2013-12-31    65074000000         51486000000   \n",
       "6   THE BOEING COMPANY  12927 2014-12-31    67767000000         48233000000   \n",
       "7   THE BOEING COMPANY  12927 2015-12-31    68234000000         50412000000   \n",
       "8   THE BOEING COMPANY  12927 2016-12-31    62488000000         50134000000   \n",
       "9   THE BOEING COMPANY  12927 2017-12-31    85194000000         74648000000   \n",
       "10  THE BOEING COMPANY  12927 2018-12-31    87830000000         81590000000   \n",
       "11  THE BOEING COMPANY  12927 2019-12-31   102229000000         97312000000   \n",
       "12  THE BOEING COMPANY  12927 2020-12-31   121642000000         87280000000   \n",
       "13  THE BOEING COMPANY  12927 2021-12-31   108666000000         81992000000   \n",
       "\n",
       "    CurrentRatio  Quarter  \n",
       "0       0.843727  2008-Q5  \n",
       "1       1.072743  2009-Q5  \n",
       "2       1.146264  2010-Q5  \n",
       "3       1.206813  2011-Q5  \n",
       "4       1.274043  2012-Q5  \n",
       "5       1.263916  2013-Q5  \n",
       "6       1.404992  2014-Q5  \n",
       "7       1.353527  2015-Q5  \n",
       "8       1.246420  2016-Q5  \n",
       "9       1.141276  2017-Q5  \n",
       "10      1.076480  2018-Q5  \n",
       "11      1.050528  2019-Q5  \n",
       "12      1.393698  2020-Q5  \n",
       "13      1.325324  2021-Q5  "
      ]
     },
     "execution_count": 49,
     "metadata": {},
     "output_type": "execute_result"
    }
   ],
   "source": [
    "df_copy"
   ]
  },
  {
   "cell_type": "markdown",
   "id": "911cf03e-2324-4222-8b0e-54a80d8a1905",
   "metadata": {},
   "source": [
    "# Visualization"
   ]
  },
  {
   "cell_type": "code",
   "execution_count": 51,
   "id": "d061400c-400a-4974-a552-cff111ff7922",
   "metadata": {},
   "outputs": [
    {
     "data": {
      "text/html": [
       "\n",
       "        <iframe\n",
       "            width=\"100%\"\n",
       "            height=\"650\"\n",
       "            src=\"http://127.0.0.1:8050/\"\n",
       "            frameborder=\"0\"\n",
       "            allowfullscreen\n",
       "            \n",
       "        ></iframe>\n",
       "        "
      ],
      "text/plain": [
       "<IPython.lib.display.IFrame at 0x128aeb210>"
      ]
     },
     "metadata": {},
     "output_type": "display_data"
    }
   ],
   "source": [
    "import dash \n",
    "\n",
    "# Convert DATE to datetime and sort\n",
    "df_copy = df_copy.copy()\n",
    "df_copy['DATE'] = pd.to_datetime(df_copy['DATE'])\n",
    "df_copy.sort_values(by='DATE', inplace=True)\n",
    "\n",
    "# Initialize Dash app\n",
    "app = Dash(__name__)\n",
    "\n",
    "# App layout\n",
    "app.layout = html.Div([\n",
    "    html.H1(\"Boeing Company's Current Ratio Analysis\"),\n",
    "    dcc.Graph(id='current-ratio-time-series'),\n",
    "    dcc.RangeSlider(\n",
    "        id='year-slider',\n",
    "        min=df_copy['DATE'].dt.year.min(),\n",
    "        max=df_copy['DATE'].dt.year.max(),\n",
    "        value=[df_copy['DATE'].dt.year.min(), df_copy['DATE'].dt.year.max()],\n",
    "        marks={str(year): str(year) for year in df_copy['DATE'].dt.year.unique()},\n",
    "        step=None\n",
    "    )\n",
    "])\n",
    "\n",
    "# Callback for the time series plot\n",
    "@app.callback(\n",
    "    Output('current-ratio-time-series', 'figure'),\n",
    "    [Input('year-slider', 'value')])\n",
    "def update_time_series(selected_years):\n",
    "    filtered_df = df_copy[df_copy['DATE'].dt.year.between(*selected_years)]\n",
    "    fig = go.Figure()\n",
    "    fig.add_trace(go.Scatter(x=filtered_df['DATE'], y=filtered_df['CurrentRatio'], mode='lines+markers', name='Current Ratio'))\n",
    "    fig.update_layout(title='Current Ratio Over Time', xaxis_title='Year', yaxis_title='Current Ratio')\n",
    "    return fig\n",
    "\n",
    "# Run the app\n",
    "if __name__ == '__main__':\n",
    "    app.run_server(debug=True)\n"
   ]
  }
 ],
 "metadata": {
  "kernelspec": {
   "display_name": "Python 3 (ipykernel)",
   "language": "python",
   "name": "python3"
  },
  "language_info": {
   "codemirror_mode": {
    "name": "ipython",
    "version": 3
   },
   "file_extension": ".py",
   "mimetype": "text/x-python",
   "name": "python",
   "nbconvert_exporter": "python",
   "pygments_lexer": "ipython3",
   "version": "3.11.6"
  }
 },
 "nbformat": 4,
 "nbformat_minor": 5
}
