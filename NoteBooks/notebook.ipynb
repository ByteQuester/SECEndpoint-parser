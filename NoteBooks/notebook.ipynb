{
 "cells": [
  {
   "cell_type": "code",
   "execution_count": 1,
   "metadata": {},
   "outputs": [
    {
     "ename": "ModuleNotFoundError",
     "evalue": "No module named 'apps'",
     "output_type": "error",
     "traceback": [
      "\u001b[0;31m---------------------------------------------------------------------------\u001b[0m",
      "\u001b[0;31mModuleNotFoundError\u001b[0m                       Traceback (most recent call last)",
      "\u001b[1;32m/Users/mpo/Projects/D3/Vizz/Defense Stock Investments/Data/SEC API/CIK Parser/apps/NoteBooks/notebook.ipynb Cell 1\u001b[0m line \u001b[0;36m1\n\u001b[0;32m----> <a href='vscode-notebook-cell:/Users/mpo/Projects/D3/Vizz/Defense%20Stock%20Investments/Data/SEC%20API/CIK%20Parser/apps/NoteBooks/notebook.ipynb#W0sZmlsZQ%3D%3D?line=0'>1</a>\u001b[0m \u001b[39mfrom\u001b[39;00m \u001b[39mapps\u001b[39;00m\u001b[39m.\u001b[39;00m\u001b[39mfunctions\u001b[39;00m\u001b[39m.\u001b[39;00m\u001b[39mresponses\u001b[39;00m \u001b[39mimport\u001b[39;00m SECAPIClient \n\u001b[1;32m      <a href='vscode-notebook-cell:/Users/mpo/Projects/D3/Vizz/Defense%20Stock%20Investments/Data/SEC%20API/CIK%20Parser/apps/NoteBooks/notebook.ipynb#W0sZmlsZQ%3D%3D?line=1'>2</a>\u001b[0m \u001b[39mfrom\u001b[39;00m \u001b[39mapps\u001b[39;00m\u001b[39m.\u001b[39;00m\u001b[39mfunctions\u001b[39;00m\u001b[39m.\u001b[39;00m\u001b[39mdata\u001b[39;00m \u001b[39mimport\u001b[39;00m FinancialDataProcessor\n\u001b[1;32m      <a href='vscode-notebook-cell:/Users/mpo/Projects/D3/Vizz/Defense%20Stock%20Investments/Data/SEC%20API/CIK%20Parser/apps/NoteBooks/notebook.ipynb#W0sZmlsZQ%3D%3D?line=3'>4</a>\u001b[0m sec_client \u001b[39m=\u001b[39m SECAPIClient()\n",
      "\u001b[0;31mModuleNotFoundError\u001b[0m: No module named 'apps'"
     ]
    }
   ],
   "source": [
    "from apps.functions.responses import SECAPIClient \n",
    "from apps.functions.data import FinancialDataProcessor\n",
    "\n",
    "sec_client = SECAPIClient()\n",
    "data_processor = FinancialDataProcessor(sec_client)\n",
    "\n",
    "# Fetch only company facts\n",
    "cik_number = '0000012927'  \n",
    "company_facts = sec_client.fetch_company_facts(cik_number)\n",
    "\n",
    "processed_data = data_processor.process_data({'company_facts': company_facts})\n",
    "\n",
    "data = processed_data"
   ]
  },
  {
   "cell_type": "code",
   "execution_count": null,
   "metadata": {},
   "outputs": [],
   "source": [
    "import sys\n",
    "sys.path.insert(0, '/Users/mpo/Projects/D3/Vizz/Defense\\ Stock\\ Investments/Data/SEC\\ API/CIK\\ Parser')\n",
    "\n",
    "from apps.functions.responses import SECAPIClient \n",
    "from apps.functions.data import FinancialDataProcessor\n",
    "# ... rest of your code ..."
   ]
  },
  {
   "cell_type": "code",
   "execution_count": null,
   "metadata": {},
   "outputs": [],
   "source": [
    "from sw_flake import SnowflakeDataManager\n",
    "manager=SnowflakeDataManager()\n"
   ]
  },
  {
   "cell_type": "code",
   "execution_count": null,
   "metadata": {},
   "outputs": [],
   "source": [
    "manager.create_table('TEST_TABLE')"
   ]
  },
  {
   "cell_type": "code",
   "execution_count": null,
   "metadata": {},
   "outputs": [],
   "source": [
    "manager._generate_stage_name('test', 'COPY')"
   ]
  },
  {
   "cell_type": "code",
   "execution_count": null,
   "metadata": {},
   "outputs": [],
   "source": [
    "manager.put_file_to_stage('data/data.csv')\n"
   ]
  },
  {
   "cell_type": "code",
   "execution_count": null,
   "metadata": {},
   "outputs": [],
   "source": [
    "manager.upload_data(data)"
   ]
  },
  {
   "cell_type": "code",
   "execution_count": null,
   "metadata": {},
   "outputs": [],
   "source": [
    "manager.execute_query_from_file('../queries/profitability_query.sql').head(20)"
   ]
  }
 ],
 "metadata": {
  "kernelspec": {
   "display_name": "Python 3",
   "language": "python",
   "name": "python3"
  },
  "language_info": {
   "codemirror_mode": {
    "name": "ipython",
    "version": 3
   },
   "file_extension": ".py",
   "mimetype": "text/x-python",
   "name": "python",
   "nbconvert_exporter": "python",
   "pygments_lexer": "ipython3",
   "version": "3.11.6"
  }
 },
 "nbformat": 4,
 "nbformat_minor": 2
}
