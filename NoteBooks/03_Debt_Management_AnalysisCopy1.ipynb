{
 "cells": [
  {
   "cell_type": "markdown",
   "id": "645f7f19-4820-48f6-9c48-c6680ef21474",
   "metadata": {
    "jp-MarkdownHeadingCollapsed": true
   },
   "source": [
    "# 03_Debt_Management_Analysis.ipynb"
   ]
  },
  {
   "cell_type": "markdown",
   "id": "1b528acd-813f-438e-af94-6d37e98a7e4e",
   "metadata": {},
   "source": [
    "## Title: \"Debt Management and Solvency Assessment\""
   ]
  },
  {
   "cell_type": "markdown",
   "id": "4c68e4b6-02e6-4f7f-bc98-b57c7595c604",
   "metadata": {},
   "source": [
    "### Contents:\n",
    "\n",
    "- Analyzing debt-related metrics from SEC data.\n",
    "- Comparing with debt_management_query.sql results.\n",
    "- Calculating debt ratios and solvency measures.\n",
    "- Visualizations and debt profile analysis."
   ]
  },
  {
   "cell_type": "markdown",
   "id": "39b005c6-3ee2-41ad-91a1-9d241660f870",
   "metadata": {},
   "source": [
    "---"
   ]
  },
  {
   "cell_type": "markdown",
   "id": "742170c6-3012-4827-aa74-310b498d23aa",
   "metadata": {},
   "source": [
    "# Set Up the Environment"
   ]
  },
  {
   "cell_type": "markdown",
   "id": "5e6b38cc-c136-412f-b12e-67141d0676b9",
   "metadata": {},
   "source": [
    "## Import Libraries"
   ]
  },
  {
   "cell_type": "code",
   "execution_count": 1,
   "id": "67ca6750-7217-4be1-978a-1a433b759c54",
   "metadata": {},
   "outputs": [],
   "source": [
    "import pandas as pd\n",
    "import requests\n",
    "import matplotlib.pyplot as plt"
   ]
  },
  {
   "cell_type": "markdown",
   "id": "cf26d2db-597b-4c03-8acf-94fe6fd2c7a3",
   "metadata": {},
   "source": [
    "## Functions"
   ]
  },
  {
   "cell_type": "code",
   "execution_count": 2,
   "id": "0edf7aaf-b9e7-4acd-8e09-70def5e11664",
   "metadata": {},
   "outputs": [],
   "source": [
    "def prepare_and_sort_financial_data(df, metric):\n",
    "    \"\"\"\n",
    "    Prepares and sorts financial data for a specific metric.\n",
    "\n",
    "    Args:\n",
    "    df (DataFrame): The raw DataFrame containing financial data.\n",
    "    metric (str): The specific financial metric to prepare and sort (e.g., 'OperatingIncomeLoss').\n",
    "\n",
    "    Returns:\n",
    "    DataFrame: A DataFrame filtered, cleaned, and sorted for the specific metric.\n",
    "    \"\"\"\n",
    "    # Filter by Metric\n",
    "    df_metric = df[df['Metric'] == metric]\n",
    "\n",
    "    # Filter for 10-K filings and ensure 'frame' column is not empty\n",
    "    filtered_df = df_metric[df_metric['form'] == '10-K']\n",
    "    filtered_df = filtered_df[filtered_df['frame'].notna()]\n",
    "\n",
    "    # Drop unnecessary columns\n",
    "    columns_to_drop = ['accn', 'fy', 'fp', 'form', 'filed']\n",
    "    filtered_df_cleaned = filtered_df.drop(columns=columns_to_drop)\n",
    "\n",
    "    # Define a custom sorting key and split into 'year' and 'quarter'\n",
    "    def custom_sort_key(frame_value):\n",
    "        year = frame_value[2:6]  # Extract the year part (e.g., '2007')\n",
    "        quarter_order = {'Q1': 1, 'Q2': 2, 'Q3': 3, 'Q4': 4, 'FY': 5}  # Define order for quarters and FY\n",
    "        quarter = frame_value[6:] if frame_value[6:] in quarter_order else 'FY'\n",
    "        return (year, quarter_order[quarter])\n",
    "\n",
    "    filtered_df_cleaned[['year', 'quarter']] = filtered_df_cleaned['frame'].apply(custom_sort_key).apply(pd.Series)\n",
    "\n",
    "    # Sort the DataFrame and drop the 'frame' and 'frame_sort_key' columns\n",
    "    sorted_df = filtered_df_cleaned.sort_values(by=['year', 'quarter']).drop(columns=['frame'])\n",
    "\n",
    "    return sorted_df\n",
    "\n",
    "# Example usage with multiple metrics\n",
    "# operating_income_loss_data = prepare_and_sort_financial_data(raw_data, 'OperatingIncomeLoss')\n",
    "# net_income_loss_data = prepare_and_sort_financial_data(raw_data, 'NetIncomeLoss')\n",
    "# revenues_data = prepare_and_sort_financial_data(raw_data, 'Revenues')\n"
   ]
  },
  {
   "cell_type": "markdown",
   "id": "7e6ffad5-7e1a-4d4b-ad7e-e63abc599b8a",
   "metadata": {},
   "source": [
    "# Load Data"
   ]
  },
  {
   "cell_type": "markdown",
   "id": "bbf50fa0-70c4-4f31-8933-7dca009c7810",
   "metadata": {},
   "source": [
    "## Load Data from CSV File"
   ]
  },
  {
   "cell_type": "code",
   "execution_count": 3,
   "id": "17da640e-aa9a-4081-98e6-9166746159dd",
   "metadata": {},
   "outputs": [],
   "source": [
    "raw_data = pd.read_csv('combined_df.csv')"
   ]
  },
  {
   "cell_type": "code",
   "execution_count": 4,
   "id": "2da40aa2-7091-4fd4-9d72-28feb1eb4206",
   "metadata": {},
   "outputs": [
    {
     "data": {
      "text/html": [
       "<div>\n",
       "<style scoped>\n",
       "    .dataframe tbody tr th:only-of-type {\n",
       "        vertical-align: middle;\n",
       "    }\n",
       "\n",
       "    .dataframe tbody tr th {\n",
       "        vertical-align: top;\n",
       "    }\n",
       "\n",
       "    .dataframe thead th {\n",
       "        text-align: right;\n",
       "    }\n",
       "</style>\n",
       "<table border=\"1\" class=\"dataframe\">\n",
       "  <thead>\n",
       "    <tr style=\"text-align: right;\">\n",
       "      <th></th>\n",
       "      <th>EntityName</th>\n",
       "      <th>CIK</th>\n",
       "      <th>Metric</th>\n",
       "      <th>end</th>\n",
       "      <th>val</th>\n",
       "      <th>accn</th>\n",
       "      <th>fy</th>\n",
       "      <th>fp</th>\n",
       "      <th>form</th>\n",
       "      <th>filed</th>\n",
       "      <th>frame</th>\n",
       "    </tr>\n",
       "  </thead>\n",
       "  <tbody>\n",
       "    <tr>\n",
       "      <th>0</th>\n",
       "      <td>THE BOEING COMPANY</td>\n",
       "      <td>12927</td>\n",
       "      <td>Assets</td>\n",
       "      <td>2008-12-31</td>\n",
       "      <td>53779000000</td>\n",
       "      <td>0001193125-09-152905</td>\n",
       "      <td>2009</td>\n",
       "      <td>Q2</td>\n",
       "      <td>10-Q</td>\n",
       "      <td>2009-07-22</td>\n",
       "      <td>NaN</td>\n",
       "    </tr>\n",
       "    <tr>\n",
       "      <th>1</th>\n",
       "      <td>THE BOEING COMPANY</td>\n",
       "      <td>12927</td>\n",
       "      <td>Assets</td>\n",
       "      <td>2008-12-31</td>\n",
       "      <td>53779000000</td>\n",
       "      <td>0001193125-09-210918</td>\n",
       "      <td>2009</td>\n",
       "      <td>Q3</td>\n",
       "      <td>10-Q</td>\n",
       "      <td>2009-10-21</td>\n",
       "      <td>NaN</td>\n",
       "    </tr>\n",
       "  </tbody>\n",
       "</table>\n",
       "</div>"
      ],
      "text/plain": [
       "           EntityName    CIK  Metric         end          val  \\\n",
       "0  THE BOEING COMPANY  12927  Assets  2008-12-31  53779000000   \n",
       "1  THE BOEING COMPANY  12927  Assets  2008-12-31  53779000000   \n",
       "\n",
       "                   accn    fy  fp  form       filed frame  \n",
       "0  0001193125-09-152905  2009  Q2  10-Q  2009-07-22   NaN  \n",
       "1  0001193125-09-210918  2009  Q3  10-Q  2009-10-21   NaN  "
      ]
     },
     "execution_count": 4,
     "metadata": {},
     "output_type": "execute_result"
    }
   ],
   "source": [
    "# Inspect the first few rows of the dataset\n",
    "raw_data.head(2)"
   ]
  },
  {
   "cell_type": "code",
   "execution_count": 5,
   "id": "77c4cd58-2314-4159-9285-e7e5cd74024e",
   "metadata": {},
   "outputs": [],
   "source": [
    "# Convert 'end' column to datetime for proper sorting\n",
    "raw_data['end'] = pd.to_datetime(raw_data['end'], format='%Y-%m-%d')\n"
   ]
  },
  {
   "cell_type": "code",
   "execution_count": 6,
   "id": "c86d3812-3223-469f-8e48-7e3aab83abfb",
   "metadata": {},
   "outputs": [
    {
     "name": "stdout",
     "output_type": "stream",
     "text": [
      "<class 'pandas.core.frame.DataFrame'>\n",
      "RangeIndex: 278 entries, 0 to 277\n",
      "Data columns (total 11 columns):\n",
      " #   Column      Non-Null Count  Dtype         \n",
      "---  ------      --------------  -----         \n",
      " 0   EntityName  278 non-null    object        \n",
      " 1   CIK         278 non-null    int64         \n",
      " 2   Metric      278 non-null    object        \n",
      " 3   end         278 non-null    datetime64[ns]\n",
      " 4   val         278 non-null    int64         \n",
      " 5   accn        278 non-null    object        \n",
      " 6   fy          278 non-null    int64         \n",
      " 7   fp          278 non-null    object        \n",
      " 8   form        278 non-null    object        \n",
      " 9   filed       278 non-null    object        \n",
      " 10  frame       144 non-null    object        \n",
      "dtypes: datetime64[ns](1), int64(3), object(7)\n",
      "memory usage: 24.0+ KB\n"
     ]
    }
   ],
   "source": [
    "# Check the data types and look for any missing values\n",
    "raw_data.info()"
   ]
  },
  {
   "cell_type": "markdown",
   "id": "5d4da628-9f6a-4f82-8007-f6dfbc576111",
   "metadata": {},
   "source": [
    "# Individual Metrics Analysis"
   ]
  },
  {
   "cell_type": "markdown",
   "id": "bb139a91-ca7e-47e7-9d3a-1e4e1ecb0b42",
   "metadata": {},
   "source": [
    "## Analysis of Assets"
   ]
  },
  {
   "cell_type": "code",
   "execution_count": 7,
   "id": "2e6284c1-20dc-413a-b050-87e1fdcb753a",
   "metadata": {},
   "outputs": [],
   "source": [
    "# Filter out the Assets\n",
    "assets = raw_data[raw_data['Metric'] == 'Assets']"
   ]
  },
  {
   "cell_type": "code",
   "execution_count": 8,
   "id": "4d3490e9-1f80-4170-9ace-21696aca6399",
   "metadata": {},
   "outputs": [],
   "source": [
    "assets_data = prepare_and_sort_financial_data(raw_data, 'Assets')"
   ]
  },
  {
   "cell_type": "code",
   "execution_count": 9,
   "id": "238c75fa-324d-4f7e-a3d2-86eaf2d4eb0b",
   "metadata": {},
   "outputs": [
    {
     "data": {
      "text/html": [
       "<div>\n",
       "<style scoped>\n",
       "    .dataframe tbody tr th:only-of-type {\n",
       "        vertical-align: middle;\n",
       "    }\n",
       "\n",
       "    .dataframe tbody tr th {\n",
       "        vertical-align: top;\n",
       "    }\n",
       "\n",
       "    .dataframe thead th {\n",
       "        text-align: right;\n",
       "    }\n",
       "</style>\n",
       "<table border=\"1\" class=\"dataframe\">\n",
       "  <thead>\n",
       "    <tr style=\"text-align: right;\">\n",
       "      <th></th>\n",
       "      <th>EntityName</th>\n",
       "      <th>CIK</th>\n",
       "      <th>Metric</th>\n",
       "      <th>end</th>\n",
       "      <th>val</th>\n",
       "      <th>year</th>\n",
       "      <th>quarter</th>\n",
       "    </tr>\n",
       "  </thead>\n",
       "  <tbody>\n",
       "    <tr>\n",
       "      <th>2</th>\n",
       "      <td>THE BOEING COMPANY</td>\n",
       "      <td>12927</td>\n",
       "      <td>Assets</td>\n",
       "      <td>2008-12-31</td>\n",
       "      <td>53779000000</td>\n",
       "      <td>2008</td>\n",
       "      <td>5</td>\n",
       "    </tr>\n",
       "    <tr>\n",
       "      <th>9</th>\n",
       "      <td>THE BOEING COMPANY</td>\n",
       "      <td>12927</td>\n",
       "      <td>Assets</td>\n",
       "      <td>2009-12-31</td>\n",
       "      <td>62053000000</td>\n",
       "      <td>2009</td>\n",
       "      <td>5</td>\n",
       "    </tr>\n",
       "  </tbody>\n",
       "</table>\n",
       "</div>"
      ],
      "text/plain": [
       "           EntityName    CIK  Metric        end          val  year  quarter\n",
       "2  THE BOEING COMPANY  12927  Assets 2008-12-31  53779000000  2008        5\n",
       "9  THE BOEING COMPANY  12927  Assets 2009-12-31  62053000000  2009        5"
      ]
     },
     "execution_count": 9,
     "metadata": {},
     "output_type": "execute_result"
    }
   ],
   "source": [
    "assets_data.head(2)"
   ]
  },
  {
   "cell_type": "code",
   "execution_count": 10,
   "id": "57493903-4d26-452d-9a65-601d6a9f9b18",
   "metadata": {},
   "outputs": [
    {
     "name": "stdout",
     "output_type": "stream",
     "text": [
      "           CIK                            end           val  quarter\n",
      "count     14.0                             14  1.400000e+01     14.0\n",
      "mean   12927.0  2015-07-01 18:51:25.714285824  9.837871e+10      5.0\n",
      "min    12927.0            2008-12-31 00:00:00  5.377900e+10      5.0\n",
      "25%    12927.0            2012-03-31 12:00:00  8.221350e+10      5.0\n",
      "50%    12927.0            2015-07-01 12:00:00  9.279200e+10      5.0\n",
      "75%    12927.0            2018-09-30 18:00:00  1.161098e+11      5.0\n",
      "max    12927.0            2021-12-31 00:00:00  1.521360e+11      5.0\n",
      "std        0.0                            NaN  2.918912e+10      0.0\n"
     ]
    }
   ],
   "source": [
    "print(assets_data.describe())"
   ]
  },
  {
   "cell_type": "code",
   "execution_count": 11,
   "id": "2761052e-d62c-4a2e-96f1-e30db39c0979",
   "metadata": {},
   "outputs": [
    {
     "data": {
      "image/png": "[encoded data removed]",
      "text/plain": [
       "<Figure size 640x480 with 1 Axes>"
      ]
     },
     "metadata": {},
     "output_type": "display_data"
    }
   ],
   "source": [
    "assets_data.plot(x='end', y='val', title='Assets Over Time')\n",
    "plt.show()"
   ]
  },
  {
   "cell_type": "markdown",
   "id": "83e4c4da-da70-4ee1-9550-fb1b4d599d1f",
   "metadata": {},
   "source": [
    "## Analysis of Stockholders Equity"
   ]
  },
  {
   "cell_type": "code",
   "execution_count": 12,
   "id": "11945af5-7b03-4191-a86f-89fdd06603b7",
   "metadata": {},
   "outputs": [],
   "source": [
    "stockholders_equity = raw_data[raw_data['Metric'] == 'StockholdersEquity']"
   ]
  },
  {
   "cell_type": "code",
   "execution_count": 13,
   "id": "bd462648-362f-45f2-a04d-af2a04ec7089",
   "metadata": {},
   "outputs": [],
   "source": [
    "stockholders_equity_data = prepare_and_sort_financial_data(raw_data, 'StockholdersEquity')"
   ]
  },
  {
   "cell_type": "code",
   "execution_count": 14,
   "id": "59c48245-37a0-4156-b6e4-711d28ee974b",
   "metadata": {},
   "outputs": [
    {
     "data": {
      "text/html": [
       "<div>\n",
       "<style scoped>\n",
       "    .dataframe tbody tr th:only-of-type {\n",
       "        vertical-align: middle;\n",
       "    }\n",
       "\n",
       "    .dataframe tbody tr th {\n",
       "        vertical-align: top;\n",
       "    }\n",
       "\n",
       "    .dataframe thead th {\n",
       "        text-align: right;\n",
       "    }\n",
       "</style>\n",
       "<table border=\"1\" class=\"dataframe\">\n",
       "  <thead>\n",
       "    <tr style=\"text-align: right;\">\n",
       "      <th></th>\n",
       "      <th>EntityName</th>\n",
       "      <th>CIK</th>\n",
       "      <th>Metric</th>\n",
       "      <th>end</th>\n",
       "      <th>val</th>\n",
       "      <th>year</th>\n",
       "      <th>quarter</th>\n",
       "    </tr>\n",
       "  </thead>\n",
       "  <tbody>\n",
       "    <tr>\n",
       "      <th>164</th>\n",
       "      <td>THE BOEING COMPANY</td>\n",
       "      <td>12927</td>\n",
       "      <td>StockholdersEquity</td>\n",
       "      <td>2008-12-31</td>\n",
       "      <td>-1294000000</td>\n",
       "      <td>2008</td>\n",
       "      <td>5</td>\n",
       "    </tr>\n",
       "    <tr>\n",
       "      <th>171</th>\n",
       "      <td>THE BOEING COMPANY</td>\n",
       "      <td>12927</td>\n",
       "      <td>StockholdersEquity</td>\n",
       "      <td>2009-12-31</td>\n",
       "      <td>2128000000</td>\n",
       "      <td>2009</td>\n",
       "      <td>5</td>\n",
       "    </tr>\n",
       "  </tbody>\n",
       "</table>\n",
       "</div>"
      ],
      "text/plain": [
       "             EntityName    CIK              Metric        end         val  \\\n",
       "164  THE BOEING COMPANY  12927  StockholdersEquity 2008-12-31 -1294000000   \n",
       "171  THE BOEING COMPANY  12927  StockholdersEquity 2009-12-31  2128000000   \n",
       "\n",
       "     year  quarter  \n",
       "164  2008        5  \n",
       "171  2009        5  "
      ]
     },
     "execution_count": 14,
     "metadata": {},
     "output_type": "execute_result"
    }
   ],
   "source": [
    "stockholders_equity_data.head(2)"
   ]
  },
  {
   "cell_type": "code",
   "execution_count": 15,
   "id": "5459090a-b5aa-414e-815a-9ffc0186c339",
   "metadata": {},
   "outputs": [
    {
     "name": "stdout",
     "output_type": "stream",
     "text": [
      "           CIK                            end           val  quarter\n",
      "count     14.0                             14  1.400000e+01     14.0\n",
      "mean   12927.0  2015-07-01 18:51:25.714285824  2.669286e+08      5.0\n",
      "min    12927.0            2008-12-31 00:00:00 -1.831600e+10      5.0\n",
      "25%    12927.0            2012-03-31 12:00:00 -8.857500e+08      5.0\n",
      "50%    12927.0            2015-07-01 12:00:00  1.892000e+09      5.0\n",
      "75%    12927.0            2018-09-30 18:00:00  5.279000e+09      5.0\n",
      "max    12927.0            2021-12-31 00:00:00  1.487500e+10      5.0\n",
      "std        0.0                            NaN  8.919884e+09      0.0\n"
     ]
    },
    {
     "data": {
      "image/png": "[encoded data removed]",
      "text/plain": [
       "<Figure size 640x480 with 1 Axes>"
      ]
     },
     "metadata": {},
     "output_type": "display_data"
    }
   ],
   "source": [
    "print(stockholders_equity_data.describe())\n",
    "stockholders_equity_data.plot(x='end', y='val', title='Stockholders Equity Over Time')\n",
    "plt.show()\n"
   ]
  },
  {
   "cell_type": "markdown",
   "id": "56f348b6-6528-4f3c-8f02-76d95b1bc8dd",
   "metadata": {},
   "source": [
    "## Analysis of Liabilities"
   ]
  },
  {
   "cell_type": "code",
   "execution_count": 16,
   "id": "e8c3d4a7-02df-443d-b680-748e73edbcc7",
   "metadata": {},
   "outputs": [],
   "source": [
    "# Filter out the Liabilities data\n",
    "liabilities_loss = raw_data[raw_data['Metric'] == 'Liabilities']"
   ]
  },
  {
   "cell_type": "code",
   "execution_count": 17,
   "id": "68f3bce9-bad4-4e4f-80e0-01cf76f0665d",
   "metadata": {},
   "outputs": [],
   "source": [
    "liabilities_data = prepare_and_sort_financial_data(raw_data, 'Liabilities')"
   ]
  },
  {
   "cell_type": "code",
   "execution_count": 18,
   "id": "4a6e170b-0e5e-4ecb-99b9-800647193d10",
   "metadata": {},
   "outputs": [
    {
     "data": {
      "text/html": [
       "<div>\n",
       "<style scoped>\n",
       "    .dataframe tbody tr th:only-of-type {\n",
       "        vertical-align: middle;\n",
       "    }\n",
       "\n",
       "    .dataframe tbody tr th {\n",
       "        vertical-align: top;\n",
       "    }\n",
       "\n",
       "    .dataframe thead th {\n",
       "        text-align: right;\n",
       "    }\n",
       "</style>\n",
       "<table border=\"1\" class=\"dataframe\">\n",
       "  <thead>\n",
       "    <tr style=\"text-align: right;\">\n",
       "      <th></th>\n",
       "      <th>EntityName</th>\n",
       "      <th>CIK</th>\n",
       "      <th>Metric</th>\n",
       "      <th>end</th>\n",
       "      <th>val</th>\n",
       "      <th>year</th>\n",
       "      <th>quarter</th>\n",
       "    </tr>\n",
       "  </thead>\n",
       "  <tbody>\n",
       "    <tr>\n",
       "      <th>122</th>\n",
       "      <td>THE BOEING COMPANY</td>\n",
       "      <td>12927</td>\n",
       "      <td>Liabilities</td>\n",
       "      <td>2010-12-31</td>\n",
       "      <td>65703000000</td>\n",
       "      <td>2010</td>\n",
       "      <td>5</td>\n",
       "    </tr>\n",
       "    <tr>\n",
       "      <th>135</th>\n",
       "      <td>THE BOEING COMPANY</td>\n",
       "      <td>12927</td>\n",
       "      <td>Liabilities</td>\n",
       "      <td>2019-12-31</td>\n",
       "      <td>141925000000</td>\n",
       "      <td>2019</td>\n",
       "      <td>5</td>\n",
       "    </tr>\n",
       "  </tbody>\n",
       "</table>\n",
       "</div>"
      ],
      "text/plain": [
       "             EntityName    CIK       Metric        end           val  year  \\\n",
       "122  THE BOEING COMPANY  12927  Liabilities 2010-12-31   65703000000  2010   \n",
       "135  THE BOEING COMPANY  12927  Liabilities 2019-12-31  141925000000  2019   \n",
       "\n",
       "     quarter  \n",
       "122        5  \n",
       "135        5  "
      ]
     },
     "execution_count": 18,
     "metadata": {},
     "output_type": "execute_result"
    }
   ],
   "source": [
    "liabilities_data.head(2)"
   ]
  },
  {
   "cell_type": "code",
   "execution_count": 19,
   "id": "5ecb54bb-9685-4935-922b-1ac314072598",
   "metadata": {},
   "outputs": [
    {
     "name": "stdout",
     "output_type": "stream",
     "text": [
      "           CIK                  end           val  quarter\n",
      "count      4.0                    4  4.000000e+00      4.0\n",
      "mean   12927.0  2018-07-01 12:00:00  1.328092e+11      5.0\n",
      "min    12927.0  2010-12-31 00:00:00  6.570300e+10      5.0\n",
      "25%    12927.0  2017-09-30 06:00:00  1.228695e+11      5.0\n",
      "50%    12927.0  2020-07-01 00:00:00  1.476615e+11      5.0\n",
      "75%    12927.0  2021-04-01 06:00:00  1.576012e+11      5.0\n",
      "max    12927.0  2021-12-31 00:00:00  1.702110e+11      5.0\n",
      "std        0.0                  NaN  4.622097e+10      0.0\n"
     ]
    },
    {
     "data": {
      "image/png": "[encoded data removed]",
      "text/plain": [
       "<Figure size 640x480 with 1 Axes>"
      ]
     },
     "metadata": {},
     "output_type": "display_data"
    }
   ],
   "source": [
    "print(liabilities_data.describe())\n",
    "liabilities_data.plot(x='end', y='val', title='Liabilities Over Time')\n",
    "plt.show()\n"
   ]
  },
  {
   "cell_type": "markdown",
   "id": "29d731d1-ccd0-4b1a-9103-4a1088590d49",
   "metadata": {},
   "source": [
    "# Merge the Data"
   ]
  },
  {
   "cell_type": "code",
   "execution_count": 20,
   "id": "b4c828d8",
   "metadata": {},
   "outputs": [],
   "source": [
    "df_merged = pd.merge(assets_data, stockholders_equity_data, \n",
    "                     on=['EntityName', 'CIK', 'end', 'year', 'quarter'], \n",
    "                     how='outer', suffixes=('_assets', '_stockholders_equity'))"
   ]
  },
  {
   "cell_type": "code",
   "execution_count": 21,
   "id": "4a5d22a6-6b11-4756-ade1-bd80735d4daf",
   "metadata": {},
   "outputs": [],
   "source": [
    "df_merged = pd.merge(df_merged, liabilities_data, \n",
    "                     on=['EntityName', 'CIK', 'end', 'year', 'quarter'], \n",
    "                     how='outer')\n",
    "                     "
   ]
  },
  {
   "cell_type": "code",
   "execution_count": 22,
   "id": "6e06dc61-008d-4836-bfae-125f8cd65291",
   "metadata": {},
   "outputs": [],
   "source": [
    "df_merged.rename(columns={'val_assets': 'Assets', \n",
    "                          'val_stockholders_equity': 'StockholdersEquity', \n",
    "                          'val': 'Liabilities'}, inplace=True)"
   ]
  },
  {
   "cell_type": "code",
   "execution_count": 23,
   "id": "7156cd5b-ec3a-4cef-a5de-7185c17f318f",
   "metadata": {},
   "outputs": [],
   "source": [
    "# Filtering out the annual data (rows where quarter is '5')\n",
    "#df_merged_quarterly = df_merged[df_merged['quarter']] #!= 5]"
   ]
  },
  {
   "cell_type": "code",
   "execution_count": 24,
   "id": "2430b743-71c8-46d4-8c65-8a9c99d56bb5",
   "metadata": {
    "scrolled": true
   },
   "outputs": [
    {
     "data": {
      "text/html": [
       "<div>\n",
       "<style scoped>\n",
       "    .dataframe tbody tr th:only-of-type {\n",
       "        vertical-align: middle;\n",
       "    }\n",
       "\n",
       "    .dataframe tbody tr th {\n",
       "        vertical-align: top;\n",
       "    }\n",
       "\n",
       "    .dataframe thead th {\n",
       "        text-align: right;\n",
       "    }\n",
       "</style>\n",
       "<table border=\"1\" class=\"dataframe\">\n",
       "  <thead>\n",
       "    <tr style=\"text-align: right;\">\n",
       "      <th></th>\n",
       "      <th>EntityName</th>\n",
       "      <th>CIK</th>\n",
       "      <th>Metric_assets</th>\n",
       "      <th>end</th>\n",
       "      <th>Assets</th>\n",
       "      <th>year</th>\n",
       "      <th>quarter</th>\n",
       "      <th>Metric_stockholders_equity</th>\n",
       "      <th>StockholdersEquity</th>\n",
       "      <th>Metric</th>\n",
       "      <th>Liabilities</th>\n",
       "    </tr>\n",
       "  </thead>\n",
       "  <tbody>\n",
       "    <tr>\n",
       "      <th>0</th>\n",
       "      <td>THE BOEING COMPANY</td>\n",
       "      <td>12927</td>\n",
       "      <td>Assets</td>\n",
       "      <td>2008-12-31</td>\n",
       "      <td>53779000000</td>\n",
       "      <td>2008</td>\n",
       "      <td>5</td>\n",
       "      <td>StockholdersEquity</td>\n",
       "      <td>-1294000000</td>\n",
       "      <td>NaN</td>\n",
       "      <td>NaN</td>\n",
       "    </tr>\n",
       "    <tr>\n",
       "      <th>1</th>\n",
       "      <td>THE BOEING COMPANY</td>\n",
       "      <td>12927</td>\n",
       "      <td>Assets</td>\n",
       "      <td>2009-12-31</td>\n",
       "      <td>62053000000</td>\n",
       "      <td>2009</td>\n",
       "      <td>5</td>\n",
       "      <td>StockholdersEquity</td>\n",
       "      <td>2128000000</td>\n",
       "      <td>NaN</td>\n",
       "      <td>NaN</td>\n",
       "    </tr>\n",
       "    <tr>\n",
       "      <th>2</th>\n",
       "      <td>THE BOEING COMPANY</td>\n",
       "      <td>12927</td>\n",
       "      <td>Assets</td>\n",
       "      <td>2010-12-31</td>\n",
       "      <td>68565000000</td>\n",
       "      <td>2010</td>\n",
       "      <td>5</td>\n",
       "      <td>StockholdersEquity</td>\n",
       "      <td>2766000000</td>\n",
       "      <td>Liabilities</td>\n",
       "      <td>6.570300e+10</td>\n",
       "    </tr>\n",
       "    <tr>\n",
       "      <th>3</th>\n",
       "      <td>THE BOEING COMPANY</td>\n",
       "      <td>12927</td>\n",
       "      <td>Assets</td>\n",
       "      <td>2011-12-31</td>\n",
       "      <td>79986000000</td>\n",
       "      <td>2011</td>\n",
       "      <td>5</td>\n",
       "      <td>StockholdersEquity</td>\n",
       "      <td>3515000000</td>\n",
       "      <td>NaN</td>\n",
       "      <td>NaN</td>\n",
       "    </tr>\n",
       "    <tr>\n",
       "      <th>4</th>\n",
       "      <td>THE BOEING COMPANY</td>\n",
       "      <td>12927</td>\n",
       "      <td>Assets</td>\n",
       "      <td>2012-12-31</td>\n",
       "      <td>88896000000</td>\n",
       "      <td>2012</td>\n",
       "      <td>5</td>\n",
       "      <td>StockholdersEquity</td>\n",
       "      <td>5867000000</td>\n",
       "      <td>NaN</td>\n",
       "      <td>NaN</td>\n",
       "    </tr>\n",
       "    <tr>\n",
       "      <th>5</th>\n",
       "      <td>THE BOEING COMPANY</td>\n",
       "      <td>12927</td>\n",
       "      <td>Assets</td>\n",
       "      <td>2013-12-31</td>\n",
       "      <td>92663000000</td>\n",
       "      <td>2013</td>\n",
       "      <td>5</td>\n",
       "      <td>StockholdersEquity</td>\n",
       "      <td>14875000000</td>\n",
       "      <td>NaN</td>\n",
       "      <td>NaN</td>\n",
       "    </tr>\n",
       "    <tr>\n",
       "      <th>6</th>\n",
       "      <td>THE BOEING COMPANY</td>\n",
       "      <td>12927</td>\n",
       "      <td>Assets</td>\n",
       "      <td>2014-12-31</td>\n",
       "      <td>92921000000</td>\n",
       "      <td>2014</td>\n",
       "      <td>5</td>\n",
       "      <td>StockholdersEquity</td>\n",
       "      <td>8665000000</td>\n",
       "      <td>NaN</td>\n",
       "      <td>NaN</td>\n",
       "    </tr>\n",
       "    <tr>\n",
       "      <th>7</th>\n",
       "      <td>THE BOEING COMPANY</td>\n",
       "      <td>12927</td>\n",
       "      <td>Assets</td>\n",
       "      <td>2015-12-31</td>\n",
       "      <td>94408000000</td>\n",
       "      <td>2015</td>\n",
       "      <td>5</td>\n",
       "      <td>StockholdersEquity</td>\n",
       "      <td>6335000000</td>\n",
       "      <td>NaN</td>\n",
       "      <td>NaN</td>\n",
       "    </tr>\n",
       "    <tr>\n",
       "      <th>8</th>\n",
       "      <td>THE BOEING COMPANY</td>\n",
       "      <td>12927</td>\n",
       "      <td>Assets</td>\n",
       "      <td>2016-12-31</td>\n",
       "      <td>89997000000</td>\n",
       "      <td>2016</td>\n",
       "      <td>5</td>\n",
       "      <td>StockholdersEquity</td>\n",
       "      <td>817000000</td>\n",
       "      <td>NaN</td>\n",
       "      <td>NaN</td>\n",
       "    </tr>\n",
       "    <tr>\n",
       "      <th>9</th>\n",
       "      <td>THE BOEING COMPANY</td>\n",
       "      <td>12927</td>\n",
       "      <td>Assets</td>\n",
       "      <td>2017-12-31</td>\n",
       "      <td>112362000000</td>\n",
       "      <td>2017</td>\n",
       "      <td>5</td>\n",
       "      <td>StockholdersEquity</td>\n",
       "      <td>1656000000</td>\n",
       "      <td>NaN</td>\n",
       "      <td>NaN</td>\n",
       "    </tr>\n",
       "    <tr>\n",
       "      <th>10</th>\n",
       "      <td>THE BOEING COMPANY</td>\n",
       "      <td>12927</td>\n",
       "      <td>Assets</td>\n",
       "      <td>2018-12-31</td>\n",
       "      <td>117359000000</td>\n",
       "      <td>2018</td>\n",
       "      <td>5</td>\n",
       "      <td>StockholdersEquity</td>\n",
       "      <td>339000000</td>\n",
       "      <td>NaN</td>\n",
       "      <td>NaN</td>\n",
       "    </tr>\n",
       "    <tr>\n",
       "      <th>11</th>\n",
       "      <td>THE BOEING COMPANY</td>\n",
       "      <td>12927</td>\n",
       "      <td>Assets</td>\n",
       "      <td>2019-12-31</td>\n",
       "      <td>133625000000</td>\n",
       "      <td>2019</td>\n",
       "      <td>5</td>\n",
       "      <td>StockholdersEquity</td>\n",
       "      <td>-8617000000</td>\n",
       "      <td>Liabilities</td>\n",
       "      <td>1.419250e+11</td>\n",
       "    </tr>\n",
       "    <tr>\n",
       "      <th>12</th>\n",
       "      <td>THE BOEING COMPANY</td>\n",
       "      <td>12927</td>\n",
       "      <td>Assets</td>\n",
       "      <td>2020-12-31</td>\n",
       "      <td>152136000000</td>\n",
       "      <td>2020</td>\n",
       "      <td>5</td>\n",
       "      <td>StockholdersEquity</td>\n",
       "      <td>-18316000000</td>\n",
       "      <td>Liabilities</td>\n",
       "      <td>1.702110e+11</td>\n",
       "    </tr>\n",
       "    <tr>\n",
       "      <th>13</th>\n",
       "      <td>THE BOEING COMPANY</td>\n",
       "      <td>12927</td>\n",
       "      <td>Assets</td>\n",
       "      <td>2021-12-31</td>\n",
       "      <td>138552000000</td>\n",
       "      <td>2021</td>\n",
       "      <td>5</td>\n",
       "      <td>StockholdersEquity</td>\n",
       "      <td>-14999000000</td>\n",
       "      <td>Liabilities</td>\n",
       "      <td>1.533980e+11</td>\n",
       "    </tr>\n",
       "  </tbody>\n",
       "</table>\n",
       "</div>"
      ],
      "text/plain": [
       "            EntityName    CIK Metric_assets        end        Assets  year  \\\n",
       "0   THE BOEING COMPANY  12927        Assets 2008-12-31   53779000000  2008   \n",
       "1   THE BOEING COMPANY  12927        Assets 2009-12-31   62053000000  2009   \n",
       "2   THE BOEING COMPANY  12927        Assets 2010-12-31   68565000000  2010   \n",
       "3   THE BOEING COMPANY  12927        Assets 2011-12-31   79986000000  2011   \n",
       "4   THE BOEING COMPANY  12927        Assets 2012-12-31   88896000000  2012   \n",
       "5   THE BOEING COMPANY  12927        Assets 2013-12-31   92663000000  2013   \n",
       "6   THE BOEING COMPANY  12927        Assets 2014-12-31   92921000000  2014   \n",
       "7   THE BOEING COMPANY  12927        Assets 2015-12-31   94408000000  2015   \n",
       "8   THE BOEING COMPANY  12927        Assets 2016-12-31   89997000000  2016   \n",
       "9   THE BOEING COMPANY  12927        Assets 2017-12-31  112362000000  2017   \n",
       "10  THE BOEING COMPANY  12927        Assets 2018-12-31  117359000000  2018   \n",
       "11  THE BOEING COMPANY  12927        Assets 2019-12-31  133625000000  2019   \n",
       "12  THE BOEING COMPANY  12927        Assets 2020-12-31  152136000000  2020   \n",
       "13  THE BOEING COMPANY  12927        Assets 2021-12-31  138552000000  2021   \n",
       "\n",
       "    quarter Metric_stockholders_equity  StockholdersEquity       Metric  \\\n",
       "0         5         StockholdersEquity         -1294000000          NaN   \n",
       "1         5         StockholdersEquity          2128000000          NaN   \n",
       "2         5         StockholdersEquity          2766000000  Liabilities   \n",
       "3         5         StockholdersEquity          3515000000          NaN   \n",
       "4         5         StockholdersEquity          5867000000          NaN   \n",
       "5         5         StockholdersEquity         14875000000          NaN   \n",
       "6         5         StockholdersEquity          8665000000          NaN   \n",
       "7         5         StockholdersEquity          6335000000          NaN   \n",
       "8         5         StockholdersEquity           817000000          NaN   \n",
       "9         5         StockholdersEquity          1656000000          NaN   \n",
       "10        5         StockholdersEquity           339000000          NaN   \n",
       "11        5         StockholdersEquity         -8617000000  Liabilities   \n",
       "12        5         StockholdersEquity        -18316000000  Liabilities   \n",
       "13        5         StockholdersEquity        -14999000000  Liabilities   \n",
       "\n",
       "     Liabilities  \n",
       "0            NaN  \n",
       "1            NaN  \n",
       "2   6.570300e+10  \n",
       "3            NaN  \n",
       "4            NaN  \n",
       "5            NaN  \n",
       "6            NaN  \n",
       "7            NaN  \n",
       "8            NaN  \n",
       "9            NaN  \n",
       "10           NaN  \n",
       "11  1.419250e+11  \n",
       "12  1.702110e+11  \n",
       "13  1.533980e+11  "
      ]
     },
     "execution_count": 24,
     "metadata": {},
     "output_type": "execute_result"
    }
   ],
   "source": [
    "df_merged"
   ]
  },
  {
   "cell_type": "markdown",
   "id": "aa7aa6d9-fd49-4662-970f-80e9994b9bed",
   "metadata": {},
   "source": [
    "# Calculation"
   ]
  },
  {
   "cell_type": "markdown",
   "id": "c7636ad8-cc2c-40b5-b153-e5f4d0c5bb92",
   "metadata": {},
   "source": [
    "**Assets and Liabilities:**\n",
    "    \n",
    "    - `Assets`\n",
    "    - `Liabilities`\n",
    "    - `StockholdersEquity` (Equity)\n",
    "    - **Calculation:** To assess financial health, compare total assets against total liabilities. The equity figure provides additional context."
   ]
  },
  {
   "cell_type": "code",
   "execution_count": 25,
   "id": "1774c3f5-c93a-4448-ba83-24e97faf91e2",
   "metadata": {},
   "outputs": [],
   "source": [
    "# Start by creating a copy of the DataFrame to avoid SettingWithCopyWarning\n",
    "df_final = df_merged.copy()"
   ]
  },
  {
   "cell_type": "code",
   "execution_count": 26,
   "id": "d8bb8465-18e3-4881-9b08-f6d522caf582",
   "metadata": {},
   "outputs": [],
   "source": [
    "# Convert financial values from cents to millions for readability\n",
    "df_final['Assets'] /= 1000000\n",
    "df_final['StockholdersEquity'] /= 1000000\n",
    "df_final['Liabilities'] /= 1000000"
   ]
  },
  {
   "cell_type": "code",
   "execution_count": 27,
   "id": "213d50ee-2c89-41f9-bb7b-7d80083b2ac9",
   "metadata": {},
   "outputs": [],
   "source": [
    "# Calculate Asset to Liability Ratio and Debt to Equity Ratio where data is available\n",
    "df_final['AssetToLiabilityRatio'] = df_final.apply(lambda row: row['Assets'] / row['Liabilities'] if pd.notna(row['Liabilities']) else None, axis=1)\n",
    "df_final['DebtToEquityRatio'] = df_final.apply(lambda row: row['Liabilities'] / row['StockholdersEquity'] if pd.notna(row['Liabilities']) and pd.notna(row['StockholdersEquity']) else None, axis=1)\n"
   ]
  },
  {
   "cell_type": "code",
   "execution_count": 28,
   "id": "4b388440-62d9-4b73-9e47-830d6e6d9655",
   "metadata": {},
   "outputs": [],
   "source": [
    "# Construct the 'Quarter' column\n",
    "df_final['Quarter'] = df_final['year'].astype(str) + '-Q' + df_final['quarter'].astype(str)\n",
    "# Construct the 'Quarter' column for annual data\n",
    "#df_final['Quarter'] = 'FY-' + df_final['year'].astype(str)"
   ]
  },
  {
   "cell_type": "code",
   "execution_count": 29,
   "id": "db15060c-e0e5-44f0-ab8a-37642f31a8a1",
   "metadata": {},
   "outputs": [],
   "source": [
    "# Selecting and renaming columns to match the desired format\n",
    "df_final = df_final[['EntityName', 'CIK', 'end', 'Assets', 'Liabilities', 'StockholdersEquity', 'AssetToLiabilityRatio', 'DebtToEquityRatio', 'Quarter']]\n"
   ]
  },
  {
   "cell_type": "code",
   "execution_count": 30,
   "id": "0a8fd9a7-b484-473a-a96c-7ed64ba10976",
   "metadata": {},
   "outputs": [],
   "source": [
    "df_copy = df_final.copy()\n",
    "df_copy.rename(columns={'EntityName': 'ENTITY', 'end': 'DATE'}, inplace=True)"
   ]
  },
  {
   "cell_type": "code",
   "execution_count": 35,
   "id": "87ae3d3a-2b6b-4b3a-b192-40b841d61479",
   "metadata": {},
   "outputs": [
    {
     "data": {
      "text/html": [
       "<div>\n",
       "<style scoped>\n",
       "    .dataframe tbody tr th:only-of-type {\n",
       "        vertical-align: middle;\n",
       "    }\n",
       "\n",
       "    .dataframe tbody tr th {\n",
       "        vertical-align: top;\n",
       "    }\n",
       "\n",
       "    .dataframe thead th {\n",
       "        text-align: right;\n",
       "    }\n",
       "</style>\n",
       "<table border=\"1\" class=\"dataframe\">\n",
       "  <thead>\n",
       "    <tr style=\"text-align: right;\">\n",
       "      <th></th>\n",
       "      <th>ENTITY</th>\n",
       "      <th>CIK</th>\n",
       "      <th>DATE</th>\n",
       "      <th>Assets</th>\n",
       "      <th>Liabilities</th>\n",
       "      <th>StockholdersEquity</th>\n",
       "      <th>AssetToLiabilityRatio</th>\n",
       "      <th>DebtToEquityRatio</th>\n",
       "      <th>Quarter</th>\n",
       "    </tr>\n",
       "  </thead>\n",
       "  <tbody>\n",
       "    <tr>\n",
       "      <th>0</th>\n",
       "      <td>THE BOEING COMPANY</td>\n",
       "      <td>12927</td>\n",
       "      <td>2008-12-31</td>\n",
       "      <td>53779.0</td>\n",
       "      <td>NaN</td>\n",
       "      <td>-1294.0</td>\n",
       "      <td>NaN</td>\n",
       "      <td>NaN</td>\n",
       "      <td>2008-Q5</td>\n",
       "    </tr>\n",
       "    <tr>\n",
       "      <th>1</th>\n",
       "      <td>THE BOEING COMPANY</td>\n",
       "      <td>12927</td>\n",
       "      <td>2009-12-31</td>\n",
       "      <td>62053.0</td>\n",
       "      <td>NaN</td>\n",
       "      <td>2128.0</td>\n",
       "      <td>NaN</td>\n",
       "      <td>NaN</td>\n",
       "      <td>2009-Q5</td>\n",
       "    </tr>\n",
       "  </tbody>\n",
       "</table>\n",
       "</div>"
      ],
      "text/plain": [
       "               ENTITY    CIK       DATE   Assets  Liabilities  \\\n",
       "0  THE BOEING COMPANY  12927 2008-12-31  53779.0          NaN   \n",
       "1  THE BOEING COMPANY  12927 2009-12-31  62053.0          NaN   \n",
       "\n",
       "   StockholdersEquity  AssetToLiabilityRatio  DebtToEquityRatio  Quarter  \n",
       "0             -1294.0                    NaN                NaN  2008-Q5  \n",
       "1              2128.0                    NaN                NaN  2009-Q5  "
      ]
     },
     "execution_count": 35,
     "metadata": {},
     "output_type": "execute_result"
    }
   ],
   "source": [
    "df_copy.head(2)"
   ]
  },
  {
   "cell_type": "markdown",
   "id": "911cf03e-2324-4222-8b0e-54a80d8a1905",
   "metadata": {},
   "source": [
    "# Visualization"
   ]
  },
  {
   "cell_type": "code",
   "execution_count": 38,
   "id": "d061400c-400a-4974-a552-cff111ff7922",
   "metadata": {},
   "outputs": [
    {
     "data": {
      "image/png": "[encoded data removed]",
      "text/plain": [
       "<Figure size 640x480 with 1 Axes>"
      ]
     },
     "metadata": {},
     "output_type": "display_data"
    }
   ],
   "source": [
    "# Plotting Asset to Liability Ratio\n",
    "plt.plot(df_copy['DATE'], df_copy['AssetToLiabilityRatio'], marker='o', label='Asset to Liability Ratio')\n",
    "plt.title('Asset to Liability Ratio Over Time')\n",
    "plt.xlabel('Year')\n",
    "plt.ylabel('Asset to Liability Ratio')\n",
    "plt.grid(True)\n",
    "plt.legend()\n",
    "\n",
    "plt.show()\n"
   ]
  },
  {
   "cell_type": "code",
   "execution_count": 41,
   "id": "1fa7ab1f-a7db-40c7-af89-8d4aa09ce236",
   "metadata": {},
   "outputs": [
    {
     "data": {
      "image/png": "[encoded data removed]",
      "text/plain": [
       "<Figure size 640x480 with 1 Axes>"
      ]
     },
     "metadata": {},
     "output_type": "display_data"
    }
   ],
   "source": [
    "# Plotting Debt to Equity Ratio\n",
    "plt.plot(df_copy['DATE'], df_copy['DebtToEquityRatio'], marker='o', color='red', label='Debt to Equity Ratio')\n",
    "plt.title('Debt to Equity Ratio Over Time')\n",
    "plt.xlabel('Year')\n",
    "plt.ylabel('Debt to Equity Ratio')\n",
    "plt.grid(True)\n",
    "plt.legend()\n",
    "\n",
    "plt.show()"
   ]
  }
 ],
 "metadata": {
  "kernelspec": {
   "display_name": "Python 3 (ipykernel)",
   "language": "python",
   "name": "python3"
  },
  "language_info": {
   "codemirror_mode": {
    "name": "ipython",
    "version": 3
   },
   "file_extension": ".py",
   "mimetype": "text/x-python",
   "name": "python",
   "nbconvert_exporter": "python",
   "pygments_lexer": "ipython3",
   "version": "3.11.6"
  }
 },
 "nbformat": 4,
 "nbformat_minor": 5
}
