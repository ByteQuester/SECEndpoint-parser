{
 "cells": [
  {
   "cell_type": "markdown",
   "id": "da322637-f96e-4e3e-9bf1-2f97f182f204",
   "metadata": {},
   "source": [
    "# 06_Cash_Flow_Analysis.ipynb"
   ]
  },
  {
   "cell_type": "markdown",
   "id": "5b058a0f-ae12-40c3-8791-14b85e3774e8",
   "metadata": {},
   "source": [
    "## Title: \"Cash Flow Analysis\""
   ]
  },
  {
   "cell_type": "markdown",
   "id": "6bfb71ca-02a4-4668-81a6-8619777c9b72",
   "metadata": {},
   "source": [
    "### Contents:\n",
    "\n",
    "- Exploring cash flow data from SEC.\n",
    "- Comparison with cash_flow_query.sql.\n",
    "- Cash flow analysis and forecasting.\n",
    "- Visual representations and implications."
   ]
  }
 ],
 "metadata": {
  "kernelspec": {
   "display_name": "Python 3 (ipykernel)",
   "language": "python",
   "name": "python3"
  },
  "language_info": {
   "codemirror_mode": {
    "name": "ipython",
    "version": 3
   },
   "file_extension": ".py",
   "mimetype": "text/x-python",
   "name": "python",
   "nbconvert_exporter": "python",
   "pygments_lexer": "ipython3",
   "version": "3.11.6"
  }
 },
 "nbformat": 4,
 "nbformat_minor": 5
}
